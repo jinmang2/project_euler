{
 "cells": [
  {
   "cell_type": "code",
   "execution_count": 1,
   "metadata": {},
   "outputs": [],
   "source": [
    "import sys\n",
    "import numpy as np\n",
    "from itertools import product, permutations\n",
    "from math import sqrt\n",
    "from tqdm import tqdm\n",
    "from functools import reduce\n",
    "from collections import defaultdict"
   ]
  },
  {
   "cell_type": "markdown",
   "metadata": {},
   "source": [
    "# Problem 1\n",
    "### 1000보다 작은 자연수 중에서 3 또는 5의 배수를 모두 더하면?\n",
    "```\n",
    "10보다 작은 자연수 중에서 3 또는 5의 배수는 3, 5, 6, 9 이고, 이것을 모두 더하면 23입니다.\n",
    "\n",
    "1000보다 작은 자연수 중에서 3 또는 5의 배수를 모두 더하면 얼마일까요?\n",
    "```"
   ]
  },
  {
   "cell_type": "code",
   "execution_count": 548,
   "metadata": {},
   "outputs": [
    {
     "data": {
      "text/plain": [
       "233168"
      ]
     },
     "execution_count": 548,
     "metadata": {},
     "output_type": "execute_result"
    }
   ],
   "source": [
    "total = sum([x for x in range(1000) if ((x % 5 == 0) or (x % 3 == 0))])\n",
    "total"
   ]
  },
  {
   "cell_type": "markdown",
   "metadata": {},
   "source": [
    "# Problem 2\n",
    "### 피보나치 수열에서 4백만 이하이면서 짝수인 항의 합\n",
    "```\n",
    "피보나치(Fibonacci) 수열의 각 항은 바로 앞의 항 두 개를 더한 것입니다. 1과 2로 시작하는 경우 이 수열은 아래와 같습니다.\n",
    "\n",
    "1, 2, 3, 5, 8, 13, 21, 34, 55, 89, ...\n",
    "4백만 이하의 짝수 값을 갖는 모든 피보나치 항을 더하면 얼마가 됩니까?\n",
    "```"
   ]
  },
  {
   "cell_type": "code",
   "execution_count": 33,
   "metadata": {},
   "outputs": [],
   "source": [
    "def memoize(func):\n",
    "    tempMemo = dict()\n",
    "    def wrapped(n):\n",
    "        if n in tempMemo:\n",
    "            return tempMemo[n]\n",
    "        result = func(n)\n",
    "        tempMemo[n] = result\n",
    "        return result\n",
    "    return wrapped\n",
    "\n",
    "\n",
    "@memoize\n",
    "def fib(n):\n",
    "    if n in (1, 2):\n",
    "        return 1\n",
    "    return fib(n-1) + fib(n-2)"
   ]
  },
  {
   "cell_type": "code",
   "execution_count": 62,
   "metadata": {},
   "outputs": [
    {
     "name": "stdout",
     "output_type": "stream",
     "text": [
      "4613732.0\n",
      "Wall time: 0 ns\n"
     ]
    }
   ],
   "source": [
    "%%time\n",
    "n = 3\n",
    "r = 3 # 3 번째 항마다 짝수가 나옴\n",
    "\n",
    "a = 0.\n",
    "\n",
    "while fib(n) < 4e6:\n",
    "    a += fib(n)\n",
    "    n += r\n",
    "    \n",
    "print(a)"
   ]
  },
  {
   "cell_type": "markdown",
   "metadata": {},
   "source": [
    "# Problem 3\n",
    "\n",
    "### 가장 큰 소인수 구하기\n",
    "```\n",
    "어떤 수를 소수의 곱으로만 나타내는 것을 소인수분해라 하고, 이 소수들을 그 수의 소인수라고 합니다.\n",
    "예를 들면 13195의 소인수는 5, 7, 13, 29 입니다.\n",
    "\n",
    "600851475143의 소인수 중에서 가장 큰 수를 구하세요.\n",
    "```"
   ]
  },
  {
   "cell_type": "code",
   "execution_count": 3,
   "metadata": {},
   "outputs": [],
   "source": [
    "def is_prime(n):\n",
    "    return all([(n%j) for j in range(2, int(n**0.5)+1)]) and n>1"
   ]
  },
  {
   "cell_type": "code",
   "execution_count": 147,
   "metadata": {},
   "outputs": [
    {
     "name": "stdout",
     "output_type": "stream",
     "text": [
      "6857\n",
      "Wall time: 18 ms\n"
     ]
    }
   ],
   "source": [
    "%%time\n",
    "\n",
    "val = 600851475143\n",
    "\n",
    "# 함수 수정 필요함.\n",
    "# 이 문제에 한정된 함수\n",
    "def find_prime_factors(val):\n",
    "    n = 2\n",
    "    prime_factors = []\n",
    "    while True:\n",
    "        if is_prime(n):\n",
    "            if val % n == 0:\n",
    "                val = val // n\n",
    "                prime_factors.append(n)\n",
    "        if val == 1:\n",
    "            break\n",
    "        n += 1\n",
    "    return prime_factors, n\n",
    "\n",
    "prime_factors, n = find_prime_factors(val)\n",
    "print(n)"
   ]
  },
  {
   "cell_type": "code",
   "execution_count": 140,
   "metadata": {},
   "outputs": [
    {
     "data": {
      "text/plain": [
       "[71, 839, 1471, 6857]"
      ]
     },
     "execution_count": 140,
     "metadata": {},
     "output_type": "execute_result"
    }
   ],
   "source": [
    "prime_factors"
   ]
  },
  {
   "cell_type": "code",
   "execution_count": 89,
   "metadata": {},
   "outputs": [
    {
     "data": {
      "text/plain": [
       "600851475143"
      ]
     },
     "execution_count": 89,
     "metadata": {},
     "output_type": "execute_result"
    }
   ],
   "source": [
    "71 * 839 * 1471 * 6857 # is same to val"
   ]
  },
  {
   "cell_type": "markdown",
   "metadata": {},
   "source": [
    "# Problem 4\n",
    "\n",
    "### 세자리 수를 곱해 만들 수 있는 가장 큰 대칭수\n",
    "\n",
    "```\n",
    "앞에서부터 읽을 때나 뒤에서부터 읽을 때나 모양이 같은 수를 대칭수(palindrome)라고 부릅니다.\n",
    "\n",
    "두 자리 수를 곱해 만들 수 있는 대칭수 중 가장 큰 수는 9009 (= 91 × 99) 입니다.\n",
    "\n",
    "세 자리 수를 곱해 만들 수 있는 가장 큰 대칭수는 얼마입니까?\n",
    "```"
   ]
  },
  {
   "cell_type": "code",
   "execution_count": 131,
   "metadata": {},
   "outputs": [
    {
     "name": "stdout",
     "output_type": "stream",
     "text": [
      "Wall time: 430 ms\n"
     ]
    }
   ],
   "source": [
    "%%time\n",
    "results = []\n",
    "for i in range(999, 100, -1):\n",
    "    for j in range(999, 100, -1):\n",
    "        val = str(i*j)\n",
    "        adj = 1 if len(val) == 5 else 0\n",
    "        if val[:len(val)//2] == val[len(val)//2+adj:][::-1]:\n",
    "            results.append(int(val))\n",
    "            break"
   ]
  },
  {
   "cell_type": "code",
   "execution_count": 134,
   "metadata": {},
   "outputs": [
    {
     "data": {
      "text/plain": [
       "906609"
      ]
     },
     "execution_count": 134,
     "metadata": {},
     "output_type": "execute_result"
    }
   ],
   "source": [
    "max(results)"
   ]
  },
  {
   "cell_type": "markdown",
   "metadata": {},
   "source": [
    "# Problem 5\n",
    "### 1 ~ 20 사이의 어떤 수로도 나누어 떨어지는 가장 작은 수\n",
    "\n",
    "```\n",
    "1 ~ 10 사이의 어떤 수로도 나누어 떨어지는 가장 작은 수는 2520입니다.\n",
    "\n",
    "그러면 1 ~ 20 사이의 어떤 수로도 나누어 떨어지는 가장 작은 수는 얼마입니까?\n",
    "```"
   ]
  },
  {
   "cell_type": "code",
   "execution_count": 1180,
   "metadata": {},
   "outputs": [
    {
     "data": {
      "text/plain": [
       "defaultdict(int, {2: 4, 3: 2, 5: 1, 7: 1, 11: 1, 13: 1, 17: 1, 19: 1})"
      ]
     },
     "execution_count": 1180,
     "metadata": {},
     "output_type": "execute_result"
    }
   ],
   "source": [
    "prime_factorization(232792560, ret=defaultdict(int)) # 크..."
   ]
  },
  {
   "cell_type": "code",
   "execution_count": 158,
   "metadata": {},
   "outputs": [
    {
     "data": {
      "text/plain": [
       "232792560"
      ]
     },
     "execution_count": 158,
     "metadata": {},
     "output_type": "execute_result"
    }
   ],
   "source": [
    "# 1~20을 생성할 수만 있으면 ㅇㅋ\n",
    "# 함수로 짤 수 있을 것 같은데 나중에 시간되면 짜보기\n",
    "np.prod([2 ** 4, 3 ** 2, 5, 7, 11, 13, 17, 19])"
   ]
  },
  {
   "cell_type": "markdown",
   "metadata": {},
   "source": [
    "# Problem 6\n",
    "\n",
    "### 1부터 100까지 \"제곱의 합\"과 \"합의 제곱\"의 차는?\n",
    "\n",
    "```\n",
    "1부터 10까지 자연수를 각각 제곱해 더하면 다음과 같습니다 (제곱의 합).\n",
    "\n",
    "12 + 22 + ... + 102 = 385\n",
    "1부터 10을 먼저 더한 다음에 그 결과를 제곱하면 다음과 같습니다 (합의 제곱).\n",
    "\n",
    "(1 + 2 + ... + 10)2 = 552 = 3025\n",
    "따라서 1부터 10까지 자연수에 대해 \"합의 제곱\"과 \"제곱의 합\" 의 차이는 3025 - 385 = 2640 이 됩니다.\n",
    "\n",
    "그러면 1부터 100까지 자연수에 대해 \"합의 제곱\"과 \"제곱의 합\"의 차이는 얼마입니까?\n",
    "```"
   ]
  },
  {
   "cell_type": "code",
   "execution_count": 169,
   "metadata": {},
   "outputs": [
    {
     "data": {
      "text/plain": [
       "25164150"
      ]
     },
     "execution_count": 169,
     "metadata": {},
     "output_type": "execute_result"
    }
   ],
   "source": [
    "np.sum(np.arange(1, 101)) ** 2 - np.sum(np.arange(1, 101) ** 2)"
   ]
  },
  {
   "cell_type": "markdown",
   "metadata": {},
   "source": [
    "# Problem 7\n",
    "### 10001번째의 소수\n",
    "```\n",
    "소수를 크기 순으로 나열하면 2, 3, 5, 7, 11, 13, ... 과 같이 됩니다.\n",
    "\n",
    "이 때 10,001번째의 소수를 구하세요.\n",
    "```"
   ]
  },
  {
   "cell_type": "code",
   "execution_count": 174,
   "metadata": {},
   "outputs": [
    {
     "name": "stdout",
     "output_type": "stream",
     "text": [
      "Wall time: 843 ms\n"
     ]
    }
   ],
   "source": [
    "%%time\n",
    "prime = 0\n",
    "count = 0\n",
    "n = 1\n",
    "while count < 10001:\n",
    "    if is_prime(n):\n",
    "        prime = n\n",
    "        count += 1\n",
    "    n += 1"
   ]
  },
  {
   "cell_type": "markdown",
   "metadata": {},
   "source": [
    "# Problem 8\n",
    "### 1000자리 수 안에서 이어지는 5개 숫자의 곱 중 최댓값은?"
   ]
  },
  {
   "cell_type": "code",
   "execution_count": 181,
   "metadata": {},
   "outputs": [],
   "source": [
    "s = \"\"\"\n",
    "73167176531330624919225119674426574742355349194934\n",
    "96983520312774506326239578318016984801869478851843\n",
    "85861560789112949495459501737958331952853208805511\n",
    "12540698747158523863050715693290963295227443043557\n",
    "66896648950445244523161731856403098711121722383113\n",
    "62229893423380308135336276614282806444486645238749\n",
    "30358907296290491560440772390713810515859307960866\n",
    "70172427121883998797908792274921901699720888093776\n",
    "65727333001053367881220235421809751254540594752243\n",
    "52584907711670556013604839586446706324415722155397\n",
    "53697817977846174064955149290862569321978468622482\n",
    "83972241375657056057490261407972968652414535100474\n",
    "82166370484403199890008895243450658541227588666881\n",
    "16427171479924442928230863465674813919123162824586\n",
    "17866458359124566529476545682848912883142607690042\n",
    "24219022671055626321111109370544217506941658960408\n",
    "07198403850962455444362981230987879927244284909188\n",
    "84580156166097919133875499200524063689912560717606\n",
    "05886116467109405077541002256983155200055935729725\n",
    "71636269561882670428252483600823257530420752963450\n",
    "\"\"\"\n",
    "\n",
    "s = ''.join(s.split('\\n'))"
   ]
  },
  {
   "cell_type": "code",
   "execution_count": 190,
   "metadata": {},
   "outputs": [
    {
     "name": "stdout",
     "output_type": "stream",
     "text": [
      "Wall time: 6.01 ms\n"
     ]
    },
    {
     "data": {
      "text/plain": [
       "40824"
      ]
     },
     "execution_count": 190,
     "metadata": {},
     "output_type": "execute_result"
    }
   ],
   "source": [
    "%%time\n",
    "window = 5\n",
    "results = []\n",
    "for i in range(len(s)-5):\n",
    "    results.append(np.prod([int(j) for j in s[i:i+window]]))\n",
    "max(results)"
   ]
  },
  {
   "cell_type": "markdown",
   "metadata": {},
   "source": [
    "# Problem 9\n",
    "\n",
    "### a + b + c = 1000 이 되는 피타고라스 수\n",
    "\n",
    "```\n",
    "세 자연수 a, b, c 가 피타고라스 정리 a^2 + b^2 = c^2 를 만족하면 피타고라스 수라고 부릅니다 (여기서 a < b < c ).\n",
    "예를 들면 3^2 + 4^2 = 9 + 16 = 25 = 5^2이므로 3, 4, 5는 피타고라스 수입니다.\n",
    "\n",
    "a + b + c = 1000 인 피타고라스 수 a, b, c는 한 가지 뿐입니다. 이 때, a × b × c 는 얼마입니까?\n",
    "```"
   ]
  },
  {
   "cell_type": "code",
   "execution_count": 392,
   "metadata": {},
   "outputs": [],
   "source": [
    "# Unique Solution이 존재\n",
    "# 이 말인 즉슨 loss=0으로 만드는 global optima가 존재한다는 얘기\n",
    "\n",
    "# Monte Carlo 및 Deep Learning으로 풀 수 있을지 고려하자!\n",
    "# 일단은 하드 코딩으로 문제 해결"
   ]
  },
  {
   "cell_type": "code",
   "execution_count": 426,
   "metadata": {},
   "outputs": [],
   "source": [
    "axis = np.linspace(1, 1000, 1000)\n",
    "a, b = np.meshgrid(axis, axis)\n",
    "c = 1000 - a - b\n",
    "ind = c > 0\n",
    "\n",
    "a = a[ind]\n",
    "b = b[ind]\n",
    "c = c[ind]"
   ]
  },
  {
   "cell_type": "code",
   "execution_count": 431,
   "metadata": {},
   "outputs": [
    {
     "data": {
      "text/plain": [
       "array([375., 200.])"
      ]
     },
     "execution_count": 431,
     "metadata": {},
     "output_type": "execute_result"
    }
   ],
   "source": [
    "a[a ** 2 + b ** 2 == c ** 2]"
   ]
  },
  {
   "cell_type": "code",
   "execution_count": 432,
   "metadata": {},
   "outputs": [
    {
     "data": {
      "text/plain": [
       "array([425., 425.])"
      ]
     },
     "execution_count": 432,
     "metadata": {},
     "output_type": "execute_result"
    }
   ],
   "source": [
    "c[a ** 2 + b ** 2 == c ** 2]"
   ]
  },
  {
   "cell_type": "code",
   "execution_count": 433,
   "metadata": {},
   "outputs": [
    {
     "data": {
      "text/plain": [
       "True"
      ]
     },
     "execution_count": 433,
     "metadata": {},
     "output_type": "execute_result"
    }
   ],
   "source": [
    "200 ** 2 + 375 ** 2 == 425 ** 2"
   ]
  },
  {
   "cell_type": "code",
   "execution_count": 434,
   "metadata": {},
   "outputs": [
    {
     "data": {
      "text/plain": [
       "31875000"
      ]
     },
     "execution_count": 434,
     "metadata": {},
     "output_type": "execute_result"
    }
   ],
   "source": [
    "200 * 375 * 425"
   ]
  },
  {
   "cell_type": "markdown",
   "metadata": {},
   "source": [
    "# Problem 10\n",
    "### 이백만 이하 소수의 합\n",
    "```\n",
    "10 이하의 소수를 모두 더하면 2 + 3 + 5 + 7 = 17 이 됩니다.\n",
    "\n",
    "이백만(2,000,000) 이하 소수의 합은 얼마입니까?\n",
    "```"
   ]
  },
  {
   "cell_type": "code",
   "execution_count": 437,
   "metadata": {},
   "outputs": [
    {
     "name": "stderr",
     "output_type": "stream",
     "text": [
      "100%|█████████████████████████████| 2000000/2000000 [01:22<00:00, 24220.41it/s]\n"
     ]
    }
   ],
   "source": [
    "result = 0\n",
    "for i in tqdm(range(1, int(2e6)+1)):\n",
    "    if is_prime(i):\n",
    "        result += i"
   ]
  },
  {
   "cell_type": "code",
   "execution_count": 438,
   "metadata": {},
   "outputs": [
    {
     "data": {
      "text/plain": [
       "142913828922"
      ]
     },
     "execution_count": 438,
     "metadata": {},
     "output_type": "execute_result"
    }
   ],
   "source": [
    "result"
   ]
  },
  {
   "cell_type": "markdown",
   "metadata": {},
   "source": [
    "# Problem 11\n",
    "### 20×20 격자에서 연속된 네 수의 곱 중 최댓값"
   ]
  },
  {
   "cell_type": "code",
   "execution_count": 452,
   "metadata": {},
   "outputs": [],
   "source": [
    "s = \"\"\"\n",
    "08 02 22 97 38 15 00 40 00 75 04 05 07 78 52 12 50 77 91 08\n",
    "49 49 99 40 17 81 18 57 60 87 17 40 98 43 69 48 04 56 62 00\n",
    "81 49 31 73 55 79 14 29 93 71 40 67 53 88 30 03 49 13 36 65\n",
    "52 70 95 23 04 60 11 42 69 24 68 56 01 32 56 71 37 02 36 91\n",
    "22 31 16 71 51 67 63 89 41 92 36 54 22 40 40 28 66 33 13 80\n",
    "24 47 32 60 99 03 45 02 44 75 33 53 78 36 84 20 35 17 12 50\n",
    "32 98 81 28 64 23 67 10 26 38 40 67 59 54 70 66 18 38 64 70\n",
    "67 26 20 68 02 62 12 20 95 63 94 39 63 08 40 91 66 49 94 21\n",
    "24 55 58 05 66 73 99 26 97 17 78 78 96 83 14 88 34 89 63 72\n",
    "21 36 23 09 75 00 76 44 20 45 35 14 00 61 33 97 34 31 33 95\n",
    "78 17 53 28 22 75 31 67 15 94 03 80 04 62 16 14 09 53 56 92\n",
    "16 39 05 42 96 35 31 47 55 58 88 24 00 17 54 24 36 29 85 57\n",
    "86 56 00 48 35 71 89 07 05 44 44 37 44 60 21 58 51 54 17 58\n",
    "19 80 81 68 05 94 47 69 28 73 92 13 86 52 17 77 04 89 55 40\n",
    "04 52 08 83 97 35 99 16 07 97 57 32 16 26 26 79 33 27 98 66\n",
    "88 36 68 87 57 62 20 72 03 46 33 67 46 55 12 32 63 93 53 69\n",
    "04 42 16 73 38 25 39 11 24 94 72 18 08 46 29 32 40 62 76 36\n",
    "20 69 36 41 72 30 23 88 34 62 99 69 82 67 59 85 74 04 36 16\n",
    "20 73 35 29 78 31 90 01 74 31 49 71 48 86 81 16 23 57 05 54\n",
    "01 70 54 71 83 51 54 69 16 92 33 48 61 43 52 01 89 19 67 48\n",
    "\"\"\""
   ]
  },
  {
   "cell_type": "code",
   "execution_count": 466,
   "metadata": {},
   "outputs": [],
   "source": [
    "arr = np.array(\n",
    "    list(\n",
    "        map(\n",
    "            lambda x: [int(i) for i in x.split(' ')], \n",
    "            s.split('\\n')[1:-1]\n",
    "        )\n",
    "    )\n",
    ")"
   ]
  },
  {
   "cell_type": "code",
   "execution_count": 546,
   "metadata": {},
   "outputs": [
    {
     "name": "stdout",
     "output_type": "stream",
     "text": [
      "Wall time: 2 ms\n"
     ]
    },
    {
     "data": {
      "text/plain": [
       "70600674"
      ]
     },
     "execution_count": 546,
     "metadata": {},
     "output_type": "execute_result"
    }
   ],
   "source": [
    "%%time\n",
    "results = []\n",
    "for i in range(20-4):\n",
    "    results.extend(np.prod(arr[:, i:i+4], axis=1)) # horizontal\n",
    "    results.extend(np.prod(arr.T[:, i:i+4], axis=1)) # vertical\n",
    "for k in range(-16, 17):\n",
    "    temp1 = np.diag(arr, k=k)\n",
    "    temp2 = np.diag(arr[:, ::-1], k=k)\n",
    "    for i in range(temp1.shape[0]-4+1):\n",
    "        res1 = np.prod(temp1[i:i+4])\n",
    "        res2 = np.prod(temp2[i:i+4])\n",
    "        if isinstance(res1, np.int32):\n",
    "            res1 = [res1]\n",
    "        if isinstance(res2, np.int32):\n",
    "            res2 = [res2]\n",
    "        results.extend(res1)\n",
    "        results.extend(res2)\n",
    "max(results)"
   ]
  },
  {
   "cell_type": "markdown",
   "metadata": {},
   "source": [
    "# Problem 12\n",
    "### 500개 이상의 약수를 갖는 가장 작은 삼각수는?\n",
    "\n",
    "```\n",
    "1부터 n까지의 자연수를 차례로 더하여 구해진 값을 삼각수라고 합니다.\n",
    "예를 들어 7번째 삼각수는 1 + 2 + 3 + 4 + 5 + 6 + 7 = 28이 됩니다.\n",
    "이런 식으로 삼각수를 구해 나가면 다음과 같습니다.\n",
    "\n",
    "1, 3, 6, 10, 15, 21, 28, 36, 45, 55, ...\n",
    "이 삼각수들의 약수를 구해 봅시다.\n",
    "\n",
    " 1: 1\n",
    " 3: 1, 3\n",
    " 6: 1, 2, 3, 6\n",
    "10: 1, 2, 5, 10\n",
    "15: 1, 3, 5, 15\n",
    "21: 1, 3, 7, 21\n",
    "28: 1, 2, 4, 7, 14, 28\n",
    "위에서 보듯이, 5개 이상의 약수를 갖는 첫번째 삼각수는 28입니다.\n",
    "\n",
    "그러면 500개 이상의 약수를 갖는 가장 작은 삼각수는 얼마입니까?\n",
    "```"
   ]
  },
  {
   "cell_type": "code",
   "execution_count": 1140,
   "metadata": {},
   "outputs": [],
   "source": [
    "# Elliptic Curve Method는 차후 구현\n",
    "# find_prime_factors 함수를 확장\n",
    "\n",
    "\n",
    "def prime_factorization(val, n=1, ret=defaultdict(int)):\n",
    "    while val > n:\n",
    "        if is_prime(n):\n",
    "            if val % n == 0:\n",
    "                val //= n\n",
    "                ret[n] += 1\n",
    "                return prime_factorization(val, n, ret)\n",
    "        n += 1\n",
    "    ret[n] += 1\n",
    "    return ret"
   ]
  },
  {
   "cell_type": "code",
   "execution_count": 1141,
   "metadata": {},
   "outputs": [
    {
     "data": {
      "text/plain": [
       "defaultdict(int, {2: 2, 3: 2, 5: 3, 7: 1, 11: 1, 13: 1, 17: 1})"
      ]
     },
     "execution_count": 1141,
     "metadata": {},
     "output_type": "execute_result"
    }
   ],
   "source": [
    "prime_factorization(76576500, ret=defaultdict(int))"
   ]
  },
  {
   "cell_type": "code",
   "execution_count": 1135,
   "metadata": {},
   "outputs": [
    {
     "name": "stdout",
     "output_type": "stream",
     "text": [
      "76576500\n",
      "Wall time: 4.58 s\n"
     ]
    }
   ],
   "source": [
    "%%time\n",
    "\n",
    "a = 2\n",
    "number = 1\n",
    "while True:\n",
    "    divides = 0\n",
    "    for i in range(1 , int(sqrt(number)+1)):\n",
    "        if number % i == 0:\n",
    "            divides += 1\n",
    "    divides *= 2\n",
    "    if divides >= 500:\n",
    "        print(number)\n",
    "        break\n",
    "    number += a\n",
    "    a += 1"
   ]
  },
  {
   "cell_type": "markdown",
   "metadata": {},
   "source": [
    "# Problem 13\n",
    "### 50자리 수 100개를 더한 값의 첫 10자리 구하기\n",
    "```\n",
    "아래에 50자리 수가 100개 있습니다. 이것을 모두 더한 값의 첫 10자리는 얼마입니까?\n",
    "```"
   ]
  },
  {
   "cell_type": "code",
   "execution_count": 2,
   "metadata": {},
   "outputs": [],
   "source": [
    "s = \"\"\"\n",
    "37107287533902102798797998220837590246510135740250\n",
    "46376937677490009712648124896970078050417018260538\n",
    "74324986199524741059474233309513058123726617309629\n",
    "91942213363574161572522430563301811072406154908250\n",
    "23067588207539346171171980310421047513778063246676\n",
    "89261670696623633820136378418383684178734361726757\n",
    "28112879812849979408065481931592621691275889832738\n",
    "44274228917432520321923589422876796487670272189318\n",
    "47451445736001306439091167216856844588711603153276\n",
    "70386486105843025439939619828917593665686757934951\n",
    "62176457141856560629502157223196586755079324193331\n",
    "64906352462741904929101432445813822663347944758178\n",
    "92575867718337217661963751590579239728245598838407\n",
    "58203565325359399008402633568948830189458628227828\n",
    "80181199384826282014278194139940567587151170094390\n",
    "35398664372827112653829987240784473053190104293586\n",
    "86515506006295864861532075273371959191420517255829\n",
    "71693888707715466499115593487603532921714970056938\n",
    "54370070576826684624621495650076471787294438377604\n",
    "53282654108756828443191190634694037855217779295145\n",
    "36123272525000296071075082563815656710885258350721\n",
    "45876576172410976447339110607218265236877223636045\n",
    "17423706905851860660448207621209813287860733969412\n",
    "81142660418086830619328460811191061556940512689692\n",
    "51934325451728388641918047049293215058642563049483\n",
    "62467221648435076201727918039944693004732956340691\n",
    "15732444386908125794514089057706229429197107928209\n",
    "55037687525678773091862540744969844508330393682126\n",
    "18336384825330154686196124348767681297534375946515\n",
    "80386287592878490201521685554828717201219257766954\n",
    "78182833757993103614740356856449095527097864797581\n",
    "16726320100436897842553539920931837441497806860984\n",
    "48403098129077791799088218795327364475675590848030\n",
    "87086987551392711854517078544161852424320693150332\n",
    "59959406895756536782107074926966537676326235447210\n",
    "69793950679652694742597709739166693763042633987085\n",
    "41052684708299085211399427365734116182760315001271\n",
    "65378607361501080857009149939512557028198746004375\n",
    "35829035317434717326932123578154982629742552737307\n",
    "94953759765105305946966067683156574377167401875275\n",
    "88902802571733229619176668713819931811048770190271\n",
    "25267680276078003013678680992525463401061632866526\n",
    "36270218540497705585629946580636237993140746255962\n",
    "24074486908231174977792365466257246923322810917141\n",
    "91430288197103288597806669760892938638285025333403\n",
    "34413065578016127815921815005561868836468420090470\n",
    "23053081172816430487623791969842487255036638784583\n",
    "11487696932154902810424020138335124462181441773470\n",
    "63783299490636259666498587618221225225512486764533\n",
    "67720186971698544312419572409913959008952310058822\n",
    "95548255300263520781532296796249481641953868218774\n",
    "76085327132285723110424803456124867697064507995236\n",
    "37774242535411291684276865538926205024910326572967\n",
    "23701913275725675285653248258265463092207058596522\n",
    "29798860272258331913126375147341994889534765745501\n",
    "18495701454879288984856827726077713721403798879715\n",
    "38298203783031473527721580348144513491373226651381\n",
    "34829543829199918180278916522431027392251122869539\n",
    "40957953066405232632538044100059654939159879593635\n",
    "29746152185502371307642255121183693803580388584903\n",
    "41698116222072977186158236678424689157993532961922\n",
    "62467957194401269043877107275048102390895523597457\n",
    "23189706772547915061505504953922979530901129967519\n",
    "86188088225875314529584099251203829009407770775672\n",
    "11306739708304724483816533873502340845647058077308\n",
    "82959174767140363198008187129011875491310547126581\n",
    "97623331044818386269515456334926366572897563400500\n",
    "42846280183517070527831839425882145521227251250327\n",
    "55121603546981200581762165212827652751691296897789\n",
    "32238195734329339946437501907836945765883352399886\n",
    "75506164965184775180738168837861091527357929701337\n",
    "62177842752192623401942399639168044983993173312731\n",
    "32924185707147349566916674687634660915035914677504\n",
    "99518671430235219628894890102423325116913619626622\n",
    "73267460800591547471830798392868535206946944540724\n",
    "76841822524674417161514036427982273348055556214818\n",
    "97142617910342598647204516893989422179826088076852\n",
    "87783646182799346313767754307809363333018982642090\n",
    "10848802521674670883215120185883543223812876952786\n",
    "71329612474782464538636993009049310363619763878039\n",
    "62184073572399794223406235393808339651327408011116\n",
    "66627891981488087797941876876144230030984490851411\n",
    "60661826293682836764744779239180335110989069790714\n",
    "85786944089552990653640447425576083659976645795096\n",
    "66024396409905389607120198219976047599490197230297\n",
    "64913982680032973156037120041377903785566085089252\n",
    "16730939319872750275468906903707539413042652315011\n",
    "94809377245048795150954100921645863754710598436791\n",
    "78639167021187492431995700641917969777599028300699\n",
    "15368713711936614952811305876380278410754449733078\n",
    "40789923115535562561142322423255033685442488917353\n",
    "44889911501440648020369068063960672322193204149535\n",
    "41503128880339536053299340368006977710650566631954\n",
    "81234880673210146739058568557934581403627822703280\n",
    "82616570773948327592232845941706525094512325230608\n",
    "22918802058777319719839450180888072429661980811197\n",
    "77158542502016545090413245809786882778948721859617\n",
    "72107838435069186155435662884062257473692284509516\n",
    "20849603980134001723930671666823555245252804609722\n",
    "53503534226472524250874054075591789781264330331690\n",
    "\"\"\""
   ]
  },
  {
   "cell_type": "code",
   "execution_count": 14,
   "metadata": {},
   "outputs": [
    {
     "data": {
      "text/plain": [
       "'5537376230'"
      ]
     },
     "execution_count": 14,
     "metadata": {},
     "output_type": "execute_result"
    }
   ],
   "source": [
    "# 정수론 적으로 푸는 건 나중에 생각해보기 :)\n",
    "\n",
    "str(sum([int(i) for i in s.split('\\n')[1:-1]]))[:10]"
   ]
  },
  {
   "cell_type": "markdown",
   "metadata": {},
   "source": [
    "# Problem 14\n",
    "### 백만 이하로 시작하는 우박수 중 가장 긴 과정을 거치는 것은?\n",
    "```\n",
    "양의 정수 n에 대하여, 다음과 같은 계산 과정을 반복하기로 합니다.\n",
    "\n",
    "n → n / 2 (n이 짝수일 때)\n",
    "n → 3 n + 1 (n이 홀수일 때)\n",
    "\n",
    "13에 대하여 위의 규칙을 적용해보면 아래처럼 10번의 과정을 통해 1이 됩니다.\n",
    "\n",
    "13 → 40 → 20 → 10 → 5 → 16 → 8 → 4 → 2 → 1\n",
    "아직 증명은 되지 않았지만, 이런 과정을 거치면 어떤 수로 시작해도 마지막에는 1로 끝나리라 생각됩니다. \n",
    "(역주: 이것은 콜라츠 추측 Collatz Conjecture이라고 하며, 이런 수들을 우박수 hailstone sequence라 부르기도 합니다)\n",
    "\n",
    "그러면, 백만(1,000,000) 이하의 수로 시작했을 때 1까지 도달하는데 가장 긴 과정을 거치는 수는 얼마입니까?\n",
    "\n",
    "참고: 계산 과정에는 백만을 넘어가는 수가 나와도 괜찮습니다.\n",
    "```"
   ]
  },
  {
   "cell_type": "code",
   "execution_count": 16,
   "metadata": {},
   "outputs": [],
   "source": [
    "def CollatzConjecture(n):\n",
    "    count = 0\n",
    "    while n != 1:\n",
    "        if n % 2 == 0:\n",
    "            n /= 2\n",
    "        else:\n",
    "            n = 3 * n + 1\n",
    "        count += 1\n",
    "    return count"
   ]
  },
  {
   "cell_type": "code",
   "execution_count": 19,
   "metadata": {},
   "outputs": [
    {
     "name": "stdout",
     "output_type": "stream",
     "text": [
      "Wall time: 22.7 s\n"
     ]
    }
   ],
   "source": [
    "%%time\n",
    "hailstone_seq_lengths = [CollatzConjecture(n) for n in range(2, int(1e6)+1)]"
   ]
  },
  {
   "cell_type": "code",
   "execution_count": 41,
   "metadata": {},
   "outputs": [
    {
     "data": {
      "text/plain": [
       "837799"
      ]
     },
     "execution_count": 41,
     "metadata": {},
     "output_type": "execute_result"
    }
   ],
   "source": [
    "np.argmax(hailstone_seq_lengths) + 2"
   ]
  },
  {
   "cell_type": "markdown",
   "metadata": {},
   "source": [
    "# Problem 15\n",
    "### 20x20 격자의 최상단에서 우하단으로 가는 경로의 수"
   ]
  },
  {
   "cell_type": "code",
   "execution_count": 50,
   "metadata": {},
   "outputs": [],
   "source": [
    "def memoize(func):\n",
    "    buffers = {}\n",
    "    def wrapped(n):\n",
    "        buffer = buffers.get(n)\n",
    "        if buffer is not None:\n",
    "            return buffer\n",
    "        return func(n)\n",
    "    return wrapped\n",
    "\n",
    "\n",
    "@memoize\n",
    "def factorial(n):\n",
    "    if n == 1:\n",
    "        return 1\n",
    "    return n * factorial(n-1)"
   ]
  },
  {
   "cell_type": "code",
   "execution_count": 57,
   "metadata": {},
   "outputs": [
    {
     "data": {
      "text/plain": [
       "137846528820.0"
      ]
     },
     "execution_count": 57,
     "metadata": {},
     "output_type": "execute_result"
    }
   ],
   "source": [
    "factorial(40) / factorial(20) / factorial(20)"
   ]
  },
  {
   "cell_type": "markdown",
   "metadata": {},
   "source": [
    "# Problem 16\n",
    "### 2^1000의 각 자릿수를 모두 더하면?"
   ]
  },
  {
   "cell_type": "code",
   "execution_count": 71,
   "metadata": {},
   "outputs": [
    {
     "data": {
      "text/plain": [
       "1366"
      ]
     },
     "execution_count": 71,
     "metadata": {},
     "output_type": "execute_result"
    }
   ],
   "source": [
    "sum(int(i) for i in str(2 ** 1000))"
   ]
  },
  {
   "cell_type": "markdown",
   "metadata": {},
   "source": [
    "# Problem 17\n",
    "### 1부터 1000까지 영어로 썼을 때 사용된 글자의 개수는?"
   ]
  },
  {
   "cell_type": "code",
   "execution_count": 8,
   "metadata": {},
   "outputs": [],
   "source": [
    "from num2words import num2words"
   ]
  },
  {
   "cell_type": "code",
   "execution_count": 23,
   "metadata": {},
   "outputs": [
    {
     "data": {
      "text/plain": [
       "21124"
      ]
     },
     "execution_count": 23,
     "metadata": {},
     "output_type": "execute_result"
    }
   ],
   "source": [
    "letters = [num2words(i) for i in range(1, 1001)]\n",
    "len(''.join(' '.join(letters).split(' ')).replace('-', ''))"
   ]
  },
  {
   "cell_type": "markdown",
   "metadata": {},
   "source": [
    "# Problem 18\n",
    "### 삼각형을 따라 내려가면서 합이 최대가 되는 경로 찾기"
   ]
  },
  {
   "cell_type": "code",
   "execution_count": 2,
   "metadata": {},
   "outputs": [],
   "source": [
    "s = \"\"\"\n",
    "75\n",
    "95 64\n",
    "17 47 82\n",
    "18 35 87 10\n",
    "20 04 82 47 65\n",
    "19 01 23 75 03 34\n",
    "88 02 77 73 07 63 67\n",
    "99 65 04 28 06 16 70 92\n",
    "41 41 26 56 83 40 80 70 33\n",
    "41 48 72 33 47 32 37 16 94 29\n",
    "53 71 44 65 25 43 91 52 97 51 14\n",
    "70 11 33 28 77 73 17 78 39 68 17 57\n",
    "91 71 52 38 17 14 91 43 58 50 27 29 48\n",
    "63 66 04 68 89 53 67 30 73 16 69 87 40 31\n",
    "04 62 98 27 23 09 70 98 73 93 38 53 60 04 23\n",
    "\"\"\""
   ]
  },
  {
   "cell_type": "code",
   "execution_count": 3,
   "metadata": {},
   "outputs": [
    {
     "data": {
      "text/plain": [
       "array([[75,  0,  0,  0,  0,  0,  0,  0,  0,  0,  0,  0,  0,  0,  0],\n",
       "       [95, 64,  0,  0,  0,  0,  0,  0,  0,  0,  0,  0,  0,  0,  0],\n",
       "       [17, 47, 82,  0,  0,  0,  0,  0,  0,  0,  0,  0,  0,  0,  0],\n",
       "       [18, 35, 87, 10,  0,  0,  0,  0,  0,  0,  0,  0,  0,  0,  0],\n",
       "       [20,  4, 82, 47, 65,  0,  0,  0,  0,  0,  0,  0,  0,  0,  0],\n",
       "       [19,  1, 23, 75,  3, 34,  0,  0,  0,  0,  0,  0,  0,  0,  0],\n",
       "       [88,  2, 77, 73,  7, 63, 67,  0,  0,  0,  0,  0,  0,  0,  0],\n",
       "       [99, 65,  4, 28,  6, 16, 70, 92,  0,  0,  0,  0,  0,  0,  0],\n",
       "       [41, 41, 26, 56, 83, 40, 80, 70, 33,  0,  0,  0,  0,  0,  0],\n",
       "       [41, 48, 72, 33, 47, 32, 37, 16, 94, 29,  0,  0,  0,  0,  0],\n",
       "       [53, 71, 44, 65, 25, 43, 91, 52, 97, 51, 14,  0,  0,  0,  0],\n",
       "       [70, 11, 33, 28, 77, 73, 17, 78, 39, 68, 17, 57,  0,  0,  0],\n",
       "       [91, 71, 52, 38, 17, 14, 91, 43, 58, 50, 27, 29, 48,  0,  0],\n",
       "       [63, 66,  4, 68, 89, 53, 67, 30, 73, 16, 69, 87, 40, 31,  0],\n",
       "       [ 4, 62, 98, 27, 23,  9, 70, 98, 73, 93, 38, 53, 60,  4, 23]])"
      ]
     },
     "execution_count": 3,
     "metadata": {},
     "output_type": "execute_result"
    }
   ],
   "source": [
    "s = s.split('\\n')[1:-1]\n",
    "tree = np.array([\n",
    "    [int(i) for i in li.split(' ')] + [0] * (len(s)-i) \n",
    "    for i, li in enumerate(s, start=1)\n",
    "])\n",
    "tree"
   ]
  },
  {
   "cell_type": "code",
   "execution_count": 4,
   "metadata": {},
   "outputs": [
    {
     "data": {
      "text/plain": [
       "(15, 15)"
      ]
     },
     "execution_count": 4,
     "metadata": {},
     "output_type": "execute_result"
    }
   ],
   "source": [
    "tree.shape"
   ]
  },
  {
   "cell_type": "code",
   "execution_count": 7,
   "metadata": {},
   "outputs": [],
   "source": [
    "# 아직 효율적으로 코드를 짜진 못하겠다.\n",
    "# 그래도 뭐... 일단 문제부터 풀어야지\n",
    "# 그리고, 웹에서 빠른 속도를 자랑하는 풀이들은 bottom-up\n",
    "# 그러나 앞으로 내가 풀 문제들 (ex> 강화학습)은 결과를 모름\n",
    "# 아닌가...? episode 탐색은 전부하니까 아는건가...\n",
    "# 여튼 뭐 일단 top-down식 검색 방식으로 풀어봄\n",
    "def TTExplore(tree):\n",
    "    window = tree.shape[0]\n",
    "    results = [[0]]\n",
    "    for i in range(window-1):\n",
    "        temp = []\n",
    "        for path in results:\n",
    "            temp.extend([path+[path[-1]], path+[path[-1]+1]])\n",
    "        results = temp\n",
    "    rowind = list(range(1, window))\n",
    "    maxval, ind = max(\n",
    "        [(tree[rowind, path[1:]].sum(), path[-1]) for path in results]\n",
    "    )\n",
    "    return maxval, ind, results"
   ]
  },
  {
   "cell_type": "code",
   "execution_count": 8,
   "metadata": {},
   "outputs": [
    {
     "name": "stdout",
     "output_type": "stream",
     "text": [
      "1074\n",
      "Wall time: 122 ms\n"
     ]
    }
   ],
   "source": [
    "%%time\n",
    "maxval, ind, results = TTExplore(tree)\n",
    "print(tree[0, 0] + maxval)"
   ]
  },
  {
   "cell_type": "code",
   "execution_count": 15,
   "metadata": {},
   "outputs": [
    {
     "data": {
      "text/plain": [
       "1074"
      ]
     },
     "execution_count": 15,
     "metadata": {},
     "output_type": "execute_result"
    }
   ],
   "source": [
    "tree[0, 0] + 999"
   ]
  },
  {
   "cell_type": "code",
   "execution_count": 22,
   "metadata": {},
   "outputs": [
    {
     "data": {
      "text/plain": [
       "1074"
      ]
     },
     "execution_count": 22,
     "metadata": {},
     "output_type": "execute_result"
    }
   ],
   "source": [
    "75+64+82+87+82+75+73+28+83+32+91+78+58+73+93"
   ]
  },
  {
   "cell_type": "code",
   "execution_count": 27,
   "metadata": {},
   "outputs": [
    {
     "data": {
      "text/plain": [
       "16384"
      ]
     },
     "execution_count": 27,
     "metadata": {},
     "output_type": "execute_result"
    }
   ],
   "source": [
    "2 ** 14"
   ]
  },
  {
   "cell_type": "code",
   "execution_count": 23,
   "metadata": {},
   "outputs": [
    {
     "data": {
      "text/plain": [
       "16384"
      ]
     },
     "execution_count": 23,
     "metadata": {},
     "output_type": "execute_result"
    }
   ],
   "source": [
    "len(results)"
   ]
  },
  {
   "cell_type": "code",
   "execution_count": 13,
   "metadata": {},
   "outputs": [
    {
     "data": {
      "text/plain": [
       "(999, [0, 1, 2, 2, 2, 3, 3, 3, 4, 5, 6, 7, 8, 8, 9])"
      ]
     },
     "execution_count": 13,
     "metadata": {},
     "output_type": "execute_result"
    }
   ],
   "source": [
    "rowind = list(range(1, tree.shape[0]))\n",
    "max([(tree[rowind, path[1:]].sum(), path) for path in results])"
   ]
  },
  {
   "cell_type": "markdown",
   "metadata": {},
   "source": [
    "#### 강화학습으로 풀어보자"
   ]
  },
  {
   "cell_type": "code",
   "execution_count": 28,
   "metadata": {},
   "outputs": [
    {
     "data": {
      "text/plain": [
       "array([[75,  0,  0,  0,  0,  0,  0,  0,  0,  0,  0,  0,  0,  0,  0],\n",
       "       [95, 64,  0,  0,  0,  0,  0,  0,  0,  0,  0,  0,  0,  0,  0],\n",
       "       [17, 47, 82,  0,  0,  0,  0,  0,  0,  0,  0,  0,  0,  0,  0],\n",
       "       [18, 35, 87, 10,  0,  0,  0,  0,  0,  0,  0,  0,  0,  0,  0],\n",
       "       [20,  4, 82, 47, 65,  0,  0,  0,  0,  0,  0,  0,  0,  0,  0],\n",
       "       [19,  1, 23, 75,  3, 34,  0,  0,  0,  0,  0,  0,  0,  0,  0],\n",
       "       [88,  2, 77, 73,  7, 63, 67,  0,  0,  0,  0,  0,  0,  0,  0],\n",
       "       [99, 65,  4, 28,  6, 16, 70, 92,  0,  0,  0,  0,  0,  0,  0],\n",
       "       [41, 41, 26, 56, 83, 40, 80, 70, 33,  0,  0,  0,  0,  0,  0],\n",
       "       [41, 48, 72, 33, 47, 32, 37, 16, 94, 29,  0,  0,  0,  0,  0],\n",
       "       [53, 71, 44, 65, 25, 43, 91, 52, 97, 51, 14,  0,  0,  0,  0],\n",
       "       [70, 11, 33, 28, 77, 73, 17, 78, 39, 68, 17, 57,  0,  0,  0],\n",
       "       [91, 71, 52, 38, 17, 14, 91, 43, 58, 50, 27, 29, 48,  0,  0],\n",
       "       [63, 66,  4, 68, 89, 53, 67, 30, 73, 16, 69, 87, 40, 31,  0],\n",
       "       [ 4, 62, 98, 27, 23,  9, 70, 98, 73, 93, 38, 53, 60,  4, 23]])"
      ]
     },
     "execution_count": 28,
     "metadata": {},
     "output_type": "execute_result"
    }
   ],
   "source": [
    "tree"
   ]
  },
  {
   "cell_type": "markdown",
   "metadata": {},
   "source": [
    "# Problem 19\n",
    "### 20세기에서, 매월 1일이 일요일인 경우는 몇 번?"
   ]
  },
  {
   "cell_type": "code",
   "execution_count": 35,
   "metadata": {},
   "outputs": [
    {
     "data": {
      "text/plain": [
       "dict_values([31, 28, 31, 30, 31, 30, 31, 31, 30, 31, 30, 31])"
      ]
     },
     "execution_count": 35,
     "metadata": {},
     "output_type": "execute_result"
    }
   ],
   "source": [
    "months.values()"
   ]
  },
  {
   "cell_type": "code",
   "execution_count": 37,
   "metadata": {},
   "outputs": [
    {
     "name": "stdout",
     "output_type": "stream",
     "text": [
      "171\n"
     ]
    }
   ],
   "source": [
    "year = 1901\n",
    "\n",
    "months = {\n",
    "    month:days \n",
    "    for month, days in zip(\n",
    "        range(1,13), [31, 28, 31, 30, 31, 30, 31, 31, 30, 31, 30, 31]\n",
    "    )\n",
    "}\n",
    "\n",
    "day_of_the_week = 0\n",
    "\n",
    "leap_year = False\n",
    "\n",
    "results = 0\n",
    "\n",
    "while year < 2001:\n",
    "    if year % 4 == 0:\n",
    "        if year % 100 != 0 or year % 400 == 0:\n",
    "            months[2] = 29\n",
    "    for month, days in months.items():\n",
    "        for day in range(days):\n",
    "            if day == 1 and day_of_the_week == 6:\n",
    "                results += 1\n",
    "            day_of_the_week = (day_of_the_week + 1) % 7\n",
    "    year += 1\n",
    "    months[2] = 28\n",
    "print(results)"
   ]
  },
  {
   "cell_type": "markdown",
   "metadata": {},
   "source": [
    "# Problem 20\n",
    "### 100! 의 자릿수를 모두 더하면?"
   ]
  },
  {
   "cell_type": "code",
   "execution_count": 39,
   "metadata": {},
   "outputs": [],
   "source": [
    "def memoize(func):\n",
    "    buffers = {}\n",
    "    def wrapped(n):\n",
    "        buffer = buffers.get(n)\n",
    "        if buffer is not None:\n",
    "            return buffer\n",
    "        return func(n)\n",
    "    return wrapped\n",
    "\n",
    "\n",
    "@memoize\n",
    "def factorial(n):\n",
    "    if n == 1:\n",
    "        return 1\n",
    "    return n * factorial(n-1)"
   ]
  },
  {
   "cell_type": "code",
   "execution_count": 44,
   "metadata": {},
   "outputs": [
    {
     "data": {
      "text/plain": [
       "648"
      ]
     },
     "execution_count": 44,
     "metadata": {},
     "output_type": "execute_result"
    }
   ],
   "source": [
    "sum(int(i) for i in list(str(factorial(100))))"
   ]
  },
  {
   "cell_type": "markdown",
   "metadata": {},
   "source": [
    "# Problem 21\n",
    "### 10000 이하 모든 친화수(우애수)의 합은?"
   ]
  },
  {
   "cell_type": "code",
   "execution_count": 2,
   "metadata": {},
   "outputs": [],
   "source": [
    "def is_prime(n):\n",
    "    return all([(n%j) for j in range(2, int(n**0.5)+1)]) and n>1\n",
    "\n",
    "\n",
    "def prime_factorization(val, n=1, ret=defaultdict(int)):\n",
    "    while val > n:\n",
    "        if is_prime(n):\n",
    "            if val % n == 0:\n",
    "                val //= n\n",
    "                ret[n] += 1\n",
    "                return prime_factorization(val, n, ret)\n",
    "        n += 1\n",
    "    ret[n] += 1\n",
    "    return ret"
   ]
  },
  {
   "cell_type": "code",
   "execution_count": 3,
   "metadata": {},
   "outputs": [],
   "source": [
    "# 이 코드는 굉장히 비 효율적.\n",
    "# 23번 문제에서 바꾼 코드로 변경!\n",
    "def sum_divisors(factored_n, involve_self=False):\n",
    "    results = 1\n",
    "    if isinstance(factored_n, int):\n",
    "        factored_n = prime_factorization(factored_n, ret=defaultdict(int))\n",
    "    n = 1\n",
    "    for a, alpha in factored_n.items():\n",
    "        results *= (a ** (alpha + 1) - 1) / (a - 1)\n",
    "        n *= a ** alpha\n",
    "    if not involve_self:\n",
    "        results -= n\n",
    "    return int(results)"
   ]
  },
  {
   "cell_type": "code",
   "execution_count": 137,
   "metadata": {},
   "outputs": [
    {
     "name": "stdout",
     "output_type": "stream",
     "text": [
      "Wall time: 44.8 s\n"
     ]
    }
   ],
   "source": [
    "%%time\n",
    "results = [(n, sum_divisors(n), sum_divisors(n, True)) for n in range(2, 10001)]"
   ]
  },
  {
   "cell_type": "code",
   "execution_count": 151,
   "metadata": {},
   "outputs": [
    {
     "data": {
      "text/plain": [
       "[((220, 284.0, 504.0), 2),\n",
       " ((284, 220.0, 504.0), 2),\n",
       " ((1184, 1210.0, 2394.0), 2),\n",
       " ((1210, 1184.0, 2394.0), 2),\n",
       " ((2620, 2924.0, 5544.0), 2),\n",
       " ((2924, 2620.0, 5544.0), 2),\n",
       " ((5020, 5564.0, 10584.0), 2),\n",
       " ((5564, 5020.0, 10584.0), 2),\n",
       " ((6232, 6368.0, 12600.0), 2),\n",
       " ((6368, 6232.0, 12600.0), 2)]"
      ]
     },
     "execution_count": 151,
     "metadata": {},
     "output_type": "execute_result"
    }
   ],
   "source": [
    "from collections import Counter\n",
    "\n",
    "[i for i in list(Counter(\n",
    "    [i for i in results if i[1] != 1 and i[0] != i[1]] + \\\n",
    "    [(i[1], i[0], i[2]) for i in results if i[1] != 1 and i[0] != i[1]]\n",
    ").most_common()) if i[1] == 2]"
   ]
  },
  {
   "cell_type": "code",
   "execution_count": 152,
   "metadata": {},
   "outputs": [
    {
     "data": {
      "text/plain": [
       "31626"
      ]
     },
     "execution_count": 152,
     "metadata": {},
     "output_type": "execute_result"
    }
   ],
   "source": [
    "504 + 2394 + 5544 + 10584 + 12600"
   ]
  },
  {
   "cell_type": "markdown",
   "metadata": {},
   "source": [
    "훨씬 더 빠른 풀이!"
   ]
  },
  {
   "cell_type": "code",
   "execution_count": 155,
   "metadata": {},
   "outputs": [
    {
     "name": "stdout",
     "output_type": "stream",
     "text": [
      "31626\n",
      "Wall time: 1.87 s\n"
     ]
    }
   ],
   "source": [
    "%%time\n",
    "def check(num):\n",
    "    result = 0\n",
    "    for c in range(1, (num // 2) + 1):\n",
    "        # 약수 체크\n",
    "        if num % c == 0:\n",
    "            result += c\n",
    "    if num == result:\n",
    "        return False\n",
    "    num1 = result\n",
    "    result = 0\n",
    "    for c in range(1, (num1 // 2) + 1):\n",
    "        # 똑같이 약수 체크\n",
    "        if num1 % c == 0:\n",
    "            result += c\n",
    "    # 비교하여 True/False 반환\n",
    "    if result == num:\n",
    "        return True\n",
    "    else:\n",
    "        return False\n",
    "    \n",
    "answer = 0\n",
    "for i in range(2, 10001):\n",
    "    if check(i):\n",
    "        answer += i\n",
    "print(answer)"
   ]
  },
  {
   "cell_type": "markdown",
   "metadata": {},
   "source": [
    "내 함수 다시 조정"
   ]
  },
  {
   "cell_type": "markdown",
   "metadata": {},
   "source": [
    "# Problem 22\n",
    "### 영문 이름 점수 합계 구하기"
   ]
  },
  {
   "cell_type": "code",
   "execution_count": 179,
   "metadata": {},
   "outputs": [],
   "source": [
    "with open('names.txt') as file:\n",
    "    names = file.readline()\n",
    "    names = names.split(',')\n",
    "    names = [name[1:-1] for name in names]"
   ]
  },
  {
   "cell_type": "code",
   "execution_count": 198,
   "metadata": {},
   "outputs": [
    {
     "data": {
      "text/plain": [
       "871198282"
      ]
     },
     "execution_count": 198,
     "metadata": {},
     "output_type": "execute_result"
    }
   ],
   "source": [
    "score = dict(zip('ABCDEFGHIJKLMNOPQRSTUVWXYZ', range(1, 27)))\n",
    "sum(\n",
    "    [i * sum(score[alphabet] for alphabet in name) \n",
    "     for i, name in enumerate(sorted(names), start=1)]\n",
    ")"
   ]
  },
  {
   "cell_type": "markdown",
   "metadata": {},
   "source": [
    "# Problem 23\n",
    "### 두 과잉수의 합으로 나타낼 수 없는 모든 양의 정수의 합은?"
   ]
  },
  {
   "cell_type": "code",
   "execution_count": 24,
   "metadata": {},
   "outputs": [],
   "source": [
    "def sum_divisors(num, involve_self=False):\n",
    "    result = 0\n",
    "    for c in range(1, (num // 2) + 1):\n",
    "        # 약수 체크\n",
    "        if num % c == 0:\n",
    "            result += c\n",
    "    if involve_self:\n",
    "        result += num\n",
    "    return result"
   ]
  },
  {
   "cell_type": "code",
   "execution_count": 25,
   "metadata": {},
   "outputs": [],
   "source": [
    "def is_excess(num):\n",
    "    return num < sum_divisors(num)"
   ]
  },
  {
   "cell_type": "code",
   "execution_count": 26,
   "metadata": {},
   "outputs": [
    {
     "name": "stdout",
     "output_type": "stream",
     "text": [
      "Wall time: 10.3 s\n"
     ]
    }
   ],
   "source": [
    "%%time\n",
    "excesses = [num for num in range(1, 28123+1) if is_excess(num)]"
   ]
  },
  {
   "cell_type": "code",
   "execution_count": 33,
   "metadata": {},
   "outputs": [
    {
     "data": {
      "text/plain": [
       "40"
      ]
     },
     "execution_count": 33,
     "metadata": {},
     "output_type": "execute_result"
    }
   ],
   "source": [
    "%%time\n",
    "for num in range(1, 28123+1):\n",
    "    "
   ]
  },
  {
   "cell_type": "markdown",
   "metadata": {},
   "source": [
    "# Problem 24\n",
    "### 피보나치 수열에서 처음으로 1000자리가 되는 항은 몇 번째?"
   ]
  },
  {
   "cell_type": "code",
   "execution_count": 2,
   "metadata": {},
   "outputs": [],
   "source": [
    "def memoize(func):\n",
    "    tempMemo = dict()\n",
    "    def wrapped(n):\n",
    "        if n in tempMemo:\n",
    "            return tempMemo[n]\n",
    "        result = func(n)\n",
    "        tempMemo[n] = result\n",
    "        return result\n",
    "    return wrapped\n",
    "\n",
    "\n",
    "@memoize\n",
    "def fib(n):\n",
    "    if n in (1, 2):\n",
    "        return 1\n",
    "    return fib(n-1) + fib(n-2)"
   ]
  },
  {
   "cell_type": "code",
   "execution_count": 35,
   "metadata": {},
   "outputs": [
    {
     "data": {
      "text/plain": [
       "1000"
      ]
     },
     "execution_count": 35,
     "metadata": {},
     "output_type": "execute_result"
    }
   ],
   "source": [
    "len(str(fib(4782)))"
   ]
  },
  {
   "cell_type": "markdown",
   "metadata": {},
   "source": [
    "# Problem 27\n",
    "### 연속되는 n에 대해 가장 많은 소수를 만들어내는 이차식"
   ]
  },
  {
   "cell_type": "code",
   "execution_count": 37,
   "metadata": {},
   "outputs": [],
   "source": [
    "def is_prime(n):\n",
    "    return all([(n%j) for j in range(2, int(n**0.5)+1)]) and n>1"
   ]
  },
  {
   "cell_type": "code",
   "execution_count": 51,
   "metadata": {
    "scrolled": false
   },
   "outputs": [
    {
     "name": "stdout",
     "output_type": "stream",
     "text": [
      "Wall time: 5.35 s\n"
     ]
    }
   ],
   "source": [
    "%%time\n",
    "best_n = 0\n",
    "for a in range(-999, 1000):\n",
    "    for b in range(-999, 1000):\n",
    "        n = 0\n",
    "        while True:\n",
    "            quadratic = n ** 2 + a * n + b\n",
    "            if quadratic <= 0:\n",
    "                break\n",
    "            if not is_prime(quadratic):\n",
    "                break\n",
    "            n += 1\n",
    "        if n > best_n:\n",
    "            best_n = n\n",
    "            best = (a, b)"
   ]
  },
  {
   "cell_type": "code",
   "execution_count": 55,
   "metadata": {},
   "outputs": [
    {
     "data": {
      "text/plain": [
       "(-59231, (-61, 971), 71)"
      ]
     },
     "execution_count": 55,
     "metadata": {},
     "output_type": "execute_result"
    }
   ],
   "source": [
    "best[0] * best[1], best, best_n"
   ]
  },
  {
   "cell_type": "markdown",
   "metadata": {},
   "source": [
    "# Problem 32\n",
    "### 1~9 팬디지털 곱셈식을 만들 수 있는 모든 수의 합"
   ]
  },
  {
   "cell_type": "markdown",
   "metadata": {},
   "source": [
    "# Problem 48\n",
    "### $1^1+2^2+3^3+\\cdots+1000^{1000}$의 마지막 10자리"
   ]
  },
  {
   "cell_type": "code",
   "execution_count": 92,
   "metadata": {},
   "outputs": [
    {
     "name": "stdout",
     "output_type": "stream",
     "text": [
      "9110846700\n"
     ]
    }
   ],
   "source": [
    "res = 0\n",
    "for n in range(1, 1001):\n",
    "    res += n ** n\n",
    "    res = int(str(res)[-10:])\n",
    "print(res)"
   ]
  },
  {
   "cell_type": "code",
   "execution_count": null,
   "metadata": {},
   "outputs": [],
   "source": []
  },
  {
   "cell_type": "code",
   "execution_count": null,
   "metadata": {},
   "outputs": [],
   "source": []
  },
  {
   "cell_type": "markdown",
   "metadata": {},
   "source": [
    "# Problem 50\n",
    "### 1백만 이하의 소수 중 가장 길게 연속되는 소수의 합으로 표현되는 수는?"
   ]
  },
  {
   "cell_type": "code",
   "execution_count": 716,
   "metadata": {},
   "outputs": [
    {
     "name": "stdout",
     "output_type": "stream",
     "text": [
      "Wall time: 12 ms\n"
     ]
    }
   ],
   "source": [
    "%%time\n",
    "primes = [n for n in range(2, int(5e3)) if is_prime(n)]"
   ]
  },
  {
   "cell_type": "code",
   "execution_count": 717,
   "metadata": {},
   "outputs": [],
   "source": [
    "cum_primes = [sum(primes[:i]) for i in range(len(primes))]"
   ]
  },
  {
   "cell_type": "code",
   "execution_count": 718,
   "metadata": {},
   "outputs": [
    {
     "name": "stdout",
     "output_type": "stream",
     "text": [
      "997651\n",
      "Wall time: 1e+03 µs\n"
     ]
    }
   ],
   "source": [
    "%%time\n",
    "length = 0\n",
    "ans = None\n",
    "\n",
    "for lo in range(1, len(cum_primes)):\n",
    "    for hi in range(lo+length, len(cum_primes)):\n",
    "        cum_sum = cum_primes[hi] - cum_primes[lo-1]\n",
    "        if (cum_sum in prime_set) and (hi - lo + 1) > length:\n",
    "            length = hi - lo + 1\n",
    "            ans = cum_sum\n",
    "\n",
    "        if cum_sum > 1e6:\n",
    "            break\n",
    "print(ans)"
   ]
  },
  {
   "cell_type": "markdown",
   "metadata": {},
   "source": [
    "# Problem 51\n",
    "### 일부 숫자를 치환했을 때 8개의 서로 다른소수가 생기는 가장 작은 소수"
   ]
  },
  {
   "cell_type": "markdown",
   "metadata": {},
   "source": [
    "## Problem 54\n",
    "포커 게임에서 이긴 횟수 구하기"
   ]
  },
  {
   "cell_type": "code",
   "execution_count": 15,
   "metadata": {},
   "outputs": [],
   "source": [
    "with open('poker.txt', 'r') as f:\n",
    "    data = f.readlines()"
   ]
  },
  {
   "cell_type": "code",
   "execution_count": 26,
   "metadata": {},
   "outputs": [],
   "source": [
    "player1 = [i[:14].split() for i in data]\n",
    "player2 = [i[15:].split() for i in data]"
   ]
  },
  {
   "cell_type": "code",
   "execution_count": null,
   "metadata": {},
   "outputs": [],
   "source": [
    "\"\"\"\n",
    "Royal Flush\n",
    "\n",
    "Straight Flush\n",
    "\n",
    "Four of a Kind\n",
    "\n",
    "Full House\n",
    "\n",
    "Flush\n",
    "\n",
    "Straight\n",
    "\n",
    "Three of a Kind\n",
    "\n",
    "Two Pairs\n",
    "\n",
    "One Pairs\n",
    "\n",
    "High Card\n",
    "\"\"\""
   ]
  },
  {
   "cell_type": "code",
   "execution_count": 27,
   "metadata": {},
   "outputs": [
    {
     "data": {
      "text/plain": [
       "[['8C', 'TS', 'KC', '9H', '4S'],\n",
       " ['5C', 'AD', '5D', 'AC', '9C'],\n",
       " ['3H', '7H', '6S', 'KC', 'JS'],\n",
       " ['TH', '8H', '5C', 'QS', 'TC'],\n",
       " ['7C', '5H', 'KC', 'QH', 'JD'],\n",
       " ['5H', 'KS', '9C', '7D', '9H'],\n",
       " ['6H', '4H', '5C', '3H', '2H'],\n",
       " ['TD', '8C', '4H', '7C', 'TC'],\n",
       " ['7C', '9C', '6D', 'KD', '3H'],\n",
       " ['JC', '6S', '5H', '2H', '2D'],\n",
       " ['AD', 'QH', 'TH', '9D', '8H'],\n",
       " ['2H', '4S', '5C', '5S', 'TC'],\n",
       " ['QD', 'AS', '6H', 'JS', '2C'],\n",
       " ['KD', '8S', '9S', '7C', '2S'],\n",
       " ['3C', '8C', '2D', '7D', '4D'],\n",
       " ['8C', 'KC', '7S', 'TC', '2D'],\n",
       " ['3D', 'KH', 'QD', '6C', '6S'],\n",
       " ['6S', '8D', '4C', '8S', '6C'],\n",
       " ['2S', '8D', '8C', '4C', 'TS'],\n",
       " ['3C', 'QS', '2S', '4H', 'JH'],\n",
       " ['5H', 'QS', '8S', '6D', '3C'],\n",
       " ['6H', 'TD', '9D', 'AS', 'JH'],\n",
       " ['AH', '8S', 'QS', '4D', 'TH'],\n",
       " ['5S', '4D', 'JS', '3D', '8H'],\n",
       " ['6D', '7C', '5D', '5H', '3S'],\n",
       " ['5H', '6H', '2S', 'KS', '3D'],\n",
       " ['KH', '4H', 'AS', 'JS', 'QS'],\n",
       " ['3D', 'QS', 'TS', '2H', 'JS'],\n",
       " ['QD', '5H', '4D', '5D', 'KH'],\n",
       " ['2C', '9H', '6H', '5C', '9D'],\n",
       " ['7D', '6D', 'AS', 'QD', 'JH'],\n",
       " ['3H', 'KH', 'QD', 'AD', '8C'],\n",
       " ['AH', '9S', '4D', '9D', '8S'],\n",
       " ['2C', 'KS', '5H', 'QD', '3S'],\n",
       " ['5C', '7H', '5D', 'KD', '9H'],\n",
       " ['KS', 'KC', '9S', '6D', '2C'],\n",
       " ['9C', '6H', '5D', 'QH', '4D'],\n",
       " ['9S', '3H', '9D', 'JD', '5C'],\n",
       " ['2C', '6D', 'JC', '9C', '3C'],\n",
       " ['KC', '9C', '7C', 'JC', 'JS'],\n",
       " ['QD', 'KH', 'QS', '2C', '3S'],\n",
       " ['QH', '8D', '3C', 'KC', '4C'],\n",
       " ['3S', 'KS', 'QS', '7H', 'KH'],\n",
       " ['2H', '2C', '6H', 'TH', 'TC'],\n",
       " ['4S', '2H', 'AC', 'QC', '3S'],\n",
       " ['4D', 'TC', 'KS', 'AS', '7C'],\n",
       " ['8C', 'TD', '5D', 'QS', '2C'],\n",
       " ['5H', 'JH', 'TS', '7S', 'TD'],\n",
       " ['5S', 'AD', '9C', '8C', '7C'],\n",
       " ['4H', 'KH', 'KS', '9S', '2S'],\n",
       " ['QS', '9C', 'QD', '6H', 'JS'],\n",
       " ['KH', 'AC', 'JC', '3S', '9D'],\n",
       " ['AD', '3C', '3D', 'KS', '3S'],\n",
       " ['JH', '8D', '5D', '6H', 'KD'],\n",
       " ['8S', 'JD', '6C', '3S', '8C'],\n",
       " ['KC', 'JC', '8H', '2S', '9H'],\n",
       " ['8S', '2H', 'QH', '4D', 'QC'],\n",
       " ['8S', '6H', 'TH', '7C', '2H'],\n",
       " ['QH', '5S', 'JS', '4H', '5H'],\n",
       " ['9D', '8H', '2S', '4S', 'TC'],\n",
       " ['3D', 'AD', '3C', '3S', '4C'],\n",
       " ['6S', '9D', '4C', 'JS', 'KH'],\n",
       " ['4C', '6S', '9D', '7S', 'AC'],\n",
       " ['AD', '7H', '6H', '4H', 'JH'],\n",
       " ['8H', 'JH', 'TC', '3S', '8D'],\n",
       " ['2C', '9D', 'KC', 'QH', 'TH'],\n",
       " ['QS', '3C', 'QD', '8H', 'KH'],\n",
       " ['7C', '3C', 'TH', '5S', '8H'],\n",
       " ['QC', 'TC', 'JD', 'TS', '8C'],\n",
       " ['JH', 'QS', 'KS', '9C', '6D'],\n",
       " ['2H', '4D', 'AH', '2D', 'JH'],\n",
       " ['KD', '8C', '9S', 'JH', 'QD'],\n",
       " ['4S', 'TC', '7H', '8D', '2S'],\n",
       " ['8C', '5D', '7H', '4S', 'TD'],\n",
       " ['AD', '8S', 'JH', '6D', 'TD'],\n",
       " ['JC', '6H', '6S', 'JS', '4H'],\n",
       " ['6H', '5H', 'AS', '7C', '7S'],\n",
       " ['JC', '3D', 'TD', 'AS', '4D'],\n",
       " ['8C', '7S', '8S', 'QH', '2S'],\n",
       " ['8S', '3C', '6H', '6C', '2C'],\n",
       " ['5D', 'QH', 'KH', '7C', '2S'],\n",
       " ['AD', '6C', '6S', '7D', 'TH'],\n",
       " ['KS', 'JS', 'KD', '5D', '2D'],\n",
       " ['9C', '6D', 'QD', '3C', 'KS'],\n",
       " ['AH', 'QH', 'AS', 'JC', '8S'],\n",
       " ['JC', '5H', 'TD', '7C', '5D'],\n",
       " ['KC', '2H', 'AC', 'AH', '7D'],\n",
       " ['9S', '5S', '9C', '6H', '8S'],\n",
       " ['7D', '8S', '6D', 'TS', 'KD'],\n",
       " ['AH', 'QC', 'JC', '4C', 'TC'],\n",
       " ['KD', 'KC', '6S', '3D', '7D'],\n",
       " ['8S', '5D', '8H', '4C', '6H'],\n",
       " ['JH', '8C', '3D', '3C', '6C'],\n",
       " ['JC', 'KC', '6H', 'TS', 'QS'],\n",
       " ['6C', '5S', '9C', 'QH', '7D'],\n",
       " ['4D', '4S', '8H', 'TD', '9C'],\n",
       " ['6S', '7D', '3C', '6H', '5D'],\n",
       " ['2H', 'KC', '3D', 'AD', '3H'],\n",
       " ['8C', '3H', '9C', '7C', 'AD'],\n",
       " ['5D', '9H', '5C', '7H', '6S'],\n",
       " ['JC', 'QS', 'JH', '2C', '6S'],\n",
       " ['4H', '5S', '8D', '3D', '4D'],\n",
       " ['TD', '3S', 'TH', 'KD', '4D'],\n",
       " ['7S', '8C', '9S', '2D', '8S'],\n",
       " ['8C', '7H', '2S', '6C', 'TH'],\n",
       " ['KD', '5H', 'JC', '8H', 'JD'],\n",
       " ['3D', 'AS', 'QH', 'KS', '7H'],\n",
       " ['9S', '6S', 'TC', 'QS', 'JC'],\n",
       " ['5H', '3S', 'JH', '9H', '2S'],\n",
       " ['8C', 'QD', 'JC', 'QS', 'TC'],\n",
       " ['TC', '5H', '7D', 'JH', '4H'],\n",
       " ['5S', '9C', 'KH', 'KD', '9H'],\n",
       " ['5H', 'AS', 'TC', '4D', '8C'],\n",
       " ['6H', '8D', '2D', '9H', 'JD'],\n",
       " ['AD', '9C', 'JC', '7D', '6H'],\n",
       " ['AD', 'JH', 'TC', 'QS', '4C'],\n",
       " ['KD', '6H', '2H', 'TH', '8S'],\n",
       " ['4H', '8H', '8D', '5H', '6C'],\n",
       " ['QS', '5D', '4S', '2H', 'TD'],\n",
       " ['9C', '7D', 'QD', 'KD', 'AC'],\n",
       " ['KC', 'AH', 'QH', '2H', '7D'],\n",
       " ['6C', '8S', '3H', '6D', 'KS'],\n",
       " ['9H', '4D', '4S', '6S', '9D'],\n",
       " ['TD', '2D', 'QH', '4S', '6H'],\n",
       " ['4S', '6H', '7C', 'QD', '9D'],\n",
       " ['2C', 'KC', 'TH', '6H', '8D'],\n",
       " ['TD', 'TS', '7C', 'AD', 'JC'],\n",
       " ['5D', '4D', '5S', '8H', '4H'],\n",
       " ['JH', 'TD', '6H', 'QS', '4S'],\n",
       " ['AC', '3D', 'AS', '8C', 'TD'],\n",
       " ['9D', 'KS', '7C', '6D', 'QH'],\n",
       " ['JH', '8S', '5S', '7S', '7D'],\n",
       " ['2H', '5D', 'AS', '3C', 'QD'],\n",
       " ['9D', '5D', 'TH', '4C', 'JH'],\n",
       " ['6H', 'KD', '2C', 'TD', '2H'],\n",
       " ['KD', '7S', '3C', '7C', 'AS'],\n",
       " ['QS', '8H', '6C', 'JS', '4C'],\n",
       " ['2H', '7C', 'TS', 'TC', '8C'],\n",
       " ['TC', '2H', '8D', 'JH', 'KS'],\n",
       " ['9D', 'TD', '9H', 'QC', '5D'],\n",
       " ['2H', '8C', '3D', 'AH', '4D'],\n",
       " ['TS', '5C', '2D', '8C', '6S'],\n",
       " ['5S', '5D', 'AH', 'TC', '4C'],\n",
       " ['KC', 'QD', '3D', '8H', '2D'],\n",
       " ['TD', '6S', '7D', 'JS', 'KD'],\n",
       " ['4C', '9H', 'JH', 'TS', '3S'],\n",
       " ['2C', 'KD', '9H', 'JS', '9S'],\n",
       " ['AS', '2H', '5D', 'AD', '5H'],\n",
       " ['2D', '4S', '8H', '3D', '7D'],\n",
       " ['7H', 'QD', 'JH', '5H', 'JS'],\n",
       " ['6D', 'KH', 'KC', 'QD', '5C'],\n",
       " ['3D', '9D', 'TC', '8S', 'QD'],\n",
       " ['6C', 'TD', '5S', 'TC', '8S'],\n",
       " ['TH', '7S', '3D', 'AS', '6C'],\n",
       " ['5C', '2H', 'KS', '6H', '7S'],\n",
       " ['3C', '9S', 'AC', '7S', 'QH'],\n",
       " ['2D', '3H', 'AS', '2C', '6H'],\n",
       " ['QH', 'KD', 'QD', '6D', 'AC'],\n",
       " ['8H', '7D', '3S', '9H', '5D'],\n",
       " ['2D', '9D', '7H', '6H', '3C'],\n",
       " ['KD', '9S', '4S', 'TC', '7S'],\n",
       " ['TC', '3D', '8C', '3H', '6C'],\n",
       " ['KC', '3D', '9S', '3H', 'JS'],\n",
       " ['6H', 'QS', '6C', 'TC', 'QD'],\n",
       " ['TD', '9D', '8D', '6S', '6C'],\n",
       " ['4H', 'KC', 'JD', '9H', 'TC'],\n",
       " ['JS', '9C', '5C', '6S', '9D'],\n",
       " ['4D', '8D', '8S', '6C', '7C'],\n",
       " ['TC', '3D', 'JC', '6D', 'KS'],\n",
       " ['6C', '3S', 'KD', '5H', 'TS'],\n",
       " ['3D', 'QD', '4C', '6H', 'TS'],\n",
       " ['4C', 'AS', 'JS', '9S', '7C'],\n",
       " ['4H', '8C', 'JD', '3H', '6H'],\n",
       " ['4C', '2C', '7D', '3D', 'AS'],\n",
       " ['8S', '5H', '3D', '2S', 'AC'],\n",
       " ['QD', 'TH', '7S', 'TS', '3D'],\n",
       " ['TC', 'QD', 'AD', '9C', 'QS'],\n",
       " ['9D', '8H', 'AS', '3S', '7C'],\n",
       " ['4C', 'TH', 'AC', 'QH', 'JS'],\n",
       " ['9D', '8D', '4C', 'JH', '2C'],\n",
       " ['4D', '6D', '5D', '2D', 'JH'],\n",
       " ['AD', '4D', '2C', 'QS', '8C'],\n",
       " ['5C', '6C', '5H', '2H', 'JH'],\n",
       " ['3C', '4C', 'QC', '5D', 'JH'],\n",
       " ['3H', '9C', 'JS', '7H', 'QH'],\n",
       " ['2D', '5S', 'QD', '4S', '3C'],\n",
       " ['5D', 'KH', '2D', 'TS', '8S'],\n",
       " ['7C', 'AH', '8C', '8D', '5S'],\n",
       " ['8C', '9D', 'AH', '2H', 'AC'],\n",
       " ['QD', '9H', '5S', 'QS', 'QC'],\n",
       " ['6C', '6S', '3H', '5H', '3S'],\n",
       " ['AC', 'QH', '7H', '8C', '4S'],\n",
       " ['9D', '3D', 'JS', 'TH', 'AC'],\n",
       " ['QD', 'KH', 'JS', 'KS', '9S'],\n",
       " ['5H', '6C', 'KH', '3S', '9S'],\n",
       " ['6C', '4D', '7S', '7H', '5S'],\n",
       " ['AH', '5S', '6H', '9S', 'AD'],\n",
       " ['4C', '8D', '9H', '7C', 'QC'],\n",
       " ['9D', '6H', '4D', 'TC', '4C'],\n",
       " ['2H', '6C', '7C', 'KH', '5C'],\n",
       " ['3S', '4S', '7S', 'AH', 'AS'],\n",
       " ['JS', 'KC', '2S', '7D', '8C'],\n",
       " ['7S', '9S', '4D', 'TD', 'JH'],\n",
       " ['JD', 'JS', 'JC', 'TH', '2D'],\n",
       " ['7S', 'KH', '5S', '9D', '5D'],\n",
       " ['4S', '5D', 'AC', '8D', '4D'],\n",
       " ['6S', 'TH', 'TS', 'KS', '2C'],\n",
       " ['2H', '8C', '3S', 'JC', '5C'],\n",
       " ['7S', '3H', 'JC', '5S', '6H'],\n",
       " ['4D', '7C', '4H', '9S', '8S'],\n",
       " ['KH', 'QS', '3S', 'TC', '4C'],\n",
       " ['QD', 'QS', 'TH', '3C', 'TS'],\n",
       " ['TD', 'JD', 'QC', '4D', '9S'],\n",
       " ['AH', '7H', '4S', '6D', '7C'],\n",
       " ['7C', 'AH', 'JD', '4H', '6D'],\n",
       " ['TC', 'KC', '8C', '9S', '4C'],\n",
       " ['AS', '7D', 'QC', '3D', '5S'],\n",
       " ['TH', '3C', '2S', '6H', 'AH'],\n",
       " ['QC', '2D', 'AC', 'QD', '2S'],\n",
       " ['KC', '4H', '3C', '9D', 'JS'],\n",
       " ['7H', 'KC', '7D', 'JD', '2H'],\n",
       " ['9H', 'TD', '3S', '8H', '7S'],\n",
       " ['8D', '9H', 'AH', 'JD', 'TD'],\n",
       " ['AH', 'QH', '3C', 'JD', 'KC'],\n",
       " ['9H', '7H', '6S', 'JH', 'TH'],\n",
       " ['7C', 'KD', '5S', 'TC', '9D'],\n",
       " ['KC', '9H', '8D', '5H', '7H'],\n",
       " ['6S', '8S', 'QC', 'TD', '4S'],\n",
       " ['8S', '5H', 'TH', 'QC', '9H'],\n",
       " ['7H', 'KD', 'AH', '4D', 'KH'],\n",
       " ['6S', '2C', 'TD', 'JC', 'AS'],\n",
       " ['JC', 'TC', 'JD', '5S', '6S'],\n",
       " ['6D', '6H', '5D', '5S', 'TC'],\n",
       " ['4S', '6C', '8S', '3S', '7S'],\n",
       " ['KC', 'QH', 'JC', 'AC', 'QD'],\n",
       " ['JS', 'AH', '8S', '5H', '3D'],\n",
       " ['4S', 'QS', '7D', 'AS', '9H'],\n",
       " ['2D', '5C', '6H', 'TC', '4D'],\n",
       " ['6D', '7H', 'TC', 'TH', '5S'],\n",
       " ['8D', 'TD', 'QH', '6S', '4S'],\n",
       " ['5S', '3D', 'KS', 'AC', '4S'],\n",
       " ['TS', '8H', '9S', '6S', '7S'],\n",
       " ['4C', '8C', 'TS', 'JS', 'QC'],\n",
       " ['8S', '7S', '9D', 'QC', 'AC'],\n",
       " ['JS', 'KD', '3C', '6S', '4S'],\n",
       " ['KS', '6S', '4H', 'JD', 'QS'],\n",
       " ['KH', '7C', 'TC', '6S', 'TD'],\n",
       " ['3H', '4C', '4H', 'TC', 'TH'],\n",
       " ['7D', '5H', '4S', '8C', 'JS'],\n",
       " ['3H', '6S', 'AD', '7H', '3S'],\n",
       " ['3S', 'JD', 'KH', 'TH', '6H'],\n",
       " ['4S', 'QH', '4D', '5H', 'KC'],\n",
       " ['TD', 'AD', '6S', '7H', 'KD'],\n",
       " ['3H', 'QC', 'AS', 'TS', '4S'],\n",
       " ['TS', '6S', 'QC', '6C', 'TH'],\n",
       " ['JS', '3S', '4H', 'KD', '4C'],\n",
       " ['8S', 'JS', '6D', '4H', 'JH'],\n",
       " ['AC', '7D', '5D', 'TC', '9S'],\n",
       " ['AS', '7H', '6D', 'QH', '8D'],\n",
       " ['4C', '7C', '3D', 'QC', 'TC'],\n",
       " ['6H', '5D', '7S', '5H', '9C'],\n",
       " ['AS', 'JS', '2S', 'QD', 'KH'],\n",
       " ['3H', '4C', 'TD', 'KD', '8C'],\n",
       " ['TS', '7D', '5D', '6C', '2C'],\n",
       " ['4S', '7C', '9C', '7D', 'JH'],\n",
       " ['2S', 'TD', '7S', '6D', '9C'],\n",
       " ['JC', '6S', '9C', 'QH', 'JH'],\n",
       " ['8D', '5H', 'TH', 'KC', '4D'],\n",
       " ['2D', 'JD', '4C', 'TD', '7C'],\n",
       " ['QS', '7S', '4C', 'TH', '9D'],\n",
       " ['2D', '3H', '7D', 'JD', '3D'],\n",
       " ['4H', '9H', '9C', '2C', '7S'],\n",
       " ['TC', '9H', '8H', 'JC', '3C'],\n",
       " ['TS', '5H', 'JD', 'QS', 'QH'],\n",
       " ['5D', 'AS', '8S', '6S', '4C'],\n",
       " ['3H', '4H', '7D', '6S', '4S'],\n",
       " ['JD', '8C', '2C', '9D', '7D'],\n",
       " ['KD', '9C', '4S', 'QD', 'AH'],\n",
       " ['6S', '4H', '4S', '9C', '8D'],\n",
       " ['5S', 'JC', '5H', '4S', 'QH'],\n",
       " ['8C', '5H', 'AS', 'QD', 'AD'],\n",
       " ['JC', '4C', '8D', '5C', 'KH'],\n",
       " ['TH', '4S', '2D', 'KC', '3H'],\n",
       " ['KH', 'QD', 'AS', '8H', 'TH'],\n",
       " ['JC', '6C', '7D', '8C', 'KH'],\n",
       " ['JC', 'KH', '2D', '7D', 'JS'],\n",
       " ['TS', '3S', 'AD', '4S', 'TD'],\n",
       " ['9H', '2D', 'QS', '2C', '4S'],\n",
       " ['KH', '6S', '8H', '4S', 'KD'],\n",
       " ['JH', '5H', 'AH', 'KS', 'AS'],\n",
       " ['5D', '7D', '6D', 'KS', 'KD'],\n",
       " ['AC', 'JS', '8D', '5H', '9C'],\n",
       " ['6H', 'KS', 'KH', '9D', '7C'],\n",
       " ['6H', 'AC', 'JS', '7S', '3S'],\n",
       " ['9H', 'TC', 'QC', 'KC', '5C'],\n",
       " ['TC', '7D', 'QH', '4S', 'JC'],\n",
       " ['QH', '7D', '7C', 'JH', 'QS'],\n",
       " ['3D', '5S', '8D', 'JS', '4C'],\n",
       " ['5H', '8S', '4H', 'TD', '2C'],\n",
       " ['QC', 'JS', 'KD', '9C', 'AD'],\n",
       " ['8C', 'JC', 'KH', '7C', '7S'],\n",
       " ['5S', '9D', 'TH', '3C', '7S'],\n",
       " ['5D', '9H', '6H', '2S', 'JS'],\n",
       " ['JD', '5D', '5S', '2C', 'TC'],\n",
       " ['4D', 'KH', '8H', '4H', '2D'],\n",
       " ['3S', '2D', 'TD', '7H', '8S'],\n",
       " ['6S', 'QD', 'JH', '7C', '9H'],\n",
       " ['QS', '7S', 'TD', '7D', 'TS'],\n",
       " ['3C', 'JD', '8S', '4H', '2D'],\n",
       " ['AH', 'KS', '6C', '4C', '4S'],\n",
       " ['5S', '3C', '9S', '2C', 'QS'],\n",
       " ['2D', 'TS', '2C', 'JS', 'KH'],\n",
       " ['KD', '3H', '6C', 'TH', '8S'],\n",
       " ['6H', '7S', '6C', 'QS', 'AH'],\n",
       " ['5H', 'JC', 'QD', '2C', '2S'],\n",
       " ['6C', 'TC', 'AS', 'KD', '8H'],\n",
       " ['2H', '4C', '6C', 'AH', '8S'],\n",
       " ['KD', '4S', 'TS', '6C', 'QH'],\n",
       " ['6D', 'JS', '5C', 'QD', 'QC'],\n",
       " ['3C', 'QH', 'JH', 'AD', '6S'],\n",
       " ['3D', '7C', '4C', '7S', '5S'],\n",
       " ['QH', '7C', '5H', '3C', '3S'],\n",
       " ['QD', '3S', '7S', '5H', '7H'],\n",
       " ['3C', 'KD', 'KH', '2S', '4C'],\n",
       " ['2C', 'KH', '3C', '4C', '6H'],\n",
       " ['4D', '7C', '8S', 'QD', 'TS'],\n",
       " ['QS', '4D', 'TS', '7S', '4C'],\n",
       " ['TS', 'QH', 'AC', '6S', '3C'],\n",
       " ['3S', '7S', '5D', '4S', 'JS'],\n",
       " ['4C', '4H', 'AS', 'JS', '5D'],\n",
       " ['6S', '9C', '7C', '3S', '5C'],\n",
       " ['9S', '8C', '7H', '3H', '6S'],\n",
       " ['3D', '3H', '7S', '4D', '6C'],\n",
       " ['4H', '5S', '3H', 'AC', 'TC'],\n",
       " ['8D', '9H', '5H', '4D', '6C'],\n",
       " ['4C', '5C', 'JD', 'QS', '4D'],\n",
       " ['QC', '5S', '3C', '7H', 'AD'],\n",
       " ['QS', 'AH', '3H', 'KS', '9H'],\n",
       " ['2H', '5S', 'TH', '6S', 'TS'],\n",
       " ['2D', '9S', '7H', '3D', 'KC'],\n",
       " ['AC', 'JS', '8H', '2C', '8C'],\n",
       " ['5D', '9S', '8H', '2H', '3D'],\n",
       " ['9D', 'QD', 'JC', '2H', '6D'],\n",
       " ['2C', '8D', '4S', 'JD', '5H'],\n",
       " ['AS', '3D', '9H', '7D', '4D'],\n",
       " ['4H', '7S', 'KS', '2S', 'JS'],\n",
       " ['5S', '6H', 'JH', 'KS', '8H'],\n",
       " ['JC', 'AS', 'AD', 'QS', '8H'],\n",
       " ['2S', '3D', 'TS', 'TD', '9S'],\n",
       " ['3C', '6D', '4S', 'QC', 'KC'],\n",
       " ['9H', 'AH', '4D', 'KS', '2S'],\n",
       " ['2D', '6C', 'TH', '3C', '8H'],\n",
       " ['6H', '5D', '9S', '4C', 'TS'],\n",
       " ['5H', '8H', 'KH', '8S', 'KS'],\n",
       " ['2C', '7C', 'JC', '5S', 'AS'],\n",
       " ['6S', 'QD', '9S', 'TS', 'KH'],\n",
       " ['7D', '3H', '3C', 'KD', '5C'],\n",
       " ['9D', '5C', '9H', 'KC', '8H'],\n",
       " ['3S', 'JD', 'QD', '8D', '2S'],\n",
       " ['6D', '9S', 'KC', 'TD', '3S'],\n",
       " ['5H', '9D', 'TS', 'KD', '8D'],\n",
       " ['6D', '4S', 'JD', '9D', 'AH'],\n",
       " ['2D', '5S', '2H', '9C', '6H'],\n",
       " ['3S', '2H', 'KS', 'TS', '2C'],\n",
       " ['3C', 'KC', '6D', '5D', '6C'],\n",
       " ['JH', '9S', '2H', '8D', '4C'],\n",
       " ['QC', 'AS', '2S', 'JS', '5C'],\n",
       " ['QD', '8H', '2S', '8D', '3S'],\n",
       " ['JD', 'JS', 'TS', '8S', '3H'],\n",
       " ['6S', 'QS', 'TC', '3H', '5D'],\n",
       " ['7C', '5D', '8H', '9C', '2H'],\n",
       " ['9C', '7H', '6S', 'TH', '3S'],\n",
       " ['2H', '5D', '9S', '7D', 'KC'],\n",
       " ['2S', '4S', '2H', '7D', '5C'],\n",
       " ['6D', '3S', 'TS', '6H', '4H'],\n",
       " ['9H', 'KS', '4H', '3S', '5C'],\n",
       " ['KC', 'AS', '8C', '4C', 'JC'],\n",
       " ['6S', 'KH', '9S', '2C', '5H'],\n",
       " ['JD', '4S', '6S', '5S', '8D'],\n",
       " ['7H', '9H', '5D', 'KH', '9C'],\n",
       " ['4C', '8D', 'QC', 'TS', '4S'],\n",
       " ['8C', 'QS', '5C', '5D', '3H'],\n",
       " ['TS', 'JD', '8S', 'QS', 'TH'],\n",
       " ['JD', 'QC', '5D', '6S', '9H'],\n",
       " ['2S', '4C', 'AD', '7H', 'JC'],\n",
       " ['7S', 'JS', '2C', '4H', '8C'],\n",
       " ['JD', 'TS', '4C', '6H', '9H'],\n",
       " ['AS', '7C', '4C', '6S', '5D'],\n",
       " ['KD', '6S', '9S', '7C', '3C'],\n",
       " ['4S', '7S', 'JH', '2C', '8S'],\n",
       " ['TD', '6H', '2H', '8D', '4H'],\n",
       " ['TS', '3S', '5H', '2C', 'QD'],\n",
       " ['KC', '4D', '8C', '5D', 'AS'],\n",
       " ['KD', 'JS', 'QC', 'TS', 'QS'],\n",
       " ['3S', '5H', 'KC', '6C', '9H'],\n",
       " ['7S', 'JS', 'JH', 'KD', '8S'],\n",
       " ['9H', '2D', '8D', 'QC', '6S'],\n",
       " ['2S', '7H', '6C', '6D', '7D'],\n",
       " ['7C', '9C', '7H', 'JD', '2H'],\n",
       " ['QH', 'AS', '9H', '4D', 'JD'],\n",
       " ['4C', '8H', '5S', '3S', '3D'],\n",
       " ['JS', '8S', '5S', 'JC', '8H'],\n",
       " ['7C', '5S', '9C', 'QD', '2C'],\n",
       " ['TD', '2S', 'KS', '3D', 'AD'],\n",
       " ['4C', '2S', 'AD', 'QS', '6C'],\n",
       " ['8C', 'AD', 'QS', '2D', '2S'],\n",
       " ['8D', '4D', 'JS', '2H', '5D'],\n",
       " ['6S', '7H', '3S', '8C', '8S'],\n",
       " ['4S', 'TC', '2S', '5C', 'QD'],\n",
       " ['3S', '5C', '9D', '6H', '8D'],\n",
       " ['AH', '6S', 'AS', '7H', '5S'],\n",
       " ['8D', '8S', 'AH', 'KS', 'QS'],\n",
       " ['6H', '9H', '9S', '2H', 'QS'],\n",
       " ['TS', 'QC', '5S', 'JH', '7D'],\n",
       " ['7H', '3H', '6S', 'KC', '4D'],\n",
       " ['TD', '2S', '7C', 'QD', '3H'],\n",
       " ['KS', '3D', '4H', '5H', 'TC'],\n",
       " ['8H', '3C', '7H', 'TD', '3H'],\n",
       " ['TC', '4C', '2C', '9S', '9D'],\n",
       " ['3H', 'AC', 'TS', '5D', 'AD'],\n",
       " ['2S', 'TS', '3S', 'JD', '7H'],\n",
       " ['AC', '4S', '6C', '3C', 'KH'],\n",
       " ['4H', '6C', '8S', 'TH', '2H'],\n",
       " ['7C', '4C', '9C', '2C', '5C'],\n",
       " ['9H', '4H', 'TS', 'AS', '7D'],\n",
       " ['QC', 'KD', 'AC', 'AD', '2H'],\n",
       " ['2H', 'QC', '8H', 'TC', '6D'],\n",
       " ['TH', 'JD', 'QS', '4C', '2S'],\n",
       " ['7H', 'JS', '3D', '6C', '3S'],\n",
       " ['9C', 'TS', 'AS', '8C', 'TC'],\n",
       " ['4D', 'JD', '9C', 'KC', '7C'],\n",
       " ['3H', '6S', 'TC', '8D', 'TS'],\n",
       " ['8C', 'QC', '4H', '4S', '8S'],\n",
       " ['4D', '7D', '5C', 'AS', '2H'],\n",
       " ['QD', 'QC', '8S', '4S', 'TH'],\n",
       " ['5C', '2D', '9S', '2C', '3H'],\n",
       " ['KC', '9H', '6C', 'KD', '7S'],\n",
       " ['3D', 'JS', '4D', '9D', 'KS'],\n",
       " ['8D', '5S', '2H', '9D', '3H'],\n",
       " ['JC', 'TH', '4S', '6S', 'JD'],\n",
       " ['TS', '3S', '2D', '4H', 'AC'],\n",
       " ['TD', '8S', 'AD', 'TC', 'AH'],\n",
       " ['6C', 'KC', '4S', 'JD', '8D'],\n",
       " ['KD', '8D', 'TS', 'JH', '5C'],\n",
       " ['2D', '4H', '3D', '6C', '8C'],\n",
       " ['TD', '5D', '7S', '9C', '4S'],\n",
       " ['JS', 'QH', '9C', 'AS', '5C'],\n",
       " ['JC', '9C', 'KH', 'JH', 'QS'],\n",
       " ['5D', 'JH', 'AC', '5C', '9S'],\n",
       " ['KC', 'AS', '2D', 'KH', '9H'],\n",
       " ['TH', 'AH', '2D', '8S', 'JC'],\n",
       " ['8H', 'QD', '4H', 'JC', 'AS'],\n",
       " ['9S', 'QH', '7D', '9C', '4S'],\n",
       " ['AH', 'AD', 'TH', '6D', '9C'],\n",
       " ['QD', '6H', '9C', '7C', 'QS'],\n",
       " ['AH', '8D', '5H', 'QD', '2H'],\n",
       " ['5C', '2S', 'JS', '8D', '9C'],\n",
       " ['JD', '9S', '2H', 'QS', '8H'],\n",
       " ['QC', 'QS', '8C', '2S', '2C'],\n",
       " ['2D', '5D', '8S', 'AH', 'AD'],\n",
       " ['TC', '5S', '5H', '8H', 'QC'],\n",
       " ['3C', 'JH', '4H', '9H', 'AH'],\n",
       " ['8S', 'TH', '4D', '7D', '6D'],\n",
       " ['KH', '6D', '2D', 'JD', '5H'],\n",
       " ['9C', '7S', 'JH', '4S', '3S'],\n",
       " ['QH', '9D', '4D', 'JH', 'QS'],\n",
       " ['4H', '9S', 'JD', '5C', '5H'],\n",
       " ['KS', 'JH', 'TS', '5D', '2D'],\n",
       " ['JS', 'AH', '8C', 'AD', 'KS'],\n",
       " ['2H', '5D', 'AD', 'AC', 'KS'],\n",
       " ['6D', '4H', 'TS', '9C', '5H'],\n",
       " ['JH', 'QH', '4H', '2C', '6D'],\n",
       " ['6H', '4H', '6C', '7H', '6S'],\n",
       " ['3H', '3D', '5D', 'KS', '4H'],\n",
       " ['5S', '7C', '8S', '7D', '2C'],\n",
       " ['5D', '2H', '3S', '7C', '5C'],\n",
       " ['JS', '2S', 'KD', '9S', '8D'],\n",
       " ['5H', 'QD', '2S', 'AC', '8C'],\n",
       " ['KH', 'AS', '3H', '8S', '9C'],\n",
       " ['AS', '2S', 'TD', 'AD', '4D'],\n",
       " ['5D', '7C', '4H', 'TC', '2D'],\n",
       " ['4C', '2C', '5D', 'AC', '9H'],\n",
       " ['2C', '8S', '6H', '3C', 'QH'],\n",
       " ['QC', '6C', '3S', 'QS', '4S'],\n",
       " ['5S', '4C', 'AC', 'KH', 'AS'],\n",
       " ['8H', 'JD', '3C', 'KH', '8D'],\n",
       " ['7H', 'TS', '2C', '8C', '4S'],\n",
       " ['JS', '4S', '2C', '7C', 'TH'],\n",
       " ['JH', '7C', '9H', '7H', 'TC'],\n",
       " ['2C', 'QD', 'JH', '2H', '9D'],\n",
       " ['JD', 'QH', '3S', '4D', 'TH'],\n",
       " ['TC', 'KS', '5S', '8D', '8H'],\n",
       " ['5S', 'JH', 'TC', '3S', '2D'],\n",
       " ['AC', 'KH', '3H', 'AS', '9D'],\n",
       " ['9H', '7S', '3D', '5C', '7D'],\n",
       " ['3C', '7H', '8H', 'TC', 'QD'],\n",
       " ['6D', 'AD', '4C', 'QD', '6C'],\n",
       " ['JH', '2H', 'JD', '9S', '7S'],\n",
       " ['2D', '9S', '4C', '7D', '9D'],\n",
       " ['7S', '6D', 'JC', 'QD', 'JH'],\n",
       " ['8C', 'TD', 'JH', 'KD', '2H'],\n",
       " ['TC', '5H', '4H', 'JH', 'QD'],\n",
       " ['KS', 'KH', '7C', '2C', '5D'],\n",
       " ['5H', 'AH', 'JD', '9C', 'JS'],\n",
       " ['AS', '3C', 'TH', 'QC', '6H'],\n",
       " ['KC', '2C', 'QD', '9C', 'KH'],\n",
       " ['9C', 'QC', '2S', 'TS', '8C'],\n",
       " ['4D', '9D', 'TH', 'JH', 'AH'],\n",
       " ['QD', '9H', '6C', 'KD', '7D'],\n",
       " ['8H', '3C', '4S', '2H', '5H'],\n",
       " ['QS', '3C', '7S', '9S', '4H'],\n",
       " ['AD', '5S', '6S', '2H', '2D'],\n",
       " ['QH', 'TS', '6S', '4D', 'JS'],\n",
       " ['2C', '8S', '2S', 'TD', '5H'],\n",
       " ['KC', 'TS', '8H', '2H', '3H'],\n",
       " ['KD', 'AD', 'KH', '7H', '7S'],\n",
       " ['AD', '9S', '3D', '7S', '8C'],\n",
       " ['3C', 'QC', '9S', '8C', '4D'],\n",
       " ['2H', 'KC', '8S', 'JD', '7S'],\n",
       " ['9D', 'QH', '3D', '2S', 'TC'],\n",
       " ['KD', '6S', 'AC', '2C', '7H'],\n",
       " ['QH', 'TC', '8S', '6S', 'KH'],\n",
       " ['8C', 'JS', '4H', '6H', '2C'],\n",
       " ['QS', 'KC', '6S', '2D', '5S'],\n",
       " ['7S', '5H', '7H', '8H', 'KH'],\n",
       " ['5H', 'AD', 'KD', '7C', 'KH'],\n",
       " ['8C', '9C', '5H', 'JD', '7C'],\n",
       " ['7S', '4H', 'AD', '4D', '8S'],\n",
       " ['8D', 'TC', 'KS', 'KD', '9S'],\n",
       " ['7H', '8H', '6C', 'QD', '2H'],\n",
       " ['8D', '6D', '4C', '7C', '6C'],\n",
       " ['5S', '3S', '8S', 'JS', '9H'],\n",
       " ['JH', '7C', '2C', 'KC', '5H'],\n",
       " ['AD', 'AC', '2C', '6S', 'QD'],\n",
       " ['9D', 'JD', '4H', '8H', '4C'],\n",
       " ['3S', '5S', '2H', '7S', '6H'],\n",
       " ['5S', '8C', '9H', 'QS', '7H'],\n",
       " ['QS', '5S', 'TD', 'AC', '9D'],\n",
       " ['TD', '2H', '7D', 'JD', 'QD'],\n",
       " ['4C', '3H', '8S', 'KD', 'QH'],\n",
       " ['9C', 'QD', 'TH', '5H', 'TS'],\n",
       " ['4D', '6S', '3C', 'AC', '6C'],\n",
       " ['AC', '9C', '5D', 'QC', '4D'],\n",
       " ['AD', '3C', '4H', 'AC', '8D'],\n",
       " ['4H', '9H', 'QH', 'JS', '2D'],\n",
       " ['5S', '6S', '9S', '8D', 'TH'],\n",
       " ['JD', '2S', '9S', '6S', '5S'],\n",
       " ['5D', '8C', '4C', '9D', 'AD'],\n",
       " ['8S', 'QS', '4D', 'KC', '5C'],\n",
       " ['AS', '5C', 'AD', 'QH', '7D'],\n",
       " ['2S', '8S', 'JD', 'KH', '7S'],\n",
       " ['9H', '6H', '3S', '8C', '8H'],\n",
       " ['2C', 'TS', '4D', '7H', '2D'],\n",
       " ['6C', '8H', 'QC', '5D', 'TS'],\n",
       " ['2D', 'QC', '7H', 'AS', 'JS'],\n",
       " ['JS', '6S', 'AC', 'KD', '3D'],\n",
       " ['QH', 'KH', '6S', 'QS', '5S'],\n",
       " ['7H', 'AS', 'KH', '8C', '4H'],\n",
       " ['9C', '7C', '3H', '5S', 'QD'],\n",
       " ['JH', 'TD', '2D', '4C', 'TS'],\n",
       " ['AS', '4C', '5H', '4D', '6S'],\n",
       " ['3H', '6S', '8C', '2D', 'TH'],\n",
       " ['7C', '2S', '9H', '7H', 'KC'],\n",
       " ['3C', 'TC', '9C', '4H', 'QD'],\n",
       " ['7C', '6S', '5C', '5D', '6C'],\n",
       " ['AD', '2H', '7D', 'KC', '2C'],\n",
       " ['TH', '4C', '8S', '6S', '3S'],\n",
       " ['5C', 'TD', '4S', '4D', 'AD'],\n",
       " ['8H', '3S', '4D', '4S', '5S'],\n",
       " ['9H', '3C', 'AC', '4S', 'QS'],\n",
       " ['JC', '6C', '5H', 'TS', 'AC'],\n",
       " ['8S', '8H', '9C', 'JD', '2D'],\n",
       " ['KS', 'JS', '2H', '6H', '5H'],\n",
       " ['TC', '3H', '4S', '7H', 'QC'],\n",
       " ['AH', '8H', '5S', '4C', '9H'],\n",
       " ['3C', '2D', '4C', '5S', '6C'],\n",
       " ['5H', '2D', 'TC', 'AH', 'KS'],\n",
       " ['6C', '7S', '3C', 'JD', '7C'],\n",
       " ['AH', '7D', '3H', '8H', '8S'],\n",
       " ['JD', 'AC', '4H', '7S', '8S'],\n",
       " ['7S', '2C', '8S', '5S', 'JH'],\n",
       " ['AH', '2S', '9H', '4H', '8D'],\n",
       " ['4H', 'JC', '3H', 'QS', '6D'],\n",
       " ['5H', 'TD', '4S', '9S', '4C'],\n",
       " ['QS', 'KH', '3S', '2C', '2S'],\n",
       " ['7C', 'TD', '4D', '5S', 'KH'],\n",
       " ['2S', '5H', '6D', 'JD', '9H'],\n",
       " ['2S', 'TS', '6H', '9H', '7S'],\n",
       " ['2C', '5H', '7D', '4H', '3S'],\n",
       " ['4C', 'QH', '7C', 'QD', '3S'],\n",
       " ['9H', 'TC', '2S', 'TD', 'JC'],\n",
       " ['7D', '4C', '8S', '5C', 'JH'],\n",
       " ['JC', '3H', 'KH', 'TC', 'QH'],\n",
       " ['QS', '2H', '9D', '2C', 'AS'],\n",
       " ['9H', '7D', 'QC', 'TH', '4H'],\n",
       " ['4D', 'JH', '6S', '5S', '8H'],\n",
       " ['JD', '2D', '6S', '7S', 'TC'],\n",
       " ['2H', 'KH', '7C', '4D', '4S'],\n",
       " ['4C', 'JC', 'AS', '9D', '3C'],\n",
       " ['AH', 'JS', '3S', '6C', '4C'],\n",
       " ['9H', '2D', '8C', '7H', '5S'],\n",
       " ['6C', '8C', 'AD', '7H', '6H'],\n",
       " ['KS', '8C', '3S', 'TS', '8S'],\n",
       " ['9H', '4S', '4H', '5C', '7D'],\n",
       " ['5C', 'JS', 'TC', '9D', '9H'],\n",
       " ['7C', '9H', '8H', '4D', 'JC'],\n",
       " ['8H', '6C', '2H', '2C', 'KH'],\n",
       " ['AC', '7D', '2S', '3D', 'QD'],\n",
       " ['2H', 'JC', '2D', '7H', '2C'],\n",
       " ['3S', '4H', '6D', '8D', 'TS'],\n",
       " ['JH', 'JC', '3S', 'AC', 'QH'],\n",
       " ['7H', 'TD', 'QS', '4S', '8S'],\n",
       " ['3D', 'TS', '3H', '2S', 'QC'],\n",
       " ['5D', 'JD', '7D', 'TC', '8C'],\n",
       " ['8H', '6H', 'JH', '6C', '5D'],\n",
       " ['9D', '4H', '2D', '2C', '3S'],\n",
       " ['4D', 'TH', '5H', 'KS', 'QS'],\n",
       " ['5C', 'KC', '6H', '2C', '5S'],\n",
       " ['JD', '4C', '3H', 'TH', 'QH'],\n",
       " ['7D', '9S', '6S', '2H', 'TD'],\n",
       " ['3C', '6H', '5D', '4H', '8C'],\n",
       " ['3S', '9H', 'KD', 'TC', '2D'],\n",
       " ['2S', '4C', '8S', 'QS', '6H'],\n",
       " ['2C', 'KH', '5S', '3S', '7S'],\n",
       " ['8H', 'KS', 'AC', '2D', 'KH'],\n",
       " ['9C', 'KS', '5C', 'TD', 'QC'],\n",
       " ['5D', '4D', '3H', '4H', '6S'],\n",
       " ['2H', '7D', 'QC', '6S', 'TC'],\n",
       " ['TH', '5H', 'QD', '9S', 'KS'],\n",
       " ['TH', '2D', '4D', 'QC', '5C'],\n",
       " ['4H', '3H', 'AH', '8D', '6H'],\n",
       " ['2D', 'AD', '4C', 'TS', '6H'],\n",
       " ['3C', 'KD', '2H', '3H', 'QS'],\n",
       " ['KS', 'JC', 'QD', 'TH', '9S'],\n",
       " ['3C', 'QD', 'KD', '6D', '4D'],\n",
       " ['8H', '3S', '9D', '2S', '3H'],\n",
       " ['TH', '9S', '5C', '3D', '7D'],\n",
       " ['5C', '3D', 'JD', '4D', '2D'],\n",
       " ['AS', '7H', 'TD', '6C', '2H'],\n",
       " ['JC', '3C', 'AC', '7C', 'JD'],\n",
       " ['JD', '6S', '5S', '2H', 'AS'],\n",
       " ['8D', 'TC', '5S', '9S', '8S'],\n",
       " ['5C', 'TD', '3D', '7D', '4H'],\n",
       " ['QS', '9C', 'KS', 'TD', '2S'],\n",
       " ['TH', '7S', '4H', '7D', '3H'],\n",
       " ['JD', '7H', '4S', '8H', '4C'],\n",
       " ['2C', 'QS', '8C', '5S', '3H'],\n",
       " ['8C', '3D', 'JD', 'TC', '4H'],\n",
       " ['5D', '2C', 'JS', '2D', 'AD'],\n",
       " ['8D', '5H', '5D', '6H', '7S'],\n",
       " ['3D', '6D', '9C', '2S', 'AS'],\n",
       " ['7C', '8S', '3S', '6S', '5H'],\n",
       " ['2S', '9D', 'TS', '4D', 'AC'],\n",
       " ['9S', 'KH', '2C', '3C', 'AC'],\n",
       " ['KS', '3D', '2D', '6S', 'AS'],\n",
       " ['AC', '2H', '3S', 'JC', '5C'],\n",
       " ['TS', 'AS', 'JD', '8C', '6H'],\n",
       " ['7S', 'QH', '7H', '6C', 'QC'],\n",
       " ['2C', 'QD', '2S', '2H', 'JC'],\n",
       " ['7C', '5C', '9C', '8S', '7D'],\n",
       " ['2C', 'AD', '6S', '5H', '3S'],\n",
       " ['7H', '6C', '2C', '5C', 'TH'],\n",
       " ['5S', 'KC', '6H', 'TC', '5H'],\n",
       " ['9C', 'KD', '4H', 'AD', 'TD'],\n",
       " ['7H', '5C', '5H', '6D', 'AS'],\n",
       " ['3C', '2S', '5C', '6C', 'JD'],\n",
       " ['AC', '2S', '6S', '7S', 'JS'],\n",
       " ['5H', 'TH', 'QC', '7H', 'TC'],\n",
       " ['4H', '3D', 'QC', '9S', '8H'],\n",
       " ['4S', '6S', '2C', '6H', '8S'],\n",
       " ['4S', '8C', '4D', '2D', '8H'],\n",
       " ['9S', '2C', '9H', '4C', '8D'],\n",
       " ['6S', '4C', '7H', '8C', '3H'],\n",
       " ['2S', '7C', '5S', 'JD', '8C'],\n",
       " ['3C', 'KC', '4S', '5D', '7D'],\n",
       " ['9C', '9H', '4H', '4D', 'TH'],\n",
       " ['2H', 'AC', '8S', '4S', 'AD'],\n",
       " ['TS', '9H', '3C', 'AD', 'KS'],\n",
       " ['QC', '8D', '2C', '3C', '7D'],\n",
       " ['AH', '6S', 'JS', 'JH', '5D'],\n",
       " ['9H', 'KD', '2H', '5D', '2D'],\n",
       " ['TD', '8H', 'AS', '5D', 'AH'],\n",
       " ['KS', '4S', '7H', '4D', '8D'],\n",
       " ['3H', 'KD', '4S', 'QD', 'QH'],\n",
       " ['8S', 'JD', 'TC', 'AH', 'JS'],\n",
       " ['3C', 'AD', 'JC', 'KD', 'JS'],\n",
       " ['QC', '5S', 'JS', '9S', 'KS'],\n",
       " ['KC', '5S', 'QS', '3S', '2D'],\n",
       " ['6H', '9C', 'TC', 'AD', '2C'],\n",
       " ['QS', 'KH', 'TD', 'QD', '2C'],\n",
       " ['9D', '9H', 'JH', 'TC', 'QH'],\n",
       " ['6C', '3S', '3D', '2S', '4S'],\n",
       " ['2D', '6H', '6D', '2S', 'JC'],\n",
       " ['5H', '6S', 'KS', 'AD', 'TC'],\n",
       " ['AD', '3C', '4H', 'QS', '8C'],\n",
       " ['4S', '9D', '6C', '6D', '9C'],\n",
       " ['JC', 'AH', '6C', 'TS', 'JD'],\n",
       " ['JC', 'JH', 'JD', '3S', '7S'],\n",
       " ['JD', 'TH', '5C', '2C', 'AD'],\n",
       " ['8D', '3S', 'JH', '4D', 'QC'],\n",
       " ['2C', 'AC', '5H', 'KD', '5S'],\n",
       " ['JC', 'QH', '8D', '8S', 'TC'],\n",
       " ['3H', 'JS', '8S', 'QD', 'JH'],\n",
       " ['6D', '4S', '4C', 'AH', '5H'],\n",
       " ['8H', 'AH', '2H', '3H', 'JS'],\n",
       " ['6S', '2H', 'KD', '5H', '8H'],\n",
       " ['2S', '7S', 'KC', 'QC', 'AH'],\n",
       " ['5S', '9H', '2C', '3S', 'QD'],\n",
       " ['3C', '6C', '5C', '5S', 'JD'],\n",
       " ['7C', 'KS', '6S', '5S', '2S'],\n",
       " ['AS', '7H', '6S', 'TS', '5H'],\n",
       " ['4S', 'JS', 'QS', '3S', '4H'],\n",
       " ['8C', 'JH', '2H', '5H', '7C'],\n",
       " ['3S', 'TD', '3H', '7C', 'KC'],\n",
       " ['4H', 'KH', 'JD', 'TS', '3C'],\n",
       " ['AH', '9D', '2C', '8D', '4D'],\n",
       " ['2S', '6H', '9D', '3S', '7H'],\n",
       " ['9C', 'TC', 'AC', 'JH', 'KH'],\n",
       " ['7S', '4H', '9D', 'AS', '4C'],\n",
       " ['3S', '8D', '8S', 'KS', '8C'],\n",
       " ['8S', 'QH', '2C', '4D', 'KC'],\n",
       " ['8S', '8C', '7C', 'JS', 'JD'],\n",
       " ['QH', '5D', '2C', '7D', 'JC'],\n",
       " ['JS', '4C', '7S', 'TS', 'JH'],\n",
       " ['QD', '8C', '8D', '2D', '6S'],\n",
       " ['QH', 'QC', 'JS', '3D', '3C'],\n",
       " ['7C', '2C', '5S', 'JC', '8S'],\n",
       " ['5S', '8D', 'KD', '6H', '4H'],\n",
       " ['7S', 'KS', '6C', '2S', '4D'],\n",
       " ['7C', '2D', 'TC', '5D', 'QS'],\n",
       " ['2C', 'KS', '4D', '3H', 'TS'],\n",
       " ['QD', '9H', 'QH', '5H', '4H'],\n",
       " ['4D', 'AC', 'KC', '8D', '6D'],\n",
       " ['2C', '9H', '2D', 'AH', '3H'],\n",
       " ['8C', '3H', 'KD', '7C', '5C'],\n",
       " ['TH', 'JD', '4H', 'KD', '3H'],\n",
       " ['6D', '7H', 'AH', '7S', 'QC'],\n",
       " ['JH', '5D', '7H', 'TC', '9S'],\n",
       " ['2H', '8C', 'AD', 'TH', '6H'],\n",
       " ['QH', 'KC', '9D', '4D', '3S'],\n",
       " ['TC', '7H', 'KH', '4H', 'JC'],\n",
       " ['AD', '7D', 'JH', '6C', '7H'],\n",
       " ['JD', '2H', '5C', 'AS', '6C'],\n",
       " ['AC', 'JD', '3H', '6H', '4C'],\n",
       " ['4H', 'TC', 'TS', '2C', '8C'],\n",
       " ['4C', '3H', 'QS', 'QC', '9S'],\n",
       " ['5C', 'AD', '8C', '2C', 'QH'],\n",
       " ['QC', '2C', '2S', 'QD', '9C'],\n",
       " ['9D', '3S', '2C', '7S', '7C'],\n",
       " ['3C', 'TS', '8H', '5C', '4C'],\n",
       " ['KS', '7H', '2H', 'TC', '4H'],\n",
       " ['8C', '2D', '2H', '2C', '4S'],\n",
       " ['TH', 'QC', '5D', 'TD', '3C'],\n",
       " ['4D', 'AH', 'KD', '9H', 'KS'],\n",
       " ['KC', '4H', '5C', 'QS', 'TC'],\n",
       " ['4S', '9H', '3H', '5H', '3C'],\n",
       " ['5D', 'AS', '7H', '2C', '3D'],\n",
       " ['9C', 'JD', '9H', 'AH', 'JS'],\n",
       " ['3S', 'AC', 'QC', 'TS', '4D'],\n",
       " ['7H', '3H', 'QS', '9C', '9S'],\n",
       " ['8D', '3C', 'JD', '2H', 'AC'],\n",
       " ['7C', 'JH', '9H', '6C', 'JS'],\n",
       " ['2D', 'AS', '9S', '6H', '4D'],\n",
       " ['6H', '7S', 'JH', 'KH', 'AH'],\n",
       " ['8H', 'JH', '6S', '5H', '5S'],\n",
       " ['7D', '2C', 'KD', '3H', '5H'],\n",
       " ['TS', 'QH', '6C', '8H', 'TH'],\n",
       " ['AD', 'KH', 'JS', '5D', '3H'],\n",
       " ['2C', 'KH', '8C', 'JC', 'QS'],\n",
       " ['9D', '3H', '2S', '7C', '4D'],\n",
       " ['9H', '2S', 'TC', 'JH', 'AC'],\n",
       " ['3S', 'AS', 'KD', '8H', '4C'],\n",
       " ['7S', '6D', '7H', '9D', 'JH'],\n",
       " ['4S', '2H', '2C', '4C', '8S'],\n",
       " ['3H', '3S', '6C', 'QS', 'QC'],\n",
       " ['2H', '8D', 'JH', '2S', '3H'],\n",
       " ['9H', 'JS', '5D', 'QH', '8S'],\n",
       " ['6D', 'QC', '9S', '7H', '5H'],\n",
       " ['QC', '5S', '9H', '9C', '4D'],\n",
       " ['9H', '7C', '4H', '8D', '3S'],\n",
       " ['2D', '6H', 'JS', 'TD', '4H'],\n",
       " ['AC', '7C', '8D', 'TH', '3H'],\n",
       " ['KD', 'QS', '9C', '7S', '3D'],\n",
       " ['QH', '9C', '8H', '2S', '7D'],\n",
       " ['9C', '2S', '2H', 'JC', '6S'],\n",
       " ['7S', 'AC', '8H', 'KC', '8S'],\n",
       " ['JS', '2D', 'JH', '8C', '4S'],\n",
       " ['6H', '7D', '2S', '4H', '9H'],\n",
       " ['3C', 'JS', '4S', '6D', '5H'],\n",
       " ['3D', '5S', '6S', '9S', '4C'],\n",
       " ['9C', '3D', 'AH', '9H', '5S'],\n",
       " ['7H', 'TC', 'AS', '3C', '6S'],\n",
       " ['3S', 'TC', '8H', '6S', '5H'],\n",
       " ['QD', '9D', '9C', '3S', 'JC'],\n",
       " ['JS', 'AH', 'JD', '6D', '9D'],\n",
       " ['2D', '6S', '4C', '4D', '8S'],\n",
       " ['TS', 'AC', 'QC', 'TH', 'KC'],\n",
       " ['3C', 'QD', 'JS', '9D', '5S'],\n",
       " ['3H', '4D', 'QH', '5D', '9C'],\n",
       " ['8S', 'TH', '3H', '7C', '2H'],\n",
       " ['9C', '2H', 'TD', 'KC', 'JD'],\n",
       " ['3D', 'KD', '7C', '5H', '4D'],\n",
       " ['7H', '2C', 'KC', '5S', 'KD'],\n",
       " ['6H', '5C', 'AC', '5H', '2C'],\n",
       " ['4D', '9D', 'AH', '3D', '7C'],\n",
       " ['TH', '3C', 'JS', 'QH', '8H'],\n",
       " ['4D', '7S', '5H', 'JH', '6D'],\n",
       " ['QD', '8S', '7D', '2H', '2C'],\n",
       " ['QH', '8S', '9D', 'TC', '2H'],\n",
       " ['3S', '7C', 'AD', '9H', '2H'],\n",
       " ['3S', 'AS', '4H', 'QC', '2C'],\n",
       " ['JH', 'TH', 'TD', '3S', '4D'],\n",
       " ['8C', 'QD', 'QH', 'TC', '6D'],\n",
       " ['8C', 'JS', '9D', '6H', 'JD'],\n",
       " ['KC', '8S', '3D', '7C', 'TD'],\n",
       " ['6C', '4S', '3D', '9D', 'KD'],\n",
       " ['7C', '6S', 'QH', '3D', 'JS'],\n",
       " ['JD', '2S', '5S', '4H', '8S'],\n",
       " ['5H', '8C', '5S', '3C', '4S'],\n",
       " ['AS', 'TS', '7C', '3H', 'AD'],\n",
       " ['3S', '9S', '4C', 'AC', 'QH'],\n",
       " ['6C', '5C', '7H', '7S', 'TD'],\n",
       " ['7D', '6C', 'KC', '3S', 'JD'],\n",
       " ['8S', 'QS', '8D', '6C', 'TH'],\n",
       " ['7H', 'TD', 'KH', 'QH', '8S'],\n",
       " ['TS', '3D', '2H', 'JC', '2S'],\n",
       " ['KC', 'TH', '2D', '6H', '7S'],\n",
       " ['3C', '9D', '6S', 'KH', '8H'],\n",
       " ['6H', 'TC', '7D', 'AD', '4D'],\n",
       " ['JS', '6D', 'JD', 'JC', '2H'],\n",
       " ['KH', 'JD', '9S', '5D', '4H'],\n",
       " ['4H', 'JD', '5D', '3S', '3C'],\n",
       " ['JD', 'TS', '8S', 'QD', 'AH'],\n",
       " ['QS', '3D', 'JD', 'AS', '8D'],\n",
       " ['7S', '2H', '8C', 'QC', '7H'],\n",
       " ['5S', '6C', '7H', 'KH', '7D'],\n",
       " ['3C', 'KD', 'AD', '7D', '6C'],\n",
       " ['7C', '8D', '5S', '2D', '2S'],\n",
       " ['3C', 'AD', '4S', 'KS', 'JH'],\n",
       " ['AS', 'TD', '4D', '7C', 'JD'],\n",
       " ['3H', '9C', '8S', '9S', '6S'],\n",
       " ['QC', '9C', '5S', '4H', '2H'],\n",
       " ['8C', '2C', '9D', 'KD', 'TC'],\n",
       " ['4D', 'AS', '4C', 'QS', '5S'],\n",
       " ['6D', 'AH', '6C', '4C', '5H'],\n",
       " ['QS', 'JD', '7C', '8D', '9C'],\n",
       " ['8H', 'JH', '5D', '9S', '6D'],\n",
       " ['QD', 'AD', '5C', 'JH', '2H'],\n",
       " ['JH', '9C', '2C', '6H', '2D'],\n",
       " ['7D', '9D', 'KD', 'TH', '3H'],\n",
       " ['JD', '4H', '7D', 'KC', '3H'],\n",
       " ['4C', '3H', '8C', 'QD', '5H'],\n",
       " ['TH', '8S', 'KD', '5D', 'QC'],\n",
       " ['7D', 'KC', '9D', 'QS', '3H'],\n",
       " ['7C', '4H', '7H', 'AH', 'QC'],\n",
       " ['3C', '4H', '2S', 'KD', '8H'],\n",
       " ['4S', '8C', '3D', '4H', 'JS'],\n",
       " ['7C', 'QC', 'KD', '4D', '7H'],\n",
       " ['5H', '9H', 'KC', '3H', '4D'],\n",
       " ['TH', '7C', '6H', 'TS', 'QH'],\n",
       " ['7C', '4D', '5S', 'JD', 'JH'],\n",
       " ['7D', '6C', '8D', '8H', '5C'],\n",
       " ['8D', '7D', '6C', '7C', '9D'],\n",
       " ['9S', '2C', '8C', '3C', '4C'],\n",
       " ['7S', '6C', 'JH', 'KH', '8H'],\n",
       " ['4D', 'TC', '9C', '8D', '7H'],\n",
       " ['JD', '9H', '8D', 'QD', 'AS'],\n",
       " ['8D', '3H', '5C', '7H', 'KS'],\n",
       " ['2D', 'TH', '6D', 'QD', '6C'],\n",
       " ['4H', '3H', 'JS', '9D', '3C'],\n",
       " ['3D', '5C', '6H', '3S', '3C'],\n",
       " ['AC', '5C', '8C', '4D', '5D'],\n",
       " ['2C', 'TD', 'AH', '9C', 'KD'],\n",
       " ['QS', '8C', '3S', '4H', 'TC'],\n",
       " ['5H', '4D', '9C', 'KS', 'JC'],\n",
       " ['QD', 'TS', '7D', 'AS', 'AC'],\n",
       " ['6S', 'AD', '8C', '4S', '9H'],\n",
       " ['QS', '4D', '2D', '7S', 'KH'],\n",
       " ['QS', '9S', '7H', 'KC', 'TD'],\n",
       " ['6D', 'AC', '2S', 'QS', '7C'],\n",
       " ['6D', '8H', 'KH', '3C', 'QS'],\n",
       " ['JS', '2C', '4C', '6H', '7D'],\n",
       " ['4H', 'QC', '8H', 'JD', '4C'],\n",
       " ['6D', '2D', '3H', '2S', 'QD'],\n",
       " ['AS', '6D', '8D', '2C', '8S'],\n",
       " ['9C', '9H', '2D', 'TD', 'QH'],\n",
       " ['KC', '8S', '3D', 'KH', '2S'],\n",
       " ['9H', '9D', 'QS', 'AC', 'KC'],\n",
       " ['9S', '5C', 'QS', '4H', '7C'],\n",
       " ['3D', 'AC', '9S', 'AS', '2C'],\n",
       " ['7H', 'QH', 'KH', 'JD', 'TC'],\n",
       " ['2H', '7H', '3S', '2S', '5H'],\n",
       " ['AD', '3D', 'JD', '6H', '5S'],\n",
       " ['3D', '5D', '9C', '2D', 'AC'],\n",
       " ['QC', '4C', '2D', '3H', '6S'],\n",
       " ['QC', '3C', '8S', '4D', '9S'],\n",
       " ['6D', 'KD', '6S', '7H', '3S'],\n",
       " ['3S', '9S', 'TC', '6S', '8H'],\n",
       " ['3C', '6H', '9C', '3H', '5C'],\n",
       " ['3C', 'JS', 'QD', '5D', 'TD'],\n",
       " ['9S', 'TC', 'JD', '3D', '5C'],\n",
       " ['TC', '7H', '4H', '8H', '3H'],\n",
       " ['QS', '9D', '5D', '3C', 'JC'],\n",
       " ['9S', '6S', '3C', '7H', 'TS'],\n",
       " ['2D', '9H', 'AH', 'AC', '7H'],\n",
       " ['QD', '9H', '3C', '2H', 'AC'],\n",
       " ['2D', '7S', 'TD', 'TH', '6D'],\n",
       " ['8S', 'QH', 'KD', 'JD', 'QS'],\n",
       " ['3C', 'KH', 'QC', '6D', '8H'],\n",
       " ['5S', '9H', 'QH', '4S', '6S'],\n",
       " ['6C', '4C', '6D', 'QS', 'JS'],\n",
       " ['JS', '5C', '7S', 'AS', '2C'],\n",
       " ['KD', '6C', '9C', '9D', 'TS'],\n",
       " ['QS', '9H', 'TC', '3H', 'KC'],\n",
       " ['KH', '9C', '2H', 'KD', '9D'],\n",
       " ['7C', '3S', 'KC', 'AS', '8C'],\n",
       " ['2D', '8C', 'TD', '4C', '2H'],\n",
       " ['KS', '4D', '6C', 'QH', 'TD'],\n",
       " ['2S', '9S', '8S', '4C', '8C'],\n",
       " ['6C', '8S', 'QH', '5H', 'TS'],\n",
       " ['8S', '6S', '2H', 'JC', '3S'],\n",
       " ['QC', '2C', '8H', '9C', 'AC'],\n",
       " ['3H', '3S', '7D', '4C', '9S'],\n",
       " ['QH', '2S', '2D', '9S', 'KD'],\n",
       " ['8D', '2D', 'KS', '9S', 'JC'],\n",
       " ['KH', 'TS', '6D', '4D', '5C'],\n",
       " ['QD', 'JS', '7C', '6D', '5D'],\n",
       " ['9D', 'QH', 'KH', '5H', 'JH'],\n",
       " ['KH', 'AS', 'TS', '9D', 'KD'],\n",
       " ['KH', 'AS', '2S', '7D', '9D'],\n",
       " ['KS', '4D', 'AC', '8S', '9S'],\n",
       " ['5D', '5C', '8C', 'QS', 'TC'],\n",
       " ['9D', 'KS', '2D', '3C', 'KC'],\n",
       " ['8H', 'AH', '6H', '7D', '7S'],\n",
       " ['3H', '2C', 'QH', '8H', 'AS'],\n",
       " ['QD', '5S', '4H', '2C', 'TD'],\n",
       " ['3H', 'QS', '5S', 'JS', '8H'],\n",
       " ['6H', 'TS', '7S', 'JC', 'QD'],\n",
       " ['QH', 'AS', 'QS', '7D', 'JC'],\n",
       " ['QH', '3D', 'AS', 'JS', '4H'],\n",
       " ['5D', '4D', '2S', '4S', '9D'],\n",
       " ['6D', '7H', '3H', 'JS', 'TS'],\n",
       " ['JH', '5H', 'KC', '3C', 'TC'],\n",
       " ['8S', 'KC', '5H', '9H', 'AD'],\n",
       " ['JC', '2H', '9H', 'KS', '6S'],\n",
       " ['5C', 'KH', '5S', 'AD', '6C'],\n",
       " ['5S', '5D', 'JC', 'QH', '2D'],\n",
       " ['JH', '5H', '5S', 'AH', '7H'],\n",
       " ['6H', '3D', 'JD', '2C', '4C'],\n",
       " ['4C', 'KS', '9D', 'AD', '7S'],\n",
       " ['7H', '5C', '5H', '3C', '8H'],\n",
       " ['2D', '4H', '5D', '7D', 'QC'],\n",
       " ['KD', '8C', 'JS', '9D', '3S'],\n",
       " ['8S', '6S', 'TS', '3C', '6H'],\n",
       " ['KS', '3D', 'JH', '9C', '7C'],\n",
       " ['7S', '6S', 'TH', '4S', 'KC'],\n",
       " ['7C', '3C', '2S', '6D', 'QH'],\n",
       " ['KC', '8D', 'QD', '6D', 'KH'],\n",
       " ['6H', '2D', '8S', 'JS', '9S'],\n",
       " ['KD', '9C', 'JH', '7H', 'KC'],\n",
       " ['4H', '9H', '2D', '4C', '8H'],\n",
       " ['AD', '7C', '3C', '7S', '5S'],\n",
       " ['5D', 'AS', '7D', '6D', '9C'],\n",
       " ['KD', 'JD', '7D', '3D', 'QS'],\n",
       " ['6S', '8C', '5S', 'QH', 'TH'],\n",
       " ['QC', 'KS', 'QH', '7S', '3C'],\n",
       " ['6C', '4H', '9D', 'AH', '2C'],\n",
       " ['TD', '8S', 'QS', 'AS', 'JS'],\n",
       " ['7D', '5D', 'TS', '9H', '4H'],\n",
       " ['2C', '7D', '9H', '4D', 'KS'],\n",
       " ['QD', 'AD', 'AH', 'KH', '9D'],\n",
       " ['8S', '3C', '4S', 'TS', '7S'],\n",
       " ['JS', '7S', '5C', 'KD', '6D'],\n",
       " ['QH', '6C', 'TC', '6H', 'TD'],\n",
       " ['3D', 'TS', '4D', '2H', '6H'],\n",
       " ['9H', '9D', 'JD', 'JH', '3S'],\n",
       " ['2C', 'QS', '8C', '5S', '3H'],\n",
       " ['5C', 'QC', 'QH', 'AS', 'TS'],\n",
       " ['JH', '5C', 'TD', '4C', '6H'],\n",
       " ['TC', 'KH', 'JC', '4D', '9H'],\n",
       " ['2H', 'TC', '8S', 'AD', '9S'],\n",
       " ['4H', '2S', '6C', '5S', 'KS'],\n",
       " ['TS', 'QH', 'TD', 'QS', '3C'],\n",
       " ['5D', 'KC', '3H', '5S', 'AC'],\n",
       " ['3D', '7D', 'QC', 'KH', 'JH'],\n",
       " ['5S', '8D', 'TH', '6C', '9D'],\n",
       " ['JD', 'QS', '7S', 'QC', '2S'],\n",
       " ['7S', '5S', '9S', 'JD', 'KD'],\n",
       " ['4S', '5H', 'AH', 'JH', '9C'],\n",
       " ['KC', '6C', '7H', '6S', '9C'],\n",
       " ['6S', '8D', 'KS', '2D', 'TH'],\n",
       " ['KH', 'JS', '4H', '5D', '9D'],\n",
       " ['QS', 'QD', 'AC', 'AD', '4C'],\n",
       " ['4C', '7C', '3C', 'TD', 'QS'],\n",
       " ['KC', '7H', 'QC', '6D', '8H'],\n",
       " ['3S', 'AD', '9H', 'JC', '6D'],\n",
       " ['AD', '3D', 'TS', 'KS', '7H'],\n",
       " ['9C', 'JD', '7C', '6D', 'TC'],\n",
       " ['QC', 'KC', '3S', 'JC', 'KD'],\n",
       " ['AS', 'KD', '3D', 'JD', '8H']]"
      ]
     },
     "execution_count": 27,
     "metadata": {},
     "output_type": "execute_result"
    }
   ],
   "source": [
    "player1"
   ]
  },
  {
   "cell_type": "markdown",
   "metadata": {},
   "source": [
    "# Problem 60\n",
    "### 다섯 소수 중 어떤 두 개를 이어붙여도 소수가 되는 수 찾기"
   ]
  },
  {
   "cell_type": "code",
   "execution_count": 25,
   "metadata": {},
   "outputs": [],
   "source": [
    "def concat_nums(a, b):\n",
    "    return int(str(a) + str(b))"
   ]
  },
  {
   "cell_type": "code",
   "execution_count": 26,
   "metadata": {},
   "outputs": [],
   "source": [
    "def is_prime(n):\n",
    "    return all([(n%j) for j in range(2, int(n**0.5)+1)]) and n>1"
   ]
  },
  {
   "cell_type": "code",
   "execution_count": 45,
   "metadata": {},
   "outputs": [],
   "source": [
    "def detect(p1, p2, primes):\n",
    "    return concat_nums(p1, p2) in primes and concat_nums(p1, p2) in primes"
   ]
  },
  {
   "cell_type": "code",
   "execution_count": 50,
   "metadata": {},
   "outputs": [
    {
     "data": {
      "text/plain": [
       "[0, 1, 0, 0, 4, 2, 4, 1, 0]"
      ]
     },
     "execution_count": 50,
     "metadata": {},
     "output_type": "execute_result"
    }
   ],
   "source": [
    "n = 100\n",
    "[(n%j) for j in range(2, int(n**0.5)+1)]"
   ]
  },
  {
   "cell_type": "code",
   "execution_count": 49,
   "metadata": {},
   "outputs": [
    {
     "ename": "KeyboardInterrupt",
     "evalue": "",
     "output_type": "error",
     "traceback": [
      "\u001b[1;31m---------------------------------------------------------------------------\u001b[0m",
      "\u001b[1;31mKeyboardInterrupt\u001b[0m                         Traceback (most recent call last)",
      "\u001b[1;32m<timed exec>\u001b[0m in \u001b[0;36m<module>\u001b[1;34m\u001b[0m\n",
      "\u001b[1;32m<timed exec>\u001b[0m in \u001b[0;36m<listcomp>\u001b[1;34m(.0)\u001b[0m\n",
      "\u001b[1;32m<ipython-input-26-3c3be67327d9>\u001b[0m in \u001b[0;36mis_prime\u001b[1;34m(n)\u001b[0m\n\u001b[0;32m      1\u001b[0m \u001b[1;32mdef\u001b[0m \u001b[0mis_prime\u001b[0m\u001b[1;33m(\u001b[0m\u001b[0mn\u001b[0m\u001b[1;33m)\u001b[0m\u001b[1;33m:\u001b[0m\u001b[1;33m\u001b[0m\u001b[1;33m\u001b[0m\u001b[0m\n\u001b[1;32m----> 2\u001b[1;33m     \u001b[1;32mreturn\u001b[0m \u001b[0mall\u001b[0m\u001b[1;33m(\u001b[0m\u001b[1;33m[\u001b[0m\u001b[1;33m(\u001b[0m\u001b[0mn\u001b[0m\u001b[1;33m%\u001b[0m\u001b[0mj\u001b[0m\u001b[1;33m)\u001b[0m \u001b[1;32mfor\u001b[0m \u001b[0mj\u001b[0m \u001b[1;32min\u001b[0m \u001b[0mrange\u001b[0m\u001b[1;33m(\u001b[0m\u001b[1;36m2\u001b[0m\u001b[1;33m,\u001b[0m \u001b[0mint\u001b[0m\u001b[1;33m(\u001b[0m\u001b[0mn\u001b[0m\u001b[1;33m**\u001b[0m\u001b[1;36m0.5\u001b[0m\u001b[1;33m)\u001b[0m\u001b[1;33m+\u001b[0m\u001b[1;36m1\u001b[0m\u001b[1;33m)\u001b[0m\u001b[1;33m]\u001b[0m\u001b[1;33m)\u001b[0m \u001b[1;32mand\u001b[0m \u001b[0mn\u001b[0m\u001b[1;33m>\u001b[0m\u001b[1;36m1\u001b[0m\u001b[1;33m\u001b[0m\u001b[1;33m\u001b[0m\u001b[0m\n\u001b[0m",
      "\u001b[1;32m<ipython-input-26-3c3be67327d9>\u001b[0m in \u001b[0;36m<listcomp>\u001b[1;34m(.0)\u001b[0m\n\u001b[0;32m      1\u001b[0m \u001b[1;32mdef\u001b[0m \u001b[0mis_prime\u001b[0m\u001b[1;33m(\u001b[0m\u001b[0mn\u001b[0m\u001b[1;33m)\u001b[0m\u001b[1;33m:\u001b[0m\u001b[1;33m\u001b[0m\u001b[1;33m\u001b[0m\u001b[0m\n\u001b[1;32m----> 2\u001b[1;33m     \u001b[1;32mreturn\u001b[0m \u001b[0mall\u001b[0m\u001b[1;33m(\u001b[0m\u001b[1;33m[\u001b[0m\u001b[1;33m(\u001b[0m\u001b[0mn\u001b[0m\u001b[1;33m%\u001b[0m\u001b[0mj\u001b[0m\u001b[1;33m)\u001b[0m \u001b[1;32mfor\u001b[0m \u001b[0mj\u001b[0m \u001b[1;32min\u001b[0m \u001b[0mrange\u001b[0m\u001b[1;33m(\u001b[0m\u001b[1;36m2\u001b[0m\u001b[1;33m,\u001b[0m \u001b[0mint\u001b[0m\u001b[1;33m(\u001b[0m\u001b[0mn\u001b[0m\u001b[1;33m**\u001b[0m\u001b[1;36m0.5\u001b[0m\u001b[1;33m)\u001b[0m\u001b[1;33m+\u001b[0m\u001b[1;36m1\u001b[0m\u001b[1;33m)\u001b[0m\u001b[1;33m]\u001b[0m\u001b[1;33m)\u001b[0m \u001b[1;32mand\u001b[0m \u001b[0mn\u001b[0m\u001b[1;33m>\u001b[0m\u001b[1;36m1\u001b[0m\u001b[1;33m\u001b[0m\u001b[1;33m\u001b[0m\u001b[0m\n\u001b[0m",
      "\u001b[1;31mKeyboardInterrupt\u001b[0m: "
     ]
    }
   ],
   "source": [
    "%%time\n",
    "primes = [n for n in range(3, int(1e8)) if is_prime(n)]"
   ]
  },
  {
   "cell_type": "code",
   "execution_count": null,
   "metadata": {},
   "outputs": [],
   "source": [
    "primes"
   ]
  },
  {
   "cell_type": "code",
   "execution_count": 32,
   "metadata": {},
   "outputs": [
    {
     "name": "stdout",
     "output_type": "stream",
     "text": [
      "Wall time: 29 ms\n"
     ]
    }
   ],
   "source": [
    "%%time\n",
    "ps1 = [n for n in range(3, int(1e4)) if is_prime(n)]"
   ]
  },
  {
   "cell_type": "code",
   "execution_count": 46,
   "metadata": {},
   "outputs": [
    {
     "ename": "KeyboardInterrupt",
     "evalue": "",
     "output_type": "error",
     "traceback": [
      "\u001b[1;31m---------------------------------------------------------------------------\u001b[0m",
      "\u001b[1;31mKeyboardInterrupt\u001b[0m                         Traceback (most recent call last)",
      "\u001b[1;32m<ipython-input-46-f1b572c25d34>\u001b[0m in \u001b[0;36m<module>\u001b[1;34m\u001b[0m\n\u001b[0;32m      2\u001b[0m \u001b[1;32mfor\u001b[0m \u001b[0mix\u001b[0m\u001b[1;33m,\u001b[0m \u001b[0mp1\u001b[0m \u001b[1;32min\u001b[0m \u001b[0menumerate\u001b[0m\u001b[1;33m(\u001b[0m\u001b[0mps1\u001b[0m\u001b[1;33m,\u001b[0m \u001b[0mstart\u001b[0m\u001b[1;33m=\u001b[0m\u001b[1;36m1\u001b[0m\u001b[1;33m)\u001b[0m\u001b[1;33m:\u001b[0m\u001b[1;33m\u001b[0m\u001b[1;33m\u001b[0m\u001b[0m\n\u001b[0;32m      3\u001b[0m     \u001b[1;32mfor\u001b[0m \u001b[0mp2\u001b[0m \u001b[1;32min\u001b[0m \u001b[0mps1\u001b[0m\u001b[1;33m[\u001b[0m\u001b[0mix\u001b[0m\u001b[1;33m:\u001b[0m\u001b[1;33m]\u001b[0m\u001b[1;33m:\u001b[0m\u001b[1;33m\u001b[0m\u001b[1;33m\u001b[0m\u001b[0m\n\u001b[1;32m----> 4\u001b[1;33m         \u001b[1;32mif\u001b[0m \u001b[0mdetect\u001b[0m\u001b[1;33m(\u001b[0m\u001b[0mp1\u001b[0m\u001b[1;33m,\u001b[0m \u001b[0mp2\u001b[0m\u001b[1;33m)\u001b[0m\u001b[1;33m:\u001b[0m\u001b[1;33m\u001b[0m\u001b[1;33m\u001b[0m\u001b[0m\n\u001b[0m\u001b[0;32m      5\u001b[0m             \u001b[0ma\u001b[0m \u001b[1;33m+=\u001b[0m \u001b[1;36m1\u001b[0m\u001b[1;33m\u001b[0m\u001b[1;33m\u001b[0m\u001b[0m\n",
      "\u001b[1;32m<ipython-input-45-cc073792f939>\u001b[0m in \u001b[0;36mdetect\u001b[1;34m(p1, p2)\u001b[0m\n\u001b[0;32m      1\u001b[0m \u001b[1;32mdef\u001b[0m \u001b[0mdetect\u001b[0m\u001b[1;33m(\u001b[0m\u001b[0mp1\u001b[0m\u001b[1;33m,\u001b[0m \u001b[0mp2\u001b[0m\u001b[1;33m)\u001b[0m\u001b[1;33m:\u001b[0m\u001b[1;33m\u001b[0m\u001b[1;33m\u001b[0m\u001b[0m\n\u001b[1;32m----> 2\u001b[1;33m     \u001b[1;32mreturn\u001b[0m \u001b[0mis_prime\u001b[0m\u001b[1;33m(\u001b[0m\u001b[0mconcat_nums\u001b[0m\u001b[1;33m(\u001b[0m\u001b[0mp1\u001b[0m\u001b[1;33m,\u001b[0m \u001b[0mp2\u001b[0m\u001b[1;33m)\u001b[0m\u001b[1;33m)\u001b[0m \u001b[1;32mand\u001b[0m \u001b[0mis_prime\u001b[0m\u001b[1;33m(\u001b[0m\u001b[0mconcat_nums\u001b[0m\u001b[1;33m(\u001b[0m\u001b[0mp1\u001b[0m\u001b[1;33m,\u001b[0m \u001b[0mp2\u001b[0m\u001b[1;33m)\u001b[0m\u001b[1;33m)\u001b[0m\u001b[1;33m\u001b[0m\u001b[1;33m\u001b[0m\u001b[0m\n\u001b[0m",
      "\u001b[1;32m<ipython-input-26-3c3be67327d9>\u001b[0m in \u001b[0;36mis_prime\u001b[1;34m(n)\u001b[0m\n\u001b[0;32m      1\u001b[0m \u001b[1;32mdef\u001b[0m \u001b[0mis_prime\u001b[0m\u001b[1;33m(\u001b[0m\u001b[0mn\u001b[0m\u001b[1;33m)\u001b[0m\u001b[1;33m:\u001b[0m\u001b[1;33m\u001b[0m\u001b[1;33m\u001b[0m\u001b[0m\n\u001b[1;32m----> 2\u001b[1;33m     \u001b[1;32mreturn\u001b[0m \u001b[0mall\u001b[0m\u001b[1;33m(\u001b[0m\u001b[1;33m[\u001b[0m\u001b[1;33m(\u001b[0m\u001b[0mn\u001b[0m\u001b[1;33m%\u001b[0m\u001b[0mj\u001b[0m\u001b[1;33m)\u001b[0m \u001b[1;32mfor\u001b[0m \u001b[0mj\u001b[0m \u001b[1;32min\u001b[0m \u001b[0mrange\u001b[0m\u001b[1;33m(\u001b[0m\u001b[1;36m2\u001b[0m\u001b[1;33m,\u001b[0m \u001b[0mint\u001b[0m\u001b[1;33m(\u001b[0m\u001b[0mn\u001b[0m\u001b[1;33m**\u001b[0m\u001b[1;36m0.5\u001b[0m\u001b[1;33m)\u001b[0m\u001b[1;33m+\u001b[0m\u001b[1;36m1\u001b[0m\u001b[1;33m)\u001b[0m\u001b[1;33m]\u001b[0m\u001b[1;33m)\u001b[0m \u001b[1;32mand\u001b[0m \u001b[0mn\u001b[0m\u001b[1;33m>\u001b[0m\u001b[1;36m1\u001b[0m\u001b[1;33m\u001b[0m\u001b[1;33m\u001b[0m\u001b[0m\n\u001b[0m",
      "\u001b[1;32m<ipython-input-26-3c3be67327d9>\u001b[0m in \u001b[0;36m<listcomp>\u001b[1;34m(.0)\u001b[0m\n\u001b[0;32m      1\u001b[0m \u001b[1;32mdef\u001b[0m \u001b[0mis_prime\u001b[0m\u001b[1;33m(\u001b[0m\u001b[0mn\u001b[0m\u001b[1;33m)\u001b[0m\u001b[1;33m:\u001b[0m\u001b[1;33m\u001b[0m\u001b[1;33m\u001b[0m\u001b[0m\n\u001b[1;32m----> 2\u001b[1;33m     \u001b[1;32mreturn\u001b[0m \u001b[0mall\u001b[0m\u001b[1;33m(\u001b[0m\u001b[1;33m[\u001b[0m\u001b[1;33m(\u001b[0m\u001b[0mn\u001b[0m\u001b[1;33m%\u001b[0m\u001b[0mj\u001b[0m\u001b[1;33m)\u001b[0m \u001b[1;32mfor\u001b[0m \u001b[0mj\u001b[0m \u001b[1;32min\u001b[0m \u001b[0mrange\u001b[0m\u001b[1;33m(\u001b[0m\u001b[1;36m2\u001b[0m\u001b[1;33m,\u001b[0m \u001b[0mint\u001b[0m\u001b[1;33m(\u001b[0m\u001b[0mn\u001b[0m\u001b[1;33m**\u001b[0m\u001b[1;36m0.5\u001b[0m\u001b[1;33m)\u001b[0m\u001b[1;33m+\u001b[0m\u001b[1;36m1\u001b[0m\u001b[1;33m)\u001b[0m\u001b[1;33m]\u001b[0m\u001b[1;33m)\u001b[0m \u001b[1;32mand\u001b[0m \u001b[0mn\u001b[0m\u001b[1;33m>\u001b[0m\u001b[1;36m1\u001b[0m\u001b[1;33m\u001b[0m\u001b[1;33m\u001b[0m\u001b[0m\n\u001b[0m",
      "\u001b[1;31mKeyboardInterrupt\u001b[0m: "
     ]
    }
   ],
   "source": [
    "a = 0\n",
    "for ix, p1 in enumerate(ps1, start=1):\n",
    "    for p2 in ps1[ix:]:\n",
    "        if detect(p1, p2):\n",
    "            a += 1"
   ]
  },
  {
   "cell_type": "code",
   "execution_count": 34,
   "metadata": {},
   "outputs": [
    {
     "ename": "KeyboardInterrupt",
     "evalue": "",
     "output_type": "error",
     "traceback": [
      "\u001b[1;31m---------------------------------------------------------------------------\u001b[0m",
      "\u001b[1;31mKeyboardInterrupt\u001b[0m                         Traceback (most recent call last)",
      "\u001b[1;32m<timed exec>\u001b[0m in \u001b[0;36m<module>\u001b[1;34m\u001b[0m\n",
      "\u001b[1;32m<ipython-input-26-3c3be67327d9>\u001b[0m in \u001b[0;36mis_prime\u001b[1;34m(n)\u001b[0m\n\u001b[0;32m      1\u001b[0m \u001b[1;32mdef\u001b[0m \u001b[0mis_prime\u001b[0m\u001b[1;33m(\u001b[0m\u001b[0mn\u001b[0m\u001b[1;33m)\u001b[0m\u001b[1;33m:\u001b[0m\u001b[1;33m\u001b[0m\u001b[1;33m\u001b[0m\u001b[0m\n\u001b[1;32m----> 2\u001b[1;33m     \u001b[1;32mreturn\u001b[0m \u001b[0mall\u001b[0m\u001b[1;33m(\u001b[0m\u001b[1;33m[\u001b[0m\u001b[1;33m(\u001b[0m\u001b[0mn\u001b[0m\u001b[1;33m%\u001b[0m\u001b[0mj\u001b[0m\u001b[1;33m)\u001b[0m \u001b[1;32mfor\u001b[0m \u001b[0mj\u001b[0m \u001b[1;32min\u001b[0m \u001b[0mrange\u001b[0m\u001b[1;33m(\u001b[0m\u001b[1;36m2\u001b[0m\u001b[1;33m,\u001b[0m \u001b[0mint\u001b[0m\u001b[1;33m(\u001b[0m\u001b[0mn\u001b[0m\u001b[1;33m**\u001b[0m\u001b[1;36m0.5\u001b[0m\u001b[1;33m)\u001b[0m\u001b[1;33m+\u001b[0m\u001b[1;36m1\u001b[0m\u001b[1;33m)\u001b[0m\u001b[1;33m]\u001b[0m\u001b[1;33m)\u001b[0m \u001b[1;32mand\u001b[0m \u001b[0mn\u001b[0m\u001b[1;33m>\u001b[0m\u001b[1;36m1\u001b[0m\u001b[1;33m\u001b[0m\u001b[1;33m\u001b[0m\u001b[0m\n\u001b[0m",
      "\u001b[1;32m<ipython-input-26-3c3be67327d9>\u001b[0m in \u001b[0;36m<listcomp>\u001b[1;34m(.0)\u001b[0m\n\u001b[0;32m      1\u001b[0m \u001b[1;32mdef\u001b[0m \u001b[0mis_prime\u001b[0m\u001b[1;33m(\u001b[0m\u001b[0mn\u001b[0m\u001b[1;33m)\u001b[0m\u001b[1;33m:\u001b[0m\u001b[1;33m\u001b[0m\u001b[1;33m\u001b[0m\u001b[0m\n\u001b[1;32m----> 2\u001b[1;33m     \u001b[1;32mreturn\u001b[0m \u001b[0mall\u001b[0m\u001b[1;33m(\u001b[0m\u001b[1;33m[\u001b[0m\u001b[1;33m(\u001b[0m\u001b[0mn\u001b[0m\u001b[1;33m%\u001b[0m\u001b[0mj\u001b[0m\u001b[1;33m)\u001b[0m \u001b[1;32mfor\u001b[0m \u001b[0mj\u001b[0m \u001b[1;32min\u001b[0m \u001b[0mrange\u001b[0m\u001b[1;33m(\u001b[0m\u001b[1;36m2\u001b[0m\u001b[1;33m,\u001b[0m \u001b[0mint\u001b[0m\u001b[1;33m(\u001b[0m\u001b[0mn\u001b[0m\u001b[1;33m**\u001b[0m\u001b[1;36m0.5\u001b[0m\u001b[1;33m)\u001b[0m\u001b[1;33m+\u001b[0m\u001b[1;36m1\u001b[0m\u001b[1;33m)\u001b[0m\u001b[1;33m]\u001b[0m\u001b[1;33m)\u001b[0m \u001b[1;32mand\u001b[0m \u001b[0mn\u001b[0m\u001b[1;33m>\u001b[0m\u001b[1;36m1\u001b[0m\u001b[1;33m\u001b[0m\u001b[1;33m\u001b[0m\u001b[0m\n\u001b[0m",
      "\u001b[1;31mKeyboardInterrupt\u001b[0m: "
     ]
    }
   ],
   "source": [
    "%%time\n",
    "ps2 = []\n",
    "for ix, p1 in enumerate(ps1):\n",
    "    for p2 in ps1[ix:]:\n",
    "        if is_prime(concat_nums(p1, p2)) and is_prime(concat_nums(p1, p2)):\n",
    "            ps2.append((p1, p2))"
   ]
  },
  {
   "cell_type": "code",
   "execution_count": 35,
   "metadata": {},
   "outputs": [
    {
     "data": {
      "text/plain": [
       "1228"
      ]
     },
     "execution_count": 35,
     "metadata": {},
     "output_type": "execute_result"
    }
   ],
   "source": [
    "len(ps1)"
   ]
  },
  {
   "cell_type": "markdown",
   "metadata": {},
   "source": [
    "# Problem 67\n",
    "### 삼각형에서 경로의 합 중 최댓값을 구하는 효율적인 방법은?"
   ]
  },
  {
   "cell_type": "markdown",
   "metadata": {},
   "source": [
    "- 아 Bottom-Up으로 짜야하나... 일단 보류"
   ]
  },
  {
   "cell_type": "code",
   "execution_count": 432,
   "metadata": {},
   "outputs": [],
   "source": [
    "with open('triangle.txt', mode='r') as f:\n",
    "    tree = f.readlines()\n",
    "    tree = np.array([\n",
    "        [int(j) for j in li.split('\\n')[0].split(' ')] + [0] * (len(tree)-i)\n",
    "        for i, li in enumerate(tree, start=1)]\n",
    "    )"
   ]
  },
  {
   "cell_type": "code",
   "execution_count": 477,
   "metadata": {},
   "outputs": [],
   "source": [
    "def TTExplore(tree, k=1):\n",
    "    window = tree.shape[0]\n",
    "    results = [[0]]\n",
    "    for i in range(window-1):\n",
    "        temp = []\n",
    "        for path in results:\n",
    "            temp.extend([path+[path[-1]], path+[path[-1]+1]])\n",
    "        results = temp\n",
    "    rowind = list(range(1, window))\n",
    "    results = sorted([(tree[rowind, path[1:]].sum(), path[-1]) for path in results],\n",
    "           key=lambda x: x[0], reverse=True)[:k]\n",
    "    output = []\n",
    "    for result in results:\n",
    "        if result[1] in [i[1] for i in output]:\n",
    "            continue\n",
    "        output.append(result)\n",
    "    return output"
   ]
  },
  {
   "cell_type": "code",
   "execution_count": 481,
   "metadata": {},
   "outputs": [
    {
     "data": {
      "text/plain": [
       "1074"
      ]
     },
     "execution_count": 481,
     "metadata": {},
     "output_type": "execute_result"
    }
   ],
   "source": [
    "TTExplore(tree, k=1)"
   ]
  },
  {
   "cell_type": "code",
   "execution_count": 438,
   "metadata": {},
   "outputs": [],
   "source": [
    "def GreedyTTE(tree, num_path):\n",
    "    j = 0\n",
    "    MaxVal = tree[0, j]\n",
    "    for i in range(0, len(tree), num_path):\n",
    "        semi_tree = tree[i:i+num_path+1, j:j+num_path+1]\n",
    "        maxval, ind = TTExplore(semi_tree)\n",
    "        j += ind\n",
    "        MaxVal += maxval\n",
    "    return MaxVal, j"
   ]
  },
  {
   "cell_type": "code",
   "execution_count": 484,
   "metadata": {},
   "outputs": [
    {
     "data": {
      "text/plain": [
       "array([[75,  0,  0,  0,  0],\n",
       "       [95, 64,  0,  0,  0],\n",
       "       [17, 47, 82,  0,  0],\n",
       "       [18, 35, 87, 10,  0],\n",
       "       [20,  4, 82, 47, 65]])"
      ]
     },
     "execution_count": 484,
     "metadata": {},
     "output_type": "execute_result"
    }
   ],
   "source": [
    "tree[0:5, 0:5]"
   ]
  },
  {
   "cell_type": "markdown",
   "metadata": {},
   "source": [
    "# Problem 93\n",
    "### 숫자 4개와 사칙연산을 써서 가장 길게 이어지는 숫자 만들기\n",
    "\n",
    "```\n",
    "1부터 4까지의 숫자를 한 번씩만 쓰면서, 사칙연산 기호(+, −, *, /)와 괄호를 적절히 조합하면 각기 다른 양의 정수를 여럿 만들어낼 수 있습니다.\n",
    "\n",
    "몇 가지 예를 들자면 아래와 같습니다.\n",
    "\n",
    "8 = (4 * (1 + 3)) / 2\n",
    "14 = 4 * (3 + 1 / 2)\n",
    "19 = 4 * (2 + 3) − 1\n",
    "36 = 3 * 4 * (2 + 1)\n",
    "\n",
    "이 때 12 + 34 처럼 숫자들을 이어붙이지는 않기로 합니다.\n",
    "\n",
    "이렇게 해서 1 ~ 4의 숫자로는 31개의 다른 결과값(최대 36)을 만들 수 있고, 결과값 중 1부터 28까지는 중간에 끊김 없이 계속 이어집니다.\n",
    "\n",
    "a < b < c < d 인 숫자 네 개로 위와 같이 했을 때 결과값이 1부터 가장 길게 이어지는 수들을 찾고, abcd 의 형태로 답을 제시하세요.\n",
    "```"
   ]
  },
  {
   "cell_type": "code",
   "execution_count": 940,
   "metadata": {},
   "outputs": [],
   "source": [
    "eps = sys.float_info.epsilon\n",
    "\n",
    "\n",
    "def test(numbers):\n",
    "    results = []\n",
    "    for nums in list(permutations(numbers, 4)):\n",
    "        for ops in list(product(*[['+','-','*','/']]*3)):\n",
    "            a, b, c, d = nums\n",
    "            op1, op2, op3 = ops\n",
    "            v1 = eval(f\"(({a}{op1}{b}){op2}{c}){op3}{d}\")\n",
    "            v2 = eval(f\"({a}{op1}{b}){op2}({c}{op3}{d})\")\n",
    "            v3 = eval(f\"({a}{op1}({b}{op2}{c})){op3}{d}\")\n",
    "            v4 = eval(f\"{a}{op1}(({b}{op2}{c}){op3}{d}+{1e-20})\")\n",
    "            v5 = eval(f\"{a}{op1}({b}{op2}({c}{op3}{d})+{1e-20})\")\n",
    "            for v in [v1, v2, v3, v4, v5]:\n",
    "                if round(v) - v < eps * 1e2 and v > 0:\n",
    "                    results.append(v)                \n",
    "    return sorted(np.unique(results))\n",
    "\n",
    "\n",
    "def count_continuous(li):\n",
    "    c = 1\n",
    "    is_continuous = True\n",
    "    while is_continuous:\n",
    "        c += 1\n",
    "        if c in li:\n",
    "            continue\n",
    "        else:\n",
    "            is_continuous = False\n",
    "    return c - 1"
   ]
  },
  {
   "cell_type": "code",
   "execution_count": 941,
   "metadata": {},
   "outputs": [
    {
     "name": "stdout",
     "output_type": "stream",
     "text": [
      "Wall time: 7.88 s\n"
     ]
    }
   ],
   "source": [
    "%%time\n",
    "cases = np.unique([sorted(i) for i in cases], axis=0)\n",
    "results = [count_continuous(test(numbers)) for numbers in cases]"
   ]
  },
  {
   "cell_type": "code",
   "execution_count": 942,
   "metadata": {},
   "outputs": [
    {
     "data": {
      "text/plain": [
       "array([1, 2, 5, 8])"
      ]
     },
     "execution_count": 942,
     "metadata": {},
     "output_type": "execute_result"
    }
   ],
   "source": [
    "cases[np.argmax(results)]"
   ]
  }
 ],
 "metadata": {
  "kernelspec": {
   "display_name": "basic",
   "language": "python",
   "name": "basic"
  },
  "language_info": {
   "codemirror_mode": {
    "name": "ipython",
    "version": 3
   },
   "file_extension": ".py",
   "mimetype": "text/x-python",
   "name": "python",
   "nbconvert_exporter": "python",
   "pygments_lexer": "ipython3",
   "version": "3.6.9"
  }
 },
 "nbformat": 4,
 "nbformat_minor": 4
}
