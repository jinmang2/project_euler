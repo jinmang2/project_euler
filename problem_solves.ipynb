{
 "cells": [
  {
   "cell_type": "code",
   "execution_count": 1,
   "metadata": {},
   "outputs": [],
   "source": [
    "import sys\n",
    "import numpy as np\n",
    "from itertools import product, permutations\n",
    "from math import sqrt\n",
    "from tqdm import tqdm\n",
    "from functools import reduce\n",
    "from collections import defaultdict"
   ]
  },
  {
   "cell_type": "markdown",
   "metadata": {},
   "source": [
    "# Problem 1\n",
    "### 1000보다 작은 자연수 중에서 3 또는 5의 배수를 모두 더하면?\n",
    "```\n",
    "10보다 작은 자연수 중에서 3 또는 5의 배수는 3, 5, 6, 9 이고, 이것을 모두 더하면 23입니다.\n",
    "\n",
    "1000보다 작은 자연수 중에서 3 또는 5의 배수를 모두 더하면 얼마일까요?\n",
    "```"
   ]
  },
  {
   "cell_type": "code",
   "execution_count": 548,
   "metadata": {},
   "outputs": [
    {
     "data": {
      "text/plain": [
       "233168"
      ]
     },
     "execution_count": 548,
     "metadata": {},
     "output_type": "execute_result"
    }
   ],
   "source": [
    "total = sum([x for x in range(1000) if ((x % 5 == 0) or (x % 3 == 0))])\n",
    "total"
   ]
  },
  {
   "cell_type": "markdown",
   "metadata": {},
   "source": [
    "# Problem 2\n",
    "### 피보나치 수열에서 4백만 이하이면서 짝수인 항의 합\n",
    "```\n",
    "피보나치(Fibonacci) 수열의 각 항은 바로 앞의 항 두 개를 더한 것입니다. 1과 2로 시작하는 경우 이 수열은 아래와 같습니다.\n",
    "\n",
    "1, 2, 3, 5, 8, 13, 21, 34, 55, 89, ...\n",
    "4백만 이하의 짝수 값을 갖는 모든 피보나치 항을 더하면 얼마가 됩니까?\n",
    "```"
   ]
  },
  {
   "cell_type": "code",
   "execution_count": 33,
   "metadata": {},
   "outputs": [],
   "source": [
    "def memoize(func):\n",
    "    tempMemo = dict()\n",
    "    def wrapped(n):\n",
    "        if n in tempMemo:\n",
    "            return tempMemo[n]\n",
    "        result = func(n)\n",
    "        tempMemo[n] = result\n",
    "        return result\n",
    "    return wrapped\n",
    "\n",
    "\n",
    "@memoize\n",
    "def fib(n):\n",
    "    if n in (1, 2):\n",
    "        return 1\n",
    "    return fib(n-1) + fib(n-2)"
   ]
  },
  {
   "cell_type": "code",
   "execution_count": 62,
   "metadata": {},
   "outputs": [
    {
     "name": "stdout",
     "output_type": "stream",
     "text": [
      "4613732.0\n",
      "Wall time: 0 ns\n"
     ]
    }
   ],
   "source": [
    "%%time\n",
    "n = 3\n",
    "r = 3 # 3 번째 항마다 짝수가 나옴\n",
    "\n",
    "a = 0.\n",
    "\n",
    "while fib(n) < 4e6:\n",
    "    a += fib(n)\n",
    "    n += r\n",
    "    \n",
    "print(a)"
   ]
  },
  {
   "cell_type": "markdown",
   "metadata": {},
   "source": [
    "# Problem 3\n",
    "\n",
    "### 가장 큰 소인수 구하기\n",
    "```\n",
    "어떤 수를 소수의 곱으로만 나타내는 것을 소인수분해라 하고, 이 소수들을 그 수의 소인수라고 합니다.\n",
    "예를 들면 13195의 소인수는 5, 7, 13, 29 입니다.\n",
    "\n",
    "600851475143의 소인수 중에서 가장 큰 수를 구하세요.\n",
    "```"
   ]
  },
  {
   "cell_type": "code",
   "execution_count": 485,
   "metadata": {},
   "outputs": [],
   "source": [
    "def is_prime(n):\n",
    "    return all([(n%j) for j in range(2, int(n**0.5)+1)]) and n>1"
   ]
  },
  {
   "cell_type": "code",
   "execution_count": 147,
   "metadata": {},
   "outputs": [
    {
     "name": "stdout",
     "output_type": "stream",
     "text": [
      "6857\n",
      "Wall time: 18 ms\n"
     ]
    }
   ],
   "source": [
    "%%time\n",
    "\n",
    "val = 600851475143\n",
    "\n",
    "# 함수 수정 필요함.\n",
    "# 이 문제에 한정된 함수\n",
    "def find_prime_factors(val):\n",
    "    n = 2\n",
    "    prime_factors = []\n",
    "    while True:\n",
    "        if is_prime(n):\n",
    "            if val % n == 0:\n",
    "                val = val // n\n",
    "                prime_factors.append(n)\n",
    "        if val == 1:\n",
    "            break\n",
    "        n += 1\n",
    "    return prime_factors, n\n",
    "\n",
    "prime_factors, n = find_prime_factors(val)\n",
    "print(n)"
   ]
  },
  {
   "cell_type": "code",
   "execution_count": 140,
   "metadata": {},
   "outputs": [
    {
     "data": {
      "text/plain": [
       "[71, 839, 1471, 6857]"
      ]
     },
     "execution_count": 140,
     "metadata": {},
     "output_type": "execute_result"
    }
   ],
   "source": [
    "prime_factors"
   ]
  },
  {
   "cell_type": "code",
   "execution_count": 89,
   "metadata": {},
   "outputs": [
    {
     "data": {
      "text/plain": [
       "600851475143"
      ]
     },
     "execution_count": 89,
     "metadata": {},
     "output_type": "execute_result"
    }
   ],
   "source": [
    "71 * 839 * 1471 * 6857 # is same to val"
   ]
  },
  {
   "cell_type": "markdown",
   "metadata": {},
   "source": [
    "# Problem 4\n",
    "\n",
    "### 세자리 수를 곱해 만들 수 있는 가장 큰 대칭수\n",
    "\n",
    "```\n",
    "앞에서부터 읽을 때나 뒤에서부터 읽을 때나 모양이 같은 수를 대칭수(palindrome)라고 부릅니다.\n",
    "\n",
    "두 자리 수를 곱해 만들 수 있는 대칭수 중 가장 큰 수는 9009 (= 91 × 99) 입니다.\n",
    "\n",
    "세 자리 수를 곱해 만들 수 있는 가장 큰 대칭수는 얼마입니까?\n",
    "```"
   ]
  },
  {
   "cell_type": "code",
   "execution_count": 131,
   "metadata": {},
   "outputs": [
    {
     "name": "stdout",
     "output_type": "stream",
     "text": [
      "Wall time: 430 ms\n"
     ]
    }
   ],
   "source": [
    "%%time\n",
    "results = []\n",
    "for i in range(999, 100, -1):\n",
    "    for j in range(999, 100, -1):\n",
    "        val = str(i*j)\n",
    "        adj = 1 if len(val) == 5 else 0\n",
    "        if val[:len(val)//2] == val[len(val)//2+adj:][::-1]:\n",
    "            results.append(int(val))\n",
    "            break"
   ]
  },
  {
   "cell_type": "code",
   "execution_count": 134,
   "metadata": {},
   "outputs": [
    {
     "data": {
      "text/plain": [
       "906609"
      ]
     },
     "execution_count": 134,
     "metadata": {},
     "output_type": "execute_result"
    }
   ],
   "source": [
    "max(results)"
   ]
  },
  {
   "cell_type": "markdown",
   "metadata": {},
   "source": [
    "# Problem 5\n",
    "### 1 ~ 20 사이의 어떤 수로도 나누어 떨어지는 가장 작은 수\n",
    "\n",
    "```\n",
    "1 ~ 10 사이의 어떤 수로도 나누어 떨어지는 가장 작은 수는 2520입니다.\n",
    "\n",
    "그러면 1 ~ 20 사이의 어떤 수로도 나누어 떨어지는 가장 작은 수는 얼마입니까?\n",
    "```"
   ]
  },
  {
   "cell_type": "code",
   "execution_count": 1180,
   "metadata": {},
   "outputs": [
    {
     "data": {
      "text/plain": [
       "defaultdict(int, {2: 4, 3: 2, 5: 1, 7: 1, 11: 1, 13: 1, 17: 1, 19: 1})"
      ]
     },
     "execution_count": 1180,
     "metadata": {},
     "output_type": "execute_result"
    }
   ],
   "source": [
    "prime_factorization(232792560, ret=defaultdict(int)) # 크..."
   ]
  },
  {
   "cell_type": "code",
   "execution_count": 158,
   "metadata": {},
   "outputs": [
    {
     "data": {
      "text/plain": [
       "232792560"
      ]
     },
     "execution_count": 158,
     "metadata": {},
     "output_type": "execute_result"
    }
   ],
   "source": [
    "# 1~20을 생성할 수만 있으면 ㅇㅋ\n",
    "# 함수로 짤 수 있을 것 같은데 나중에 시간되면 짜보기\n",
    "np.prod([2 ** 4, 3 ** 2, 5, 7, 11, 13, 17, 19])"
   ]
  },
  {
   "cell_type": "markdown",
   "metadata": {},
   "source": [
    "# Problem 6\n",
    "\n",
    "### 1부터 100까지 \"제곱의 합\"과 \"합의 제곱\"의 차는?\n",
    "\n",
    "```\n",
    "1부터 10까지 자연수를 각각 제곱해 더하면 다음과 같습니다 (제곱의 합).\n",
    "\n",
    "12 + 22 + ... + 102 = 385\n",
    "1부터 10을 먼저 더한 다음에 그 결과를 제곱하면 다음과 같습니다 (합의 제곱).\n",
    "\n",
    "(1 + 2 + ... + 10)2 = 552 = 3025\n",
    "따라서 1부터 10까지 자연수에 대해 \"합의 제곱\"과 \"제곱의 합\" 의 차이는 3025 - 385 = 2640 이 됩니다.\n",
    "\n",
    "그러면 1부터 100까지 자연수에 대해 \"합의 제곱\"과 \"제곱의 합\"의 차이는 얼마입니까?\n",
    "```"
   ]
  },
  {
   "cell_type": "code",
   "execution_count": 169,
   "metadata": {},
   "outputs": [
    {
     "data": {
      "text/plain": [
       "25164150"
      ]
     },
     "execution_count": 169,
     "metadata": {},
     "output_type": "execute_result"
    }
   ],
   "source": [
    "np.sum(np.arange(1, 101)) ** 2 - np.sum(np.arange(1, 101) ** 2)"
   ]
  },
  {
   "cell_type": "markdown",
   "metadata": {},
   "source": [
    "# Problem 7\n",
    "### 10001번째의 소수\n",
    "```\n",
    "소수를 크기 순으로 나열하면 2, 3, 5, 7, 11, 13, ... 과 같이 됩니다.\n",
    "\n",
    "이 때 10,001번째의 소수를 구하세요.\n",
    "```"
   ]
  },
  {
   "cell_type": "code",
   "execution_count": 174,
   "metadata": {},
   "outputs": [
    {
     "name": "stdout",
     "output_type": "stream",
     "text": [
      "Wall time: 843 ms\n"
     ]
    }
   ],
   "source": [
    "%%time\n",
    "prime = 0\n",
    "count = 0\n",
    "n = 1\n",
    "while count < 10001:\n",
    "    if is_prime(n):\n",
    "        prime = n\n",
    "        count += 1\n",
    "    n += 1"
   ]
  },
  {
   "cell_type": "markdown",
   "metadata": {},
   "source": [
    "# Problem 8\n",
    "### 1000자리 수 안에서 이어지는 5개 숫자의 곱 중 최댓값은?"
   ]
  },
  {
   "cell_type": "code",
   "execution_count": 181,
   "metadata": {},
   "outputs": [],
   "source": [
    "s = \"\"\"\n",
    "73167176531330624919225119674426574742355349194934\n",
    "96983520312774506326239578318016984801869478851843\n",
    "85861560789112949495459501737958331952853208805511\n",
    "12540698747158523863050715693290963295227443043557\n",
    "66896648950445244523161731856403098711121722383113\n",
    "62229893423380308135336276614282806444486645238749\n",
    "30358907296290491560440772390713810515859307960866\n",
    "70172427121883998797908792274921901699720888093776\n",
    "65727333001053367881220235421809751254540594752243\n",
    "52584907711670556013604839586446706324415722155397\n",
    "53697817977846174064955149290862569321978468622482\n",
    "83972241375657056057490261407972968652414535100474\n",
    "82166370484403199890008895243450658541227588666881\n",
    "16427171479924442928230863465674813919123162824586\n",
    "17866458359124566529476545682848912883142607690042\n",
    "24219022671055626321111109370544217506941658960408\n",
    "07198403850962455444362981230987879927244284909188\n",
    "84580156166097919133875499200524063689912560717606\n",
    "05886116467109405077541002256983155200055935729725\n",
    "71636269561882670428252483600823257530420752963450\n",
    "\"\"\"\n",
    "\n",
    "s = ''.join(s.split('\\n'))"
   ]
  },
  {
   "cell_type": "code",
   "execution_count": 190,
   "metadata": {},
   "outputs": [
    {
     "name": "stdout",
     "output_type": "stream",
     "text": [
      "Wall time: 6.01 ms\n"
     ]
    },
    {
     "data": {
      "text/plain": [
       "40824"
      ]
     },
     "execution_count": 190,
     "metadata": {},
     "output_type": "execute_result"
    }
   ],
   "source": [
    "%%time\n",
    "window = 5\n",
    "results = []\n",
    "for i in range(len(s)-5):\n",
    "    results.append(np.prod([int(j) for j in s[i:i+window]]))\n",
    "max(results)"
   ]
  },
  {
   "cell_type": "markdown",
   "metadata": {},
   "source": [
    "# Problem 9\n",
    "\n",
    "### a + b + c = 1000 이 되는 피타고라스 수\n",
    "\n",
    "```\n",
    "세 자연수 a, b, c 가 피타고라스 정리 a^2 + b^2 = c^2 를 만족하면 피타고라스 수라고 부릅니다 (여기서 a < b < c ).\n",
    "예를 들면 3^2 + 4^2 = 9 + 16 = 25 = 5^2이므로 3, 4, 5는 피타고라스 수입니다.\n",
    "\n",
    "a + b + c = 1000 인 피타고라스 수 a, b, c는 한 가지 뿐입니다. 이 때, a × b × c 는 얼마입니까?\n",
    "```"
   ]
  },
  {
   "cell_type": "code",
   "execution_count": 392,
   "metadata": {},
   "outputs": [],
   "source": [
    "# Unique Solution이 존재\n",
    "# 이 말인 즉슨 loss=0으로 만드는 global optima가 존재한다는 얘기\n",
    "\n",
    "# Monte Carlo 및 Deep Learning으로 풀 수 있을지 고려하자!\n",
    "# 일단은 하드 코딩으로 문제 해결"
   ]
  },
  {
   "cell_type": "code",
   "execution_count": 426,
   "metadata": {},
   "outputs": [],
   "source": [
    "axis = np.linspace(1, 1000, 1000)\n",
    "a, b = np.meshgrid(axis, axis)\n",
    "c = 1000 - a - b\n",
    "ind = c > 0\n",
    "\n",
    "a = a[ind]\n",
    "b = b[ind]\n",
    "c = c[ind]"
   ]
  },
  {
   "cell_type": "code",
   "execution_count": 431,
   "metadata": {},
   "outputs": [
    {
     "data": {
      "text/plain": [
       "array([375., 200.])"
      ]
     },
     "execution_count": 431,
     "metadata": {},
     "output_type": "execute_result"
    }
   ],
   "source": [
    "a[a ** 2 + b ** 2 == c ** 2]"
   ]
  },
  {
   "cell_type": "code",
   "execution_count": 432,
   "metadata": {},
   "outputs": [
    {
     "data": {
      "text/plain": [
       "array([425., 425.])"
      ]
     },
     "execution_count": 432,
     "metadata": {},
     "output_type": "execute_result"
    }
   ],
   "source": [
    "c[a ** 2 + b ** 2 == c ** 2]"
   ]
  },
  {
   "cell_type": "code",
   "execution_count": 433,
   "metadata": {},
   "outputs": [
    {
     "data": {
      "text/plain": [
       "True"
      ]
     },
     "execution_count": 433,
     "metadata": {},
     "output_type": "execute_result"
    }
   ],
   "source": [
    "200 ** 2 + 375 ** 2 == 425 ** 2"
   ]
  },
  {
   "cell_type": "code",
   "execution_count": 434,
   "metadata": {},
   "outputs": [
    {
     "data": {
      "text/plain": [
       "31875000"
      ]
     },
     "execution_count": 434,
     "metadata": {},
     "output_type": "execute_result"
    }
   ],
   "source": [
    "200 * 375 * 425"
   ]
  },
  {
   "cell_type": "markdown",
   "metadata": {},
   "source": [
    "# Problem 10\n",
    "### 이백만 이하 소수의 합\n",
    "```\n",
    "10 이하의 소수를 모두 더하면 2 + 3 + 5 + 7 = 17 이 됩니다.\n",
    "\n",
    "이백만(2,000,000) 이하 소수의 합은 얼마입니까?\n",
    "```"
   ]
  },
  {
   "cell_type": "code",
   "execution_count": 437,
   "metadata": {},
   "outputs": [
    {
     "name": "stderr",
     "output_type": "stream",
     "text": [
      "100%|█████████████████████████████| 2000000/2000000 [01:22<00:00, 24220.41it/s]\n"
     ]
    }
   ],
   "source": [
    "result = 0\n",
    "for i in tqdm(range(1, int(2e6)+1)):\n",
    "    if is_prime(i):\n",
    "        result += i"
   ]
  },
  {
   "cell_type": "code",
   "execution_count": 438,
   "metadata": {},
   "outputs": [
    {
     "data": {
      "text/plain": [
       "142913828922"
      ]
     },
     "execution_count": 438,
     "metadata": {},
     "output_type": "execute_result"
    }
   ],
   "source": [
    "result"
   ]
  },
  {
   "cell_type": "markdown",
   "metadata": {},
   "source": [
    "# Problem 11\n",
    "### 20×20 격자에서 연속된 네 수의 곱 중 최댓값"
   ]
  },
  {
   "cell_type": "code",
   "execution_count": 452,
   "metadata": {},
   "outputs": [],
   "source": [
    "s = \"\"\"\n",
    "08 02 22 97 38 15 00 40 00 75 04 05 07 78 52 12 50 77 91 08\n",
    "49 49 99 40 17 81 18 57 60 87 17 40 98 43 69 48 04 56 62 00\n",
    "81 49 31 73 55 79 14 29 93 71 40 67 53 88 30 03 49 13 36 65\n",
    "52 70 95 23 04 60 11 42 69 24 68 56 01 32 56 71 37 02 36 91\n",
    "22 31 16 71 51 67 63 89 41 92 36 54 22 40 40 28 66 33 13 80\n",
    "24 47 32 60 99 03 45 02 44 75 33 53 78 36 84 20 35 17 12 50\n",
    "32 98 81 28 64 23 67 10 26 38 40 67 59 54 70 66 18 38 64 70\n",
    "67 26 20 68 02 62 12 20 95 63 94 39 63 08 40 91 66 49 94 21\n",
    "24 55 58 05 66 73 99 26 97 17 78 78 96 83 14 88 34 89 63 72\n",
    "21 36 23 09 75 00 76 44 20 45 35 14 00 61 33 97 34 31 33 95\n",
    "78 17 53 28 22 75 31 67 15 94 03 80 04 62 16 14 09 53 56 92\n",
    "16 39 05 42 96 35 31 47 55 58 88 24 00 17 54 24 36 29 85 57\n",
    "86 56 00 48 35 71 89 07 05 44 44 37 44 60 21 58 51 54 17 58\n",
    "19 80 81 68 05 94 47 69 28 73 92 13 86 52 17 77 04 89 55 40\n",
    "04 52 08 83 97 35 99 16 07 97 57 32 16 26 26 79 33 27 98 66\n",
    "88 36 68 87 57 62 20 72 03 46 33 67 46 55 12 32 63 93 53 69\n",
    "04 42 16 73 38 25 39 11 24 94 72 18 08 46 29 32 40 62 76 36\n",
    "20 69 36 41 72 30 23 88 34 62 99 69 82 67 59 85 74 04 36 16\n",
    "20 73 35 29 78 31 90 01 74 31 49 71 48 86 81 16 23 57 05 54\n",
    "01 70 54 71 83 51 54 69 16 92 33 48 61 43 52 01 89 19 67 48\n",
    "\"\"\""
   ]
  },
  {
   "cell_type": "code",
   "execution_count": 466,
   "metadata": {},
   "outputs": [],
   "source": [
    "arr = np.array(\n",
    "    list(\n",
    "        map(\n",
    "            lambda x: [int(i) for i in x.split(' ')], \n",
    "            s.split('\\n')[1:-1]\n",
    "        )\n",
    "    )\n",
    ")"
   ]
  },
  {
   "cell_type": "code",
   "execution_count": 546,
   "metadata": {},
   "outputs": [
    {
     "name": "stdout",
     "output_type": "stream",
     "text": [
      "Wall time: 2 ms\n"
     ]
    },
    {
     "data": {
      "text/plain": [
       "70600674"
      ]
     },
     "execution_count": 546,
     "metadata": {},
     "output_type": "execute_result"
    }
   ],
   "source": [
    "%%time\n",
    "results = []\n",
    "for i in range(20-4):\n",
    "    results.extend(np.prod(arr[:, i:i+4], axis=1)) # horizontal\n",
    "    results.extend(np.prod(arr.T[:, i:i+4], axis=1)) # vertical\n",
    "for k in range(-16, 17):\n",
    "    temp1 = np.diag(arr, k=k)\n",
    "    temp2 = np.diag(arr[:, ::-1], k=k)\n",
    "    for i in range(temp1.shape[0]-4+1):\n",
    "        res1 = np.prod(temp1[i:i+4])\n",
    "        res2 = np.prod(temp2[i:i+4])\n",
    "        if isinstance(res1, np.int32):\n",
    "            res1 = [res1]\n",
    "        if isinstance(res2, np.int32):\n",
    "            res2 = [res2]\n",
    "        results.extend(res1)\n",
    "        results.extend(res2)\n",
    "max(results)"
   ]
  },
  {
   "cell_type": "markdown",
   "metadata": {},
   "source": [
    "# Problem 12\n",
    "### 500개 이상의 약수를 갖는 가장 작은 삼각수는?\n",
    "\n",
    "```\n",
    "1부터 n까지의 자연수를 차례로 더하여 구해진 값을 삼각수라고 합니다.\n",
    "예를 들어 7번째 삼각수는 1 + 2 + 3 + 4 + 5 + 6 + 7 = 28이 됩니다.\n",
    "이런 식으로 삼각수를 구해 나가면 다음과 같습니다.\n",
    "\n",
    "1, 3, 6, 10, 15, 21, 28, 36, 45, 55, ...\n",
    "이 삼각수들의 약수를 구해 봅시다.\n",
    "\n",
    " 1: 1\n",
    " 3: 1, 3\n",
    " 6: 1, 2, 3, 6\n",
    "10: 1, 2, 5, 10\n",
    "15: 1, 3, 5, 15\n",
    "21: 1, 3, 7, 21\n",
    "28: 1, 2, 4, 7, 14, 28\n",
    "위에서 보듯이, 5개 이상의 약수를 갖는 첫번째 삼각수는 28입니다.\n",
    "\n",
    "그러면 500개 이상의 약수를 갖는 가장 작은 삼각수는 얼마입니까?\n",
    "```"
   ]
  },
  {
   "cell_type": "code",
   "execution_count": 1140,
   "metadata": {},
   "outputs": [],
   "source": [
    "# Elliptic Curve Method는 차후 구현\n",
    "# find_prime_factors 함수를 확장\n",
    "\n",
    "\n",
    "def prime_factorization(val, n=1, ret=defaultdict(int)):\n",
    "    while val > n:\n",
    "        if is_prime(n):\n",
    "            if val % n == 0:\n",
    "                val //= n\n",
    "                ret[n] += 1\n",
    "                return prime_factorization(val, n, ret)\n",
    "        n += 1\n",
    "    ret[n] += 1\n",
    "    return ret"
   ]
  },
  {
   "cell_type": "code",
   "execution_count": 1141,
   "metadata": {},
   "outputs": [
    {
     "data": {
      "text/plain": [
       "defaultdict(int, {2: 2, 3: 2, 5: 3, 7: 1, 11: 1, 13: 1, 17: 1})"
      ]
     },
     "execution_count": 1141,
     "metadata": {},
     "output_type": "execute_result"
    }
   ],
   "source": [
    "prime_factorization(76576500, ret=defaultdict(int))"
   ]
  },
  {
   "cell_type": "code",
   "execution_count": 1135,
   "metadata": {},
   "outputs": [
    {
     "name": "stdout",
     "output_type": "stream",
     "text": [
      "76576500\n",
      "Wall time: 4.58 s\n"
     ]
    }
   ],
   "source": [
    "%%time\n",
    "\n",
    "a = 2\n",
    "number = 1\n",
    "while True:\n",
    "    divides = 0\n",
    "    for i in range(1 , int(sqrt(number)+1)):\n",
    "        if number % i == 0:\n",
    "            divides += 1\n",
    "    divides *= 2\n",
    "    if divides >= 500:\n",
    "        print(number)\n",
    "        break\n",
    "    number += a\n",
    "    a += 1"
   ]
  },
  {
   "cell_type": "markdown",
   "metadata": {},
   "source": [
    "# Problem 13\n",
    "### 50자리 수 100개를 더한 값의 첫 10자리 구하기\n",
    "```\n",
    "아래에 50자리 수가 100개 있습니다. 이것을 모두 더한 값의 첫 10자리는 얼마입니까?\n",
    "```"
   ]
  },
  {
   "cell_type": "code",
   "execution_count": 2,
   "metadata": {},
   "outputs": [],
   "source": [
    "s = \"\"\"\n",
    "37107287533902102798797998220837590246510135740250\n",
    "46376937677490009712648124896970078050417018260538\n",
    "74324986199524741059474233309513058123726617309629\n",
    "91942213363574161572522430563301811072406154908250\n",
    "23067588207539346171171980310421047513778063246676\n",
    "89261670696623633820136378418383684178734361726757\n",
    "28112879812849979408065481931592621691275889832738\n",
    "44274228917432520321923589422876796487670272189318\n",
    "47451445736001306439091167216856844588711603153276\n",
    "70386486105843025439939619828917593665686757934951\n",
    "62176457141856560629502157223196586755079324193331\n",
    "64906352462741904929101432445813822663347944758178\n",
    "92575867718337217661963751590579239728245598838407\n",
    "58203565325359399008402633568948830189458628227828\n",
    "80181199384826282014278194139940567587151170094390\n",
    "35398664372827112653829987240784473053190104293586\n",
    "86515506006295864861532075273371959191420517255829\n",
    "71693888707715466499115593487603532921714970056938\n",
    "54370070576826684624621495650076471787294438377604\n",
    "53282654108756828443191190634694037855217779295145\n",
    "36123272525000296071075082563815656710885258350721\n",
    "45876576172410976447339110607218265236877223636045\n",
    "17423706905851860660448207621209813287860733969412\n",
    "81142660418086830619328460811191061556940512689692\n",
    "51934325451728388641918047049293215058642563049483\n",
    "62467221648435076201727918039944693004732956340691\n",
    "15732444386908125794514089057706229429197107928209\n",
    "55037687525678773091862540744969844508330393682126\n",
    "18336384825330154686196124348767681297534375946515\n",
    "80386287592878490201521685554828717201219257766954\n",
    "78182833757993103614740356856449095527097864797581\n",
    "16726320100436897842553539920931837441497806860984\n",
    "48403098129077791799088218795327364475675590848030\n",
    "87086987551392711854517078544161852424320693150332\n",
    "59959406895756536782107074926966537676326235447210\n",
    "69793950679652694742597709739166693763042633987085\n",
    "41052684708299085211399427365734116182760315001271\n",
    "65378607361501080857009149939512557028198746004375\n",
    "35829035317434717326932123578154982629742552737307\n",
    "94953759765105305946966067683156574377167401875275\n",
    "88902802571733229619176668713819931811048770190271\n",
    "25267680276078003013678680992525463401061632866526\n",
    "36270218540497705585629946580636237993140746255962\n",
    "24074486908231174977792365466257246923322810917141\n",
    "91430288197103288597806669760892938638285025333403\n",
    "34413065578016127815921815005561868836468420090470\n",
    "23053081172816430487623791969842487255036638784583\n",
    "11487696932154902810424020138335124462181441773470\n",
    "63783299490636259666498587618221225225512486764533\n",
    "67720186971698544312419572409913959008952310058822\n",
    "95548255300263520781532296796249481641953868218774\n",
    "76085327132285723110424803456124867697064507995236\n",
    "37774242535411291684276865538926205024910326572967\n",
    "23701913275725675285653248258265463092207058596522\n",
    "29798860272258331913126375147341994889534765745501\n",
    "18495701454879288984856827726077713721403798879715\n",
    "38298203783031473527721580348144513491373226651381\n",
    "34829543829199918180278916522431027392251122869539\n",
    "40957953066405232632538044100059654939159879593635\n",
    "29746152185502371307642255121183693803580388584903\n",
    "41698116222072977186158236678424689157993532961922\n",
    "62467957194401269043877107275048102390895523597457\n",
    "23189706772547915061505504953922979530901129967519\n",
    "86188088225875314529584099251203829009407770775672\n",
    "11306739708304724483816533873502340845647058077308\n",
    "82959174767140363198008187129011875491310547126581\n",
    "97623331044818386269515456334926366572897563400500\n",
    "42846280183517070527831839425882145521227251250327\n",
    "55121603546981200581762165212827652751691296897789\n",
    "32238195734329339946437501907836945765883352399886\n",
    "75506164965184775180738168837861091527357929701337\n",
    "62177842752192623401942399639168044983993173312731\n",
    "32924185707147349566916674687634660915035914677504\n",
    "99518671430235219628894890102423325116913619626622\n",
    "73267460800591547471830798392868535206946944540724\n",
    "76841822524674417161514036427982273348055556214818\n",
    "97142617910342598647204516893989422179826088076852\n",
    "87783646182799346313767754307809363333018982642090\n",
    "10848802521674670883215120185883543223812876952786\n",
    "71329612474782464538636993009049310363619763878039\n",
    "62184073572399794223406235393808339651327408011116\n",
    "66627891981488087797941876876144230030984490851411\n",
    "60661826293682836764744779239180335110989069790714\n",
    "85786944089552990653640447425576083659976645795096\n",
    "66024396409905389607120198219976047599490197230297\n",
    "64913982680032973156037120041377903785566085089252\n",
    "16730939319872750275468906903707539413042652315011\n",
    "94809377245048795150954100921645863754710598436791\n",
    "78639167021187492431995700641917969777599028300699\n",
    "15368713711936614952811305876380278410754449733078\n",
    "40789923115535562561142322423255033685442488917353\n",
    "44889911501440648020369068063960672322193204149535\n",
    "41503128880339536053299340368006977710650566631954\n",
    "81234880673210146739058568557934581403627822703280\n",
    "82616570773948327592232845941706525094512325230608\n",
    "22918802058777319719839450180888072429661980811197\n",
    "77158542502016545090413245809786882778948721859617\n",
    "72107838435069186155435662884062257473692284509516\n",
    "20849603980134001723930671666823555245252804609722\n",
    "53503534226472524250874054075591789781264330331690\n",
    "\"\"\""
   ]
  },
  {
   "cell_type": "code",
   "execution_count": 14,
   "metadata": {},
   "outputs": [
    {
     "data": {
      "text/plain": [
       "'5537376230'"
      ]
     },
     "execution_count": 14,
     "metadata": {},
     "output_type": "execute_result"
    }
   ],
   "source": [
    "# 정수론 적으로 푸는 건 나중에 생각해보기 :)\n",
    "\n",
    "str(sum([int(i) for i in s.split('\\n')[1:-1]]))[:10]"
   ]
  },
  {
   "cell_type": "markdown",
   "metadata": {},
   "source": [
    "# Problem 14\n",
    "### 백만 이하로 시작하는 우박수 중 가장 긴 과정을 거치는 것은?\n",
    "```\n",
    "양의 정수 n에 대하여, 다음과 같은 계산 과정을 반복하기로 합니다.\n",
    "\n",
    "n → n / 2 (n이 짝수일 때)\n",
    "n → 3 n + 1 (n이 홀수일 때)\n",
    "\n",
    "13에 대하여 위의 규칙을 적용해보면 아래처럼 10번의 과정을 통해 1이 됩니다.\n",
    "\n",
    "13 → 40 → 20 → 10 → 5 → 16 → 8 → 4 → 2 → 1\n",
    "아직 증명은 되지 않았지만, 이런 과정을 거치면 어떤 수로 시작해도 마지막에는 1로 끝나리라 생각됩니다. \n",
    "(역주: 이것은 콜라츠 추측 Collatz Conjecture이라고 하며, 이런 수들을 우박수 hailstone sequence라 부르기도 합니다)\n",
    "\n",
    "그러면, 백만(1,000,000) 이하의 수로 시작했을 때 1까지 도달하는데 가장 긴 과정을 거치는 수는 얼마입니까?\n",
    "\n",
    "참고: 계산 과정에는 백만을 넘어가는 수가 나와도 괜찮습니다.\n",
    "```"
   ]
  },
  {
   "cell_type": "code",
   "execution_count": 16,
   "metadata": {},
   "outputs": [],
   "source": [
    "def CollatzConjecture(n):\n",
    "    count = 0\n",
    "    while n != 1:\n",
    "        if n % 2 == 0:\n",
    "            n /= 2\n",
    "        else:\n",
    "            n = 3 * n + 1\n",
    "        count += 1\n",
    "    return count"
   ]
  },
  {
   "cell_type": "code",
   "execution_count": 19,
   "metadata": {},
   "outputs": [
    {
     "name": "stdout",
     "output_type": "stream",
     "text": [
      "Wall time: 22.7 s\n"
     ]
    }
   ],
   "source": [
    "%%time\n",
    "hailstone_seq_lengths = [CollatzConjecture(n) for n in range(2, int(1e6)+1)]"
   ]
  },
  {
   "cell_type": "code",
   "execution_count": 41,
   "metadata": {},
   "outputs": [
    {
     "data": {
      "text/plain": [
       "837799"
      ]
     },
     "execution_count": 41,
     "metadata": {},
     "output_type": "execute_result"
    }
   ],
   "source": [
    "np.argmax(hailstone_seq_lengths) + 2"
   ]
  },
  {
   "cell_type": "markdown",
   "metadata": {},
   "source": [
    "# Problem 15\n",
    "### 20x20 격자의 최상단에서 우하단으로 가는 경로의 수"
   ]
  },
  {
   "cell_type": "code",
   "execution_count": 50,
   "metadata": {},
   "outputs": [],
   "source": [
    "def memoize(func):\n",
    "    buffers = {}\n",
    "    def wrapped(n):\n",
    "        buffer = buffers.get(n)\n",
    "        if buffer is not None:\n",
    "            return buffer\n",
    "        return func(n)\n",
    "    return wrapped\n",
    "\n",
    "\n",
    "@memoize\n",
    "def factorial(n):\n",
    "    if n == 1:\n",
    "        return 1\n",
    "    return n * factorial(n-1)"
   ]
  },
  {
   "cell_type": "code",
   "execution_count": 57,
   "metadata": {},
   "outputs": [
    {
     "data": {
      "text/plain": [
       "137846528820.0"
      ]
     },
     "execution_count": 57,
     "metadata": {},
     "output_type": "execute_result"
    }
   ],
   "source": [
    "factorial(40) / factorial(20) / factorial(20)"
   ]
  },
  {
   "cell_type": "markdown",
   "metadata": {},
   "source": [
    "# Problem 16\n",
    "### 2^1000의 각 자릿수를 모두 더하면?"
   ]
  },
  {
   "cell_type": "code",
   "execution_count": 71,
   "metadata": {},
   "outputs": [
    {
     "data": {
      "text/plain": [
       "1366"
      ]
     },
     "execution_count": 71,
     "metadata": {},
     "output_type": "execute_result"
    }
   ],
   "source": [
    "sum(int(i) for i in str(2 ** 1000))"
   ]
  },
  {
   "cell_type": "markdown",
   "metadata": {},
   "source": [
    "# Problem 17\n",
    "### 1부터 1000까지 영어로 썼을 때 사용된 글자의 개수는?"
   ]
  },
  {
   "cell_type": "code",
   "execution_count": 8,
   "metadata": {},
   "outputs": [],
   "source": [
    "from num2words import num2words"
   ]
  },
  {
   "cell_type": "code",
   "execution_count": 23,
   "metadata": {},
   "outputs": [
    {
     "data": {
      "text/plain": [
       "21124"
      ]
     },
     "execution_count": 23,
     "metadata": {},
     "output_type": "execute_result"
    }
   ],
   "source": [
    "letters = [num2words(i) for i in range(1, 1001)]\n",
    "len(''.join(' '.join(letters).split(' ')).replace('-', ''))"
   ]
  },
  {
   "cell_type": "markdown",
   "metadata": {},
   "source": [
    "# Problem 18\n",
    "### 삼각형을 따라 내려가면서 합이 최대가 되는 경로 찾기"
   ]
  },
  {
   "cell_type": "code",
   "execution_count": 449,
   "metadata": {},
   "outputs": [],
   "source": [
    "s = \"\"\"\n",
    "75\n",
    "95 64\n",
    "17 47 82\n",
    "18 35 87 10\n",
    "20 04 82 47 65\n",
    "19 01 23 75 03 34\n",
    "88 02 77 73 07 63 67\n",
    "99 65 04 28 06 16 70 92\n",
    "41 41 26 56 83 40 80 70 33\n",
    "41 48 72 33 47 32 37 16 94 29\n",
    "53 71 44 65 25 43 91 52 97 51 14\n",
    "70 11 33 28 77 73 17 78 39 68 17 57\n",
    "91 71 52 38 17 14 91 43 58 50 27 29 48\n",
    "63 66 04 68 89 53 67 30 73 16 69 87 40 31\n",
    "04 62 98 27 23 09 70 98 73 93 38 53 60 04 23\n",
    "\"\"\""
   ]
  },
  {
   "cell_type": "code",
   "execution_count": 450,
   "metadata": {},
   "outputs": [
    {
     "data": {
      "text/plain": [
       "array([[75,  0,  0,  0,  0,  0,  0,  0,  0,  0,  0,  0,  0,  0,  0],\n",
       "       [95, 64,  0,  0,  0,  0,  0,  0,  0,  0,  0,  0,  0,  0,  0],\n",
       "       [17, 47, 82,  0,  0,  0,  0,  0,  0,  0,  0,  0,  0,  0,  0],\n",
       "       [18, 35, 87, 10,  0,  0,  0,  0,  0,  0,  0,  0,  0,  0,  0],\n",
       "       [20,  4, 82, 47, 65,  0,  0,  0,  0,  0,  0,  0,  0,  0,  0],\n",
       "       [19,  1, 23, 75,  3, 34,  0,  0,  0,  0,  0,  0,  0,  0,  0],\n",
       "       [88,  2, 77, 73,  7, 63, 67,  0,  0,  0,  0,  0,  0,  0,  0],\n",
       "       [99, 65,  4, 28,  6, 16, 70, 92,  0,  0,  0,  0,  0,  0,  0],\n",
       "       [41, 41, 26, 56, 83, 40, 80, 70, 33,  0,  0,  0,  0,  0,  0],\n",
       "       [41, 48, 72, 33, 47, 32, 37, 16, 94, 29,  0,  0,  0,  0,  0],\n",
       "       [53, 71, 44, 65, 25, 43, 91, 52, 97, 51, 14,  0,  0,  0,  0],\n",
       "       [70, 11, 33, 28, 77, 73, 17, 78, 39, 68, 17, 57,  0,  0,  0],\n",
       "       [91, 71, 52, 38, 17, 14, 91, 43, 58, 50, 27, 29, 48,  0,  0],\n",
       "       [63, 66,  4, 68, 89, 53, 67, 30, 73, 16, 69, 87, 40, 31,  0],\n",
       "       [ 4, 62, 98, 27, 23,  9, 70, 98, 73, 93, 38, 53, 60,  4, 23]])"
      ]
     },
     "execution_count": 450,
     "metadata": {},
     "output_type": "execute_result"
    }
   ],
   "source": [
    "s = s.split('\\n')[1:-1]\n",
    "tree = np.array([\n",
    "    [int(i) for i in li.split(' ')] + [0] * (len(s)-i) \n",
    "    for i, li in enumerate(s, start=1)\n",
    "])\n",
    "tree"
   ]
  },
  {
   "cell_type": "code",
   "execution_count": 401,
   "metadata": {},
   "outputs": [
    {
     "data": {
      "text/plain": [
       "(15, 15)"
      ]
     },
     "execution_count": 401,
     "metadata": {},
     "output_type": "execute_result"
    }
   ],
   "source": [
    "tree.shape"
   ]
  },
  {
   "cell_type": "code",
   "execution_count": 402,
   "metadata": {},
   "outputs": [],
   "source": [
    "# 아직 효율적으로 코드를 짜진 못하겠다.\n",
    "# 그래도 뭐... 일단 문제부터 풀어야지\n",
    "# 그리고, 웹에서 빠른 속도를 자랑하는 풀이들은 bottom-up\n",
    "# 그러나 앞으로 내가 풀 문제들 (ex> 강화학습)은 결과를 모름\n",
    "# 아닌가...? episode 탐색은 전부하니까 아는건가...\n",
    "# 여튼 뭐 일단 top-down식 검색 방식으로 풀어봄\n",
    "def TTExplore(tree):\n",
    "    window = tree.shape[0]\n",
    "    results = [[0]]\n",
    "    for i in range(window-1):\n",
    "        temp = []\n",
    "        for path in results:\n",
    "            temp.extend([path+[path[-1]], path+[path[-1]+1]])\n",
    "        results = temp\n",
    "    rowind = list(range(1, window))\n",
    "    maxval, ind = max(\n",
    "        [(tree[rowind, path[1:]].sum(), path[-1]) for path in results]\n",
    "    )\n",
    "    return maxval, ind"
   ]
  },
  {
   "cell_type": "code",
   "execution_count": 403,
   "metadata": {},
   "outputs": [
    {
     "name": "stdout",
     "output_type": "stream",
     "text": [
      "1074\n",
      "Wall time: 116 ms\n"
     ]
    }
   ],
   "source": [
    "%%time\n",
    "maxval, ind = TTExplore(tree)\n",
    "print(tree[0, 0] + maxval)"
   ]
  },
  {
   "cell_type": "markdown",
   "metadata": {},
   "source": [
    "# Problem 50\n",
    "### 1백만 이하의 소수 중 가장 길게 연속되는 소수의 합으로 표현되는 수는?"
   ]
  },
  {
   "cell_type": "code",
   "execution_count": 716,
   "metadata": {},
   "outputs": [
    {
     "name": "stdout",
     "output_type": "stream",
     "text": [
      "Wall time: 12 ms\n"
     ]
    }
   ],
   "source": [
    "%%time\n",
    "primes = [n for n in range(2, int(5e3)) if is_prime(n)]"
   ]
  },
  {
   "cell_type": "code",
   "execution_count": 717,
   "metadata": {},
   "outputs": [],
   "source": [
    "cum_primes = [sum(primes[:i]) for i in range(len(primes))]"
   ]
  },
  {
   "cell_type": "code",
   "execution_count": 718,
   "metadata": {},
   "outputs": [
    {
     "name": "stdout",
     "output_type": "stream",
     "text": [
      "997651\n",
      "Wall time: 1e+03 µs\n"
     ]
    }
   ],
   "source": [
    "%%time\n",
    "length = 0\n",
    "ans = None\n",
    "\n",
    "for lo in range(1, len(cum_primes)):\n",
    "    for hi in range(lo+length, len(cum_primes)):\n",
    "        cum_sum = cum_primes[hi] - cum_primes[lo-1]\n",
    "        if (cum_sum in prime_set) and (hi - lo + 1) > length:\n",
    "            length = hi - lo + 1\n",
    "            ans = cum_sum\n",
    "\n",
    "        if cum_sum > 1e6:\n",
    "            break\n",
    "print(ans)"
   ]
  },
  {
   "cell_type": "markdown",
   "metadata": {},
   "source": [
    "# Problem 60\n",
    "### 다섯 소수 중 어떤 두 개를 이어붙여도 소수가 되는 수 찾기"
   ]
  },
  {
   "cell_type": "code",
   "execution_count": 722,
   "metadata": {},
   "outputs": [],
   "source": [
    "pre_primes = [3, 7, 109, 673]"
   ]
  },
  {
   "cell_type": "code",
   "execution_count": 725,
   "metadata": {},
   "outputs": [
    {
     "name": "stdout",
     "output_type": "stream",
     "text": [
      "Wall time: 12 ms\n"
     ]
    }
   ],
   "source": [
    "%%time\n",
    "primes = [n for n in range(2, int(5e3)) if is_prime(n)]"
   ]
  },
  {
   "cell_type": "code",
   "execution_count": 726,
   "metadata": {},
   "outputs": [],
   "source": [
    "for prime in pre_primes:\n",
    "    primes.pop(primes.index(prime))"
   ]
  },
  {
   "cell_type": "code",
   "execution_count": null,
   "metadata": {},
   "outputs": [],
   "source": [
    "for prime in primes:\n",
    "    for i in pre_prime:\n",
    "        if (not is_prime(int(str(i)+str(prime))) and\n",
    "            not is_prime(int(str(prime)+str(i)))):\n",
    "            break\n"
   ]
  },
  {
   "cell_type": "markdown",
   "metadata": {},
   "source": [
    "# Problem 67\n",
    "### 삼각형에서 경로의 합 중 최댓값을 구하는 효율적인 방법은?"
   ]
  },
  {
   "cell_type": "markdown",
   "metadata": {},
   "source": [
    "- 아 Bottom-Up으로 짜야하나... 일단 보류"
   ]
  },
  {
   "cell_type": "code",
   "execution_count": 432,
   "metadata": {},
   "outputs": [],
   "source": [
    "with open('triangle.txt', mode='r') as f:\n",
    "    tree = f.readlines()\n",
    "    tree = np.array([\n",
    "        [int(j) for j in li.split('\\n')[0].split(' ')] + [0] * (len(tree)-i)\n",
    "        for i, li in enumerate(tree, start=1)]\n",
    "    )"
   ]
  },
  {
   "cell_type": "code",
   "execution_count": 477,
   "metadata": {},
   "outputs": [],
   "source": [
    "def TTExplore(tree, k=1):\n",
    "    window = tree.shape[0]\n",
    "    results = [[0]]\n",
    "    for i in range(window-1):\n",
    "        temp = []\n",
    "        for path in results:\n",
    "            temp.extend([path+[path[-1]], path+[path[-1]+1]])\n",
    "        results = temp\n",
    "    rowind = list(range(1, window))\n",
    "    results = sorted([(tree[rowind, path[1:]].sum(), path[-1]) for path in results],\n",
    "           key=lambda x: x[0], reverse=True)[:k]\n",
    "    output = []\n",
    "    for result in results:\n",
    "        if result[1] in [i[1] for i in output]:\n",
    "            continue\n",
    "        output.append(result)\n",
    "    return output"
   ]
  },
  {
   "cell_type": "code",
   "execution_count": 481,
   "metadata": {},
   "outputs": [
    {
     "data": {
      "text/plain": [
       "1074"
      ]
     },
     "execution_count": 481,
     "metadata": {},
     "output_type": "execute_result"
    }
   ],
   "source": [
    "TTExplore(tree, k=1)"
   ]
  },
  {
   "cell_type": "code",
   "execution_count": 438,
   "metadata": {},
   "outputs": [],
   "source": [
    "def GreedyTTE(tree, num_path):\n",
    "    j = 0\n",
    "    MaxVal = tree[0, j]\n",
    "    for i in range(0, len(tree), num_path):\n",
    "        semi_tree = tree[i:i+num_path+1, j:j+num_path+1]\n",
    "        maxval, ind = TTExplore(semi_tree)\n",
    "        j += ind\n",
    "        MaxVal += maxval\n",
    "    return MaxVal, j"
   ]
  },
  {
   "cell_type": "code",
   "execution_count": 484,
   "metadata": {},
   "outputs": [
    {
     "data": {
      "text/plain": [
       "array([[75,  0,  0,  0,  0],\n",
       "       [95, 64,  0,  0,  0],\n",
       "       [17, 47, 82,  0,  0],\n",
       "       [18, 35, 87, 10,  0],\n",
       "       [20,  4, 82, 47, 65]])"
      ]
     },
     "execution_count": 484,
     "metadata": {},
     "output_type": "execute_result"
    }
   ],
   "source": [
    "tree[0:5, 0:5]"
   ]
  },
  {
   "cell_type": "markdown",
   "metadata": {},
   "source": [
    "# Problem 93\n",
    "### 숫자 4개와 사칙연산을 써서 가장 길게 이어지는 숫자 만들기\n",
    "\n",
    "```\n",
    "1부터 4까지의 숫자를 한 번씩만 쓰면서, 사칙연산 기호(+, −, *, /)와 괄호를 적절히 조합하면 각기 다른 양의 정수를 여럿 만들어낼 수 있습니다.\n",
    "\n",
    "몇 가지 예를 들자면 아래와 같습니다.\n",
    "\n",
    "8 = (4 * (1 + 3)) / 2\n",
    "14 = 4 * (3 + 1 / 2)\n",
    "19 = 4 * (2 + 3) − 1\n",
    "36 = 3 * 4 * (2 + 1)\n",
    "\n",
    "이 때 12 + 34 처럼 숫자들을 이어붙이지는 않기로 합니다.\n",
    "\n",
    "이렇게 해서 1 ~ 4의 숫자로는 31개의 다른 결과값(최대 36)을 만들 수 있고, 결과값 중 1부터 28까지는 중간에 끊김 없이 계속 이어집니다.\n",
    "\n",
    "a < b < c < d 인 숫자 네 개로 위와 같이 했을 때 결과값이 1부터 가장 길게 이어지는 수들을 찾고, abcd 의 형태로 답을 제시하세요.\n",
    "```"
   ]
  },
  {
   "cell_type": "code",
   "execution_count": 940,
   "metadata": {},
   "outputs": [],
   "source": [
    "eps = sys.float_info.epsilon\n",
    "\n",
    "\n",
    "def test(numbers):\n",
    "    results = []\n",
    "    for nums in list(permutations(numbers, 4)):\n",
    "        for ops in list(product(*[['+','-','*','/']]*3)):\n",
    "            a, b, c, d = nums\n",
    "            op1, op2, op3 = ops\n",
    "            v1 = eval(f\"(({a}{op1}{b}){op2}{c}){op3}{d}\")\n",
    "            v2 = eval(f\"({a}{op1}{b}){op2}({c}{op3}{d})\")\n",
    "            v3 = eval(f\"({a}{op1}({b}{op2}{c})){op3}{d}\")\n",
    "            v4 = eval(f\"{a}{op1}(({b}{op2}{c}){op3}{d}+{1e-20})\")\n",
    "            v5 = eval(f\"{a}{op1}({b}{op2}({c}{op3}{d})+{1e-20})\")\n",
    "            for v in [v1, v2, v3, v4, v5]:\n",
    "                if round(v) - v < eps * 1e2 and v > 0:\n",
    "                    results.append(v)                \n",
    "    return sorted(np.unique(results))\n",
    "\n",
    "\n",
    "def count_continuous(li):\n",
    "    c = 1\n",
    "    is_continuous = True\n",
    "    while is_continuous:\n",
    "        c += 1\n",
    "        if c in li:\n",
    "            continue\n",
    "        else:\n",
    "            is_continuous = False\n",
    "    return c - 1"
   ]
  },
  {
   "cell_type": "code",
   "execution_count": 941,
   "metadata": {},
   "outputs": [
    {
     "name": "stdout",
     "output_type": "stream",
     "text": [
      "Wall time: 7.88 s\n"
     ]
    }
   ],
   "source": [
    "%%time\n",
    "cases = np.unique([sorted(i) for i in cases], axis=0)\n",
    "results = [count_continuous(test(numbers)) for numbers in cases]"
   ]
  },
  {
   "cell_type": "code",
   "execution_count": 942,
   "metadata": {},
   "outputs": [
    {
     "data": {
      "text/plain": [
       "array([1, 2, 5, 8])"
      ]
     },
     "execution_count": 942,
     "metadata": {},
     "output_type": "execute_result"
    }
   ],
   "source": [
    "cases[np.argmax(results)]"
   ]
  }
 ],
 "metadata": {
  "kernelspec": {
   "display_name": "basic",
   "language": "python",
   "name": "basic"
  },
  "language_info": {
   "codemirror_mode": {
    "name": "ipython",
    "version": 3
   },
   "file_extension": ".py",
   "mimetype": "text/x-python",
   "name": "python",
   "nbconvert_exporter": "python",
   "pygments_lexer": "ipython3",
   "version": "3.6.9"
  }
 },
 "nbformat": 4,
 "nbformat_minor": 4
}
